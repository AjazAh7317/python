{
 "cells": [
  {
   "cell_type": "markdown",
   "id": "a64e9934",
   "metadata": {},
   "source": [
    "Object Oriented Programming Language \n"
   ]
  },
  {
   "cell_type": "markdown",
   "id": "43f09d7a",
   "metadata": {},
   "source": [
    "Class = Plan\n",
    "\n",
    "A class is like a recipe or blueprint / template for creating an object.\n",
    "It tells you how to make something.\n",
    "ex: we are diffrent class of the human being.\n",
    "\n",
    "Object = Real Thing\n",
    "\n",
    "An object is the real thing made using that plan."
   ]
  },
  {
   "cell_type": "code",
   "execution_count": null,
   "id": "a8eccc7a",
   "metadata": {},
   "outputs": [],
   "source": [
    " # just keep the fisrt letter capital letter its not mendat\n"
   ]
  },
  {
   "cell_type": "code",
   "execution_count": 1,
   "id": "14b7e9bf",
   "metadata": {},
   "outputs": [],
   "source": [
    "class Car:\n",
    "    pass\n",
    "    "
   ]
  },
  {
   "cell_type": "code",
   "execution_count": 2,
   "id": "2eff8504",
   "metadata": {},
   "outputs": [],
   "source": [
    "c1=Car()"
   ]
  },
  {
   "cell_type": "code",
   "execution_count": 3,
   "id": "e167da11",
   "metadata": {},
   "outputs": [
    {
     "name": "stdout",
     "output_type": "stream",
     "text": [
      "<class '__main__.Car'>\n"
     ]
    }
   ],
   "source": [
    "print(type(c1))"
   ]
  },
  {
   "cell_type": "code",
   "execution_count": 1,
   "id": "3333917c",
   "metadata": {},
   "outputs": [],
   "source": [
    "class bank:\n",
    "    def deposit(self):\n",
    "        print(\"Deposit method called\")\n",
    "    def withdraw(self):\n",
    "        print(\"Withdraw method called\")\n",
    "        \n",
    "\n"
   ]
  },
  {
   "cell_type": "code",
   "execution_count": 3,
   "id": "85e09340",
   "metadata": {},
   "outputs": [
    {
     "name": "stdout",
     "output_type": "stream",
     "text": [
      "Deposit method called\n"
     ]
    }
   ],
   "source": [
    "c1=bank()\n",
    "c1.deposit()"
   ]
  },
  {
   "cell_type": "code",
   "execution_count": 4,
   "id": "ce14c04c",
   "metadata": {},
   "outputs": [
    {
     "name": "stdout",
     "output_type": "stream",
     "text": [
      "Withdraw method called\n"
     ]
    }
   ],
   "source": [
    "c1.withdraw()"
   ]
  },
  {
   "cell_type": "code",
   "execution_count": 5,
   "id": "47ed8352",
   "metadata": {},
   "outputs": [],
   "source": [
    "#passing data in the class\n",
    "class bank:\n",
    "    def deposit(self,amount):\n",
    "        print(\"Deposit method called\")\n",
    "        \n",
    "    def withdraw(self,amount_withdraw):\n",
    "        print(\"Withdraw method called\")\n",
    "        \n",
    "\n"
   ]
  },
  {
   "cell_type": "code",
   "execution_count": 6,
   "id": "f66586a5",
   "metadata": {},
   "outputs": [
    {
     "name": "stdout",
     "output_type": "stream",
     "text": [
      "Withdraw method called\n"
     ]
    }
   ],
   "source": [
    "c1=bank()\n",
    "c1.withdraw(1000)"
   ]
  },
  {
   "cell_type": "code",
   "execution_count": 8,
   "id": "6fe1d0e2",
   "metadata": {},
   "outputs": [
    {
     "name": "stdout",
     "output_type": "stream",
     "text": [
      "Deposit method called\n"
     ]
    }
   ],
   "source": [
    "c1.deposit(1000)"
   ]
  },
  {
   "cell_type": "code",
   "execution_count": 9,
   "id": "05a4a845",
   "metadata": {},
   "outputs": [],
   "source": [
    "class bank:\n",
    "    amount=1000\n",
    "    def deposit(self,amount):\n",
    "        print(\"Deposit method called\")\n",
    "    def withdraw(self,amount_withdraw):\n",
    "        print(\"Withdraw method called\")\n",
    "        \n",
    "\n"
   ]
  },
  {
   "cell_type": "code",
   "execution_count": 10,
   "id": "e252c23f",
   "metadata": {},
   "outputs": [
    {
     "name": "stdout",
     "output_type": "stream",
     "text": [
      "1000\n"
     ]
    }
   ],
   "source": [
    "aj=bank()\n",
    "print(aj.amount)"
   ]
  },
  {
   "cell_type": "code",
   "execution_count": 11,
   "id": "aac26548",
   "metadata": {},
   "outputs": [
    {
     "name": "stdout",
     "output_type": "stream",
     "text": [
      "Deposit method called\n",
      "Withdraw method called\n"
     ]
    }
   ],
   "source": [
    "aj.deposit(500)\n",
    "aj.withdraw(200)"
   ]
  },
  {
   "cell_type": "code",
   "execution_count": 12,
   "id": "ec3b3df3",
   "metadata": {},
   "outputs": [],
   "source": [
    "class bank:\n",
    "    amount=1000\n",
    "    def deposit(self,amount):\n",
    "        print(\"Deposit method called\")\n",
    "        self.amount += amount\n",
    "        print(\"Available balance is:\",self.amount)\n",
    "    def withdraw(self,amount_withdraw):\n",
    "        print(\"Withdraw method called\")\n",
    "        if amount_withdraw>self.amount:\n",
    "            print(\"Insufficient balance\")\n",
    "        else:\n",
    "            self.amount -= amount_withdraw\n",
    "            print(\"Available balance is:\",self.amount)\n",
    "        "
   ]
  },
  {
   "cell_type": "code",
   "execution_count": 13,
   "id": "1a4c9819",
   "metadata": {},
   "outputs": [
    {
     "name": "stdout",
     "output_type": "stream",
     "text": [
      "Deposit method called\n",
      "Available balance is: 1500\n"
     ]
    }
   ],
   "source": [
    "a=bank()\n",
    "a.deposit(500)"
   ]
  },
  {
   "cell_type": "code",
   "execution_count": 14,
   "id": "87789fe6",
   "metadata": {},
   "outputs": [
    {
     "name": "stdout",
     "output_type": "stream",
     "text": [
      "Withdraw method called\n",
      "Available balance is: 1300\n"
     ]
    }
   ],
   "source": [
    "a.withdraw(200)"
   ]
  },
  {
   "cell_type": "code",
   "execution_count": null,
   "id": "4267c18c",
   "metadata": {},
   "outputs": [],
   "source": []
  }
 ],
 "metadata": {
  "kernelspec": {
   "display_name": "Python 3",
   "language": "python",
   "name": "python3"
  },
  "language_info": {
   "codemirror_mode": {
    "name": "ipython",
    "version": 3
   },
   "file_extension": ".py",
   "mimetype": "text/x-python",
   "name": "python",
   "nbconvert_exporter": "python",
   "pygments_lexer": "ipython3",
   "version": "3.10.11"
  }
 },
 "nbformat": 4,
 "nbformat_minor": 5
}
