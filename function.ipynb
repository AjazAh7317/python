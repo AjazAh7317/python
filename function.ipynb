{
 "cells": [
  {
   "cell_type": "markdown",
   "id": "1cc80a9b",
   "metadata": {},
   "source": [
    "Function : A function is a block of code that does one specific job. You can reuse it whenever you want, instead of writing the same code again and again.\n",
    "           "
   ]
  },
  {
   "cell_type": "code",
   "execution_count": 1,
   "id": "960d4299",
   "metadata": {},
   "outputs": [
    {
     "name": "stdout",
     "output_type": "stream",
     "text": [
      "hello\n"
     ]
    }
   ],
   "source": [
    "print(\"hello\")"
   ]
  },
  {
   "cell_type": "code",
   "execution_count": 2,
   "id": "645a2990",
   "metadata": {},
   "outputs": [
    {
     "data": {
      "text/plain": [
       "6"
      ]
     },
     "execution_count": 2,
     "metadata": {},
     "output_type": "execute_result"
    }
   ],
   "source": [
    "import math as m\n",
    "m.floor(6.5)"
   ]
  },
  {
   "cell_type": "code",
   "execution_count": 3,
   "id": "b272e9c3",
   "metadata": {},
   "outputs": [
    {
     "data": {
      "text/plain": [
       "7"
      ]
     },
     "execution_count": 3,
     "metadata": {},
     "output_type": "execute_result"
    }
   ],
   "source": [
    "m.ceil(6.5)"
   ]
  },
  {
   "cell_type": "code",
   "execution_count": 4,
   "id": "dca36c06",
   "metadata": {},
   "outputs": [],
   "source": [
    "# syntax of function\n",
    "# def func():\n",
    "    # body of the function\n",
    "    "
   ]
  },
  {
   "cell_type": "markdown",
   "id": "638cfa55",
   "metadata": {},
   "source": [
    "why function :\n",
    "Avoid Repeating Code\n",
    "Make Co\n",
    "de Easy to Read\n",
    "Make Code Easy to Fix or Update\n",
    "Save Time and Effort\n",
    "\n"
   ]
  },
  {
   "cell_type": "code",
   "execution_count": 5,
   "id": "2f071e52",
   "metadata": {},
   "outputs": [],
   "source": [
    "def greet():\n",
    "    print(\"welcome to the office\")"
   ]
  },
  {
   "cell_type": "code",
   "execution_count": null,
   "id": "8b429e18",
   "metadata": {},
   "outputs": [],
   "source": [
    "# how we will call the function \n",
    "#print(\"hello world\")"
   ]
  },
  {
   "cell_type": "code",
   "execution_count": 6,
   "id": "dc585d3c",
   "metadata": {},
   "outputs": [
    {
     "name": "stdout",
     "output_type": "stream",
     "text": [
      "welcome to the office\n"
     ]
    }
   ],
   "source": [
    "greet()"
   ]
  },
  {
   "cell_type": "code",
   "execution_count": 8,
   "id": "f9f24629",
   "metadata": {},
   "outputs": [],
   "source": [
    "def greets(name):\n",
    "    print(\"welcome to the office\",name)#passing a variable inside the function"
   ]
  },
  {
   "cell_type": "code",
   "execution_count": 9,
   "id": "86287b24",
   "metadata": {},
   "outputs": [
    {
     "name": "stdout",
     "output_type": "stream",
     "text": [
      "welcome to the office ajaz\n"
     ]
    }
   ],
   "source": [
    "greets(\"ajaz\")"
   ]
  },
  {
   "cell_type": "code",
   "execution_count": 10,
   "id": "793c44b4",
   "metadata": {},
   "outputs": [
    {
     "name": "stdout",
     "output_type": "stream",
     "text": [
      "welcome to the office ahamad\n"
     ]
    }
   ],
   "source": [
    "greets(\"ahamad\")"
   ]
  },
  {
   "cell_type": "code",
   "execution_count": 12,
   "id": "2d2c7f7a",
   "metadata": {},
   "outputs": [
    {
     "ename": "TypeError",
     "evalue": "greets() missing 1 required positional argument: 'name'",
     "output_type": "error",
     "traceback": [
      "\u001b[1;31m---------------------------------------------------------------------------\u001b[0m",
      "\u001b[1;31mTypeError\u001b[0m                                 Traceback (most recent call last)",
      "Cell \u001b[1;32mIn[12], line 1\u001b[0m\n\u001b[1;32m----> 1\u001b[0m \u001b[43mgreets\u001b[49m\u001b[43m(\u001b[49m\u001b[43m)\u001b[49m\u001b[38;5;66;03m# it will through an error\u001b[39;00m\n",
      "\u001b[1;31mTypeError\u001b[0m: greets() missing 1 required positional argument: 'name'"
     ]
    }
   ],
   "source": [
    "greets()# it will through an error"
   ]
  },
  {
   "cell_type": "code",
   "execution_count": 13,
   "id": "0a045879",
   "metadata": {},
   "outputs": [
    {
     "name": "stdout",
     "output_type": "stream",
     "text": [
      "this is my function\n"
     ]
    }
   ],
   "source": [
    "def func():\n",
    "    print(\"this is my function\")\n",
    "    \n",
    "func()"
   ]
  },
  {
   "cell_type": "code",
   "execution_count": 14,
   "id": "8b59cf45",
   "metadata": {},
   "outputs": [
    {
     "name": "stdout",
     "output_type": "stream",
     "text": [
      "this is my function\n"
     ]
    },
    {
     "ename": "TypeError",
     "evalue": "unsupported operand type(s) for *: 'NoneType' and 'int'",
     "output_type": "error",
     "traceback": [
      "\u001b[1;31m---------------------------------------------------------------------------\u001b[0m",
      "\u001b[1;31mTypeError\u001b[0m                                 Traceback (most recent call last)",
      "Cell \u001b[1;32mIn[14], line 1\u001b[0m\n\u001b[1;32m----> 1\u001b[0m \u001b[43mfunc\u001b[49m\u001b[43m(\u001b[49m\u001b[43m)\u001b[49m\u001b[38;5;241;43m*\u001b[39;49m\u001b[38;5;241;43m3\u001b[39;49m\n",
      "\u001b[1;31mTypeError\u001b[0m: unsupported operand type(s) for *: 'NoneType' and 'int'"
     ]
    }
   ],
   "source": [
    "func()*3"
   ]
  },
  {
   "cell_type": "code",
   "execution_count": 15,
   "id": "fcc65a36",
   "metadata": {},
   "outputs": [],
   "source": [
    " def func1():\n",
    "     return\"this is my first function\",1,2,2.2"
   ]
  },
  {
   "cell_type": "code",
   "execution_count": 16,
   "id": "3ed479d9",
   "metadata": {},
   "outputs": [
    {
     "data": {
      "text/plain": [
       "('this is my first function', 1, 2, 2.2)"
      ]
     },
     "execution_count": 16,
     "metadata": {},
     "output_type": "execute_result"
    }
   ],
   "source": [
    "func1()"
   ]
  },
  {
   "cell_type": "code",
   "execution_count": 17,
   "id": "96d177cb",
   "metadata": {},
   "outputs": [
    {
     "data": {
      "text/plain": [
       "function"
      ]
     },
     "execution_count": 17,
     "metadata": {},
     "output_type": "execute_result"
    }
   ],
   "source": [
    "type(func1)"
   ]
  },
  {
   "cell_type": "code",
   "execution_count": 18,
   "id": "b189d411",
   "metadata": {},
   "outputs": [],
   "source": [
    "a,b,c,d=func1()"
   ]
  },
  {
   "cell_type": "code",
   "execution_count": 19,
   "id": "895958e9",
   "metadata": {},
   "outputs": [
    {
     "data": {
      "text/plain": [
       "'this is my first function'"
      ]
     },
     "execution_count": 19,
     "metadata": {},
     "output_type": "execute_result"
    }
   ],
   "source": [
    "a"
   ]
  },
  {
   "cell_type": "code",
   "execution_count": 20,
   "id": "d29a45dd",
   "metadata": {},
   "outputs": [
    {
     "data": {
      "text/plain": [
       "('this is my first function', 1, 2)"
      ]
     },
     "execution_count": 20,
     "metadata": {},
     "output_type": "execute_result"
    }
   ],
   "source": [
    "a,b,c"
   ]
  },
  {
   "cell_type": "code",
   "execution_count": 24,
   "id": "c0dce91d",
   "metadata": {},
   "outputs": [
    {
     "data": {
      "text/plain": [
       "23"
      ]
     },
     "execution_count": 24,
     "metadata": {},
     "output_type": "execute_result"
    }
   ],
   "source": [
    "def func():\n",
    "    cal=2+6+8+7\n",
    "    return cal\n",
    "func()"
   ]
  },
  {
   "cell_type": "code",
   "execution_count": 26,
   "id": "9f619352",
   "metadata": {},
   "outputs": [
    {
     "data": {
      "text/plain": [
       "int"
      ]
     },
     "execution_count": 26,
     "metadata": {},
     "output_type": "execute_result"
    }
   ],
   "source": [
    "type(func())"
   ]
  },
  {
   "cell_type": "code",
   "execution_count": 27,
   "id": "2843ae6c",
   "metadata": {},
   "outputs": [],
   "source": [
    "def square_no(a):\n",
    "    return a*a"
   ]
  },
  {
   "cell_type": "code",
   "execution_count": 28,
   "id": "d25f3ef6",
   "metadata": {},
   "outputs": [
    {
     "data": {
      "text/plain": [
       "25"
      ]
     },
     "execution_count": 28,
     "metadata": {},
     "output_type": "execute_result"
    }
   ],
   "source": [
    "square_no(5)"
   ]
  },
  {
   "cell_type": "code",
   "execution_count": null,
   "id": "5cf76c40",
   "metadata": {},
   "outputs": [],
   "source": [
    "def addtion(a,b):  # a, b are positional arguments means it maintains order\n",
    "    return a+b\n",
    "\n"
   ]
  },
  {
   "cell_type": "code",
   "execution_count": 30,
   "id": "c9942682",
   "metadata": {},
   "outputs": [
    {
     "data": {
      "text/plain": [
       "13"
      ]
     },
     "execution_count": 30,
     "metadata": {},
     "output_type": "execute_result"
    }
   ],
   "source": [
    "addtion(5,8)"
   ]
  },
  {
   "cell_type": "code",
   "execution_count": 33,
   "id": "a9425582",
   "metadata": {},
   "outputs": [
    {
     "data": {
      "text/plain": [
       "'ajazahamad'"
      ]
     },
     "execution_count": 33,
     "metadata": {},
     "output_type": "execute_result"
    }
   ],
   "source": [
    "addtion(\"ajaz\",\"ahamad\")"
   ]
  },
  {
   "cell_type": "code",
   "execution_count": null,
   "id": "219e741a",
   "metadata": {},
   "outputs": [
    {
     "data": {
      "text/plain": [
       "'ahmadajaz'"
      ]
     },
     "execution_count": 34,
     "metadata": {},
     "output_type": "execute_result"
    }
   ],
   "source": [
    "addtion(\"ahmad\",\"ajaz\")  # # a, b are positional arguments means it maintains order"
   ]
  },
  {
   "cell_type": "code",
   "execution_count": 35,
   "id": "9504f44b",
   "metadata": {},
   "outputs": [
    {
     "data": {
      "text/plain": [
       "'ajazahamad'"
      ]
     },
     "execution_count": 35,
     "metadata": {},
     "output_type": "execute_result"
    }
   ],
   "source": [
    "addtion(b=\"ahamad\",a=\"ajaz\")"
   ]
  },
  {
   "cell_type": "code",
   "execution_count": 36,
   "id": "8da0066a",
   "metadata": {},
   "outputs": [
    {
     "data": {
      "text/plain": [
       "[1, 2, 3, 4, 5, 8]"
      ]
     },
     "execution_count": 36,
     "metadata": {},
     "output_type": "execute_result"
    }
   ],
   "source": [
    "addtion([1,2,3],[4,5,8])"
   ]
  },
  {
   "cell_type": "code",
   "execution_count": null,
   "id": "e4253211",
   "metadata": {},
   "outputs": [],
   "source": [
    "def sum1(a,b,c=4):  # Default Argument it will be in the last\n",
    "    return a+b+c"
   ]
  },
  {
   "cell_type": "code",
   "execution_count": null,
   "id": "5aaba142",
   "metadata": {},
   "outputs": [
    {
     "data": {
      "text/plain": [
       "7"
      ]
     },
     "execution_count": 43,
     "metadata": {},
     "output_type": "execute_result"
    }
   ],
   "source": [
    "sum1(1,2,3)"
   ]
  },
  {
   "cell_type": "code",
   "execution_count": 44,
   "id": "37c64920",
   "metadata": {},
   "outputs": [],
   "source": [
    "def s(a=0,b=4,c=5):\n",
    "    return a+b+c"
   ]
  },
  {
   "cell_type": "code",
   "execution_count": 45,
   "id": "f0540cf6",
   "metadata": {},
   "outputs": [
    {
     "data": {
      "text/plain": [
       "9"
      ]
     },
     "execution_count": 45,
     "metadata": {},
     "output_type": "execute_result"
    }
   ],
   "source": [
    "s()"
   ]
  },
  {
   "cell_type": "code",
   "execution_count": 1,
   "id": "159b07fb",
   "metadata": {},
   "outputs": [],
   "source": [
    "def add_no():\n",
    "    a=int(input(\"enter the number\"))\n",
    "    b-=int(input(\"enter the second number\"))\n",
    "    return a+b"
   ]
  },
  {
   "cell_type": "code",
   "execution_count": null,
   "id": "21d3380b",
   "metadata": {},
   "outputs": [
    {
     "name": "stdout",
     "output_type": "stream",
     "text": [
      "hello\n"
     ]
    }
   ],
   "source": [
    "print(\"hello\")"
   ]
  },
  {
   "cell_type": "code",
   "execution_count": 2,
   "id": "79a70be0",
   "metadata": {},
   "outputs": [],
   "source": [
    "def num(a):\n",
    "    n=[]\n",
    "    for i in a :\n",
    "        if type(i)==int or type(i)==float:\n",
    "            n.append(i)\n",
    "    return n\n"
   ]
  },
  {
   "cell_type": "code",
   "execution_count": 3,
   "id": "6a1d2cc6",
   "metadata": {},
   "outputs": [
    {
     "data": {
      "text/plain": [
       "[1, 2, 3, 5.6, 7.8, 9]"
      ]
     },
     "execution_count": 3,
     "metadata": {},
     "output_type": "execute_result"
    }
   ],
   "source": [
    "num([1,2,3,\"ajaz\",5.6,7.8,\"ahamad\",9])"
   ]
  },
  {
   "cell_type": "code",
   "execution_count": 5,
   "id": "da306e6a",
   "metadata": {},
   "outputs": [],
   "source": [
    "def sum1(a,b):\n",
    "    return a+b"
   ]
  },
  {
   "cell_type": "code",
   "execution_count": 6,
   "id": "86786af9",
   "metadata": {},
   "outputs": [
    {
     "data": {
      "text/plain": [
       "11"
      ]
     },
     "execution_count": 6,
     "metadata": {},
     "output_type": "execute_result"
    }
   ],
   "source": [
    "sum1(5,6)"
   ]
  },
  {
   "cell_type": "code",
   "execution_count": 7,
   "id": "3c9684d3",
   "metadata": {},
   "outputs": [
    {
     "ename": "TypeError",
     "evalue": "sum1() takes 2 positional arguments but 3 were given",
     "output_type": "error",
     "traceback": [
      "\u001b[1;31m---------------------------------------------------------------------------\u001b[0m",
      "\u001b[1;31mTypeError\u001b[0m                                 Traceback (most recent call last)",
      "Cell \u001b[1;32mIn[7], line 1\u001b[0m\n\u001b[1;32m----> 1\u001b[0m \u001b[43msum1\u001b[49m\u001b[43m(\u001b[49m\u001b[38;5;241;43m5\u001b[39;49m\u001b[43m,\u001b[49m\u001b[38;5;241;43m6\u001b[39;49m\u001b[43m,\u001b[49m\u001b[38;5;241;43m7\u001b[39;49m\u001b[43m)\u001b[49m\n",
      "\u001b[1;31mTypeError\u001b[0m: sum1() takes 2 positional arguments but 3 were given"
     ]
    }
   ],
   "source": [
    "sum1(5,6,7)"
   ]
  },
  {
   "cell_type": "code",
   "execution_count": null,
   "id": "65001071",
   "metadata": {},
   "outputs": [],
   "source": [
    "# variable length argument when you do not know how many arguments will be passed in the function"
   ]
  },
  {
   "cell_type": "code",
   "execution_count": 9,
   "id": "6c88fbfd",
   "metadata": {},
   "outputs": [],
   "source": [
    "def sum1(*args):\n",
    "    return (args)"
   ]
  },
  {
   "cell_type": "code",
   "execution_count": 10,
   "id": "b8ece9ea",
   "metadata": {},
   "outputs": [
    {
     "data": {
      "text/plain": [
       "(5, 6)"
      ]
     },
     "execution_count": 10,
     "metadata": {},
     "output_type": "execute_result"
    }
   ],
   "source": [
    "sum1(5,6)"
   ]
  },
  {
   "cell_type": "code",
   "execution_count": 11,
   "id": "a803e714",
   "metadata": {},
   "outputs": [
    {
     "data": {
      "text/plain": [
       "(5, 6, 7, 8)"
      ]
     },
     "execution_count": 11,
     "metadata": {},
     "output_type": "execute_result"
    }
   ],
   "source": [
    "sum1(5,6,7,8)"
   ]
  },
  {
   "cell_type": "code",
   "execution_count": 12,
   "id": "f54770a3",
   "metadata": {},
   "outputs": [],
   "source": [
    "def add_no(*args):\n",
    "    sum=0\n",
    "    for i in args:\n",
    "        sum=sum+i\n",
    "    return sum"
   ]
  },
  {
   "cell_type": "code",
   "execution_count": 14,
   "id": "9896fdf1",
   "metadata": {},
   "outputs": [
    {
     "data": {
      "text/plain": [
       "26"
      ]
     },
     "execution_count": 14,
     "metadata": {},
     "output_type": "execute_result"
    }
   ],
   "source": [
    "add_no(5,6,7,8)"
   ]
  },
  {
   "cell_type": "code",
   "execution_count": 15,
   "id": "124e041f",
   "metadata": {},
   "outputs": [
    {
     "data": {
      "text/plain": [
       "11"
      ]
     },
     "execution_count": 15,
     "metadata": {},
     "output_type": "execute_result"
    }
   ],
   "source": [
    "add_no(4,7)"
   ]
  },
  {
   "cell_type": "code",
   "execution_count": null,
   "id": "b42e5a36",
   "metadata": {},
   "outputs": [],
   "source": [
    "#variable argument with default argument\n",
    "#takes any number of arguments and one default argument\n"
   ]
  },
  {
   "cell_type": "code",
   "execution_count": 17,
   "id": "1b6435ab",
   "metadata": {},
   "outputs": [],
   "source": [
    "#write a function which can take any number of values and returns the list"
   ]
  },
  {
   "cell_type": "code",
   "execution_count": 18,
   "id": "68905948",
   "metadata": {},
   "outputs": [],
   "source": [
    "def return_list(*args):\n",
    "    lst=[]\n",
    "    for i in args:\n",
    "        if type(i)==list:\n",
    "            lst.append(i)\n",
    "    return lst"
   ]
  },
  {
   "cell_type": "code",
   "execution_count": 20,
   "id": "3450c60c",
   "metadata": {},
   "outputs": [
    {
     "data": {
      "text/plain": [
       "[[1, 2, 3], [4, 5, 6], [10, 11]]"
      ]
     },
     "execution_count": 20,
     "metadata": {},
     "output_type": "execute_result"
    }
   ],
   "source": [
    "return_list([1,2,3],[4,5,6],7,8,9,[10,11],{2,3,5},(5,6),\"ajaz\")"
   ]
  },
  {
   "cell_type": "code",
   "execution_count": null,
   "id": "2403fc68",
   "metadata": {},
   "outputs": [],
   "source": [
    "#python namesapce\n",
    "def greet():\n",
    "    message=\"hello\"  # this is local variable\n",
    "    print(message)"
   ]
  },
  {
   "cell_type": "code",
   "execution_count": 22,
   "id": "861a4dc3",
   "metadata": {},
   "outputs": [
    {
     "name": "stdout",
     "output_type": "stream",
     "text": [
      "hello\n"
     ]
    }
   ],
   "source": [
    "greet()"
   ]
  },
  {
   "cell_type": "code",
   "execution_count": 23,
   "id": "9eccbfc2",
   "metadata": {},
   "outputs": [
    {
     "ename": "NameError",
     "evalue": "name 'message' is not defined",
     "output_type": "error",
     "traceback": [
      "\u001b[1;31m---------------------------------------------------------------------------\u001b[0m",
      "\u001b[1;31mNameError\u001b[0m                                 Traceback (most recent call last)",
      "Cell \u001b[1;32mIn[23], line 1\u001b[0m\n\u001b[1;32m----> 1\u001b[0m \u001b[38;5;28mprint\u001b[39m(\u001b[43mmessage\u001b[49m)\n",
      "\u001b[1;31mNameError\u001b[0m: name 'message' is not defined"
     ]
    }
   ],
   "source": [
    "print(message)"
   ]
  },
  {
   "cell_type": "code",
   "execution_count": null,
   "id": "ab39b7f7",
   "metadata": {},
   "outputs": [],
   "source": [
    "subpart=\"to the cource\"   # global variable\n",
    "def greet():\n",
    "    message=\"hello\"  # this is local variable\n",
    "    print(message,subpart)\n",
    "    "
   ]
  },
  {
   "cell_type": "code",
   "execution_count": 25,
   "id": "12a960ec",
   "metadata": {},
   "outputs": [
    {
     "name": "stdout",
     "output_type": "stream",
     "text": [
      "to the cource\n"
     ]
    }
   ],
   "source": [
    "print(subpart)"
   ]
  },
  {
   "cell_type": "code",
   "execution_count": 31,
   "id": "7e2f2977",
   "metadata": {},
   "outputs": [],
   "source": [
    "# function inside function\n",
    "def marks_in_subject(**kwargs):\n",
    "    marks_list=[]\n",
    "    for sub,mark in kwargs.items():\n",
    "        marks_list.append(mark)\n",
    "    return marks_list\n",
    "        \n",
    "    "
   ]
  },
  {
   "cell_type": "code",
   "execution_count": 32,
   "id": "5b15d572",
   "metadata": {},
   "outputs": [
    {
     "data": {
      "text/plain": [
       "[90, 80, 85, 88]"
      ]
     },
     "execution_count": 32,
     "metadata": {},
     "output_type": "execute_result"
    }
   ],
   "source": [
    "marks_in_subject(math=90,science=80,english=85,social=88)"
   ]
  },
  {
   "cell_type": "code",
   "execution_count": 33,
   "id": "02d02811",
   "metadata": {},
   "outputs": [],
   "source": [
    "def marks_in_subject(**kwargs):\n",
    "    def total_marks():\n",
    "        return sum(marks_list)\n",
    "    marks_list=[]\n",
    "    for sub,mark in kwargs.items():\n",
    "        marks_list.append(mark)\n",
    "    return total_marks(marks_list)"
   ]
  },
  {
   "cell_type": "code",
   "execution_count": 35,
   "id": "6392b044",
   "metadata": {},
   "outputs": [
    {
     "data": {
      "text/plain": [
       "130"
      ]
     },
     "execution_count": 35,
     "metadata": {},
     "output_type": "execute_result"
    }
   ],
   "source": [
    "sum([60,70])"
   ]
  },
  {
   "cell_type": "code",
   "execution_count": 37,
   "id": "2b61e6c3",
   "metadata": {},
   "outputs": [],
   "source": [
    "subpart = \"to the course\""
   ]
  },
  {
   "cell_type": "code",
   "execution_count": 39,
   "id": "6b57ca6d",
   "metadata": {},
   "outputs": [],
   "source": [
    "def find_power(num,power):\n",
    "    \"\"\" This function returns the power of a number \n",
    "    args:\n",
    "    num : int : number to be raised to a power\n",
    "    power : int : the exponent to which the number is raised\"\"\"\n",
    "\n",
    "    return num ** power"
   ]
  },
  {
   "cell_type": "code",
   "execution_count": 40,
   "id": "5477cdf4",
   "metadata": {},
   "outputs": [
    {
     "name": "stdout",
     "output_type": "stream",
     "text": [
      "Help on function find_power in module __main__:\n",
      "\n",
      "find_power(num, power)\n",
      "    This function returns the power of a number \n",
      "    args:\n",
      "    num : int : number to be raised to a power\n",
      "    power : int : the exponent to which the number is raised\n",
      "\n"
     ]
    }
   ],
   "source": [
    "help(find_power)"
   ]
  },
  {
   "cell_type": "code",
   "execution_count": 41,
   "id": "975d4b3b",
   "metadata": {},
   "outputs": [
    {
     "name": "stdout",
     "output_type": "stream",
     "text": [
      " This function returns the power of a number \n",
      "    args:\n",
      "    num : int : number to be raised to a power\n",
      "    power : int : the exponent to which the number is raised\n"
     ]
    }
   ],
   "source": [
    "print(find_power.__doc__)"
   ]
  },
  {
   "cell_type": "code",
   "execution_count": null,
   "id": "553b0f4e",
   "metadata": {},
   "outputs": [],
   "source": []
  }
 ],
 "metadata": {
  "kernelspec": {
   "display_name": "Python 3",
   "language": "python",
   "name": "python3"
  },
  "language_info": {
   "codemirror_mode": {
    "name": "ipython",
    "version": 3
   },
   "file_extension": ".py",
   "mimetype": "text/x-python",
   "name": "python",
   "nbconvert_exporter": "python",
   "pygments_lexer": "ipython3",
   "version": "3.10.11"
  }
 },
 "nbformat": 4,
 "nbformat_minor": 5
}
