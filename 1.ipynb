{
 "cells": [
  {
   "cell_type": "code",
   "execution_count": null,
   "id": "c3007dc8",
   "metadata": {},
   "outputs": [
    {
     "name": "stdout",
     "output_type": "stream",
     "text": [
      "1\n",
      "2\n",
      "3\n",
      "4\n",
      "5\n",
      "6\n"
     ]
    }
   ],
   "source": [
    "# while loop\n",
    "\n",
    "\n",
    "n=7\n",
    "i=1\n",
    "while(i<n):\n",
    "    print(i)\n",
    "    i=i+1\n",
    "    "
   ]
  },
  {
   "cell_type": "code",
   "execution_count": 7,
   "id": "8ac5c498",
   "metadata": {},
   "outputs": [
    {
     "name": "stdout",
     "output_type": "stream",
     "text": [
      "5\n",
      "4\n",
      "3\n",
      "2\n",
      "1\n",
      "this condition will run successfully if while loop will run successfully\n"
     ]
    }
   ],
   "source": [
    "count=5\n",
    "while count >0:\n",
    "    print(count)\n",
    "    count=count-1\n",
    "else:\n",
    "    print(\"this condition will run successfully if while loop will run successfully\")"
   ]
  },
  {
   "cell_type": "code",
   "execution_count": 9,
   "id": "1ac92e23",
   "metadata": {},
   "outputs": [
    {
     "name": "stdout",
     "output_type": "stream",
     "text": [
      "1\n",
      "2\n"
     ]
    }
   ],
   "source": [
    "n=7\n",
    "i=1\n",
    "while i<n:\n",
    "    print(i)\n",
    "    i=i+1\n",
    "    if i==3:\n",
    "        break \n",
    "else:\n",
    "    print(\"this condition will run successfully if while loop will run successfully\")"
   ]
  },
  {
   "cell_type": "code",
   "execution_count": 11,
   "id": "5a6f9823",
   "metadata": {},
   "outputs": [
    {
     "name": "stdout",
     "output_type": "stream",
     "text": [
      "2\n",
      "4\n",
      "5\n",
      "6\n",
      "7\n",
      "this condition will run successfully if while loop will run successfully\n"
     ]
    }
   ],
   "source": [
    "n=7\n",
    "i=1\n",
    "while i<n:\n",
    "    \n",
    "    i=i+1\n",
    "    if i==3:\n",
    "        continue\n",
    "    print(i)\n",
    "else:\n",
    "    print(\"this condition will run successfully if while loop will run successfully\")"
   ]
  },
  {
   "cell_type": "code",
   "execution_count": 12,
   "id": "e811c3f8",
   "metadata": {},
   "outputs": [
    {
     "name": "stdout",
     "output_type": "stream",
     "text": [
      "a\n",
      "j\n",
      "a\n",
      "z\n"
     ]
    }
   ],
   "source": [
    "#for loops: iterate over a sequence of elements \n",
    "for i in \"ajaz\":\n",
    "    print(i)"
   ]
  },
  {
   "cell_type": "code",
   "execution_count": 13,
   "id": "48c8318f",
   "metadata": {},
   "outputs": [
    {
     "name": "stdout",
     "output_type": "stream",
     "text": [
      "1\n",
      "2\n",
      "ajaz\n",
      "ahamad\n"
     ]
    }
   ],
   "source": [
    "l=[1,2,\"ajaz\",\"ahamad\"]\n",
    "for i in l:\n",
    "    print(i)"
   ]
  },
  {
   "cell_type": "code",
   "execution_count": 14,
   "id": "5536f2f1",
   "metadata": {},
   "outputs": [
    {
     "name": "stdout",
     "output_type": "stream",
     "text": [
      "1\n",
      "2\n",
      "ajaz\n",
      "ahamad\n",
      "this will be executed when for loop ends without a break statement\n"
     ]
    }
   ],
   "source": [
    "for i in l:\n",
    "    print(i)\n",
    "else:\n",
    "    print(\"this will be executed when for loop ends without a break statement\")"
   ]
  },
  {
   "cell_type": "code",
   "execution_count": 15,
   "id": "3937c768",
   "metadata": {},
   "outputs": [
    {
     "name": "stdout",
     "output_type": "stream",
     "text": [
      "1\n",
      "2\n"
     ]
    }
   ],
   "source": [
    "for i in l:\n",
    "    if i==\"ajaz\":\n",
    "        break\n",
    "    print(i)\n",
    "else:\n",
    "    print(\"this will be excuted when for loops ends without a break\")"
   ]
  },
  {
   "cell_type": "code",
   "execution_count": 16,
   "id": "403fd52d",
   "metadata": {},
   "outputs": [
    {
     "name": "stdout",
     "output_type": "stream",
     "text": [
      "1\n",
      "2\n",
      "ahamad\n",
      "this will be excuted when for loops ends without a break\n"
     ]
    }
   ],
   "source": [
    "for i in l:\n",
    "    if i==\"ajaz\":\n",
    "        continue\n",
    "    print(i)\n",
    "else:\n",
    "    print(\"this will be excuted when for loops ends without a break\")"
   ]
  },
  {
   "cell_type": "code",
   "execution_count": 17,
   "id": "6ba91874",
   "metadata": {},
   "outputs": [
    {
     "data": {
      "text/plain": [
       "[0, 1, 2, 3, 4, 5, 6, 7, 8, 9]"
      ]
     },
     "execution_count": 17,
     "metadata": {},
     "output_type": "execute_result"
    }
   ],
   "source": [
    "list(range(0,10))# it will give value 0 to 9"
   ]
  },
  {
   "cell_type": "code",
   "execution_count": 18,
   "id": "6f4d452f",
   "metadata": {},
   "outputs": [
    {
     "name": "stdout",
     "output_type": "stream",
     "text": [
      "0\n",
      "1\n",
      "2\n",
      "3\n",
      "4\n",
      "5\n",
      "6\n",
      "7\n",
      "8\n",
      "9\n"
     ]
    }
   ],
   "source": [
    "for i in range(10):\n",
    "    print(i)"
   ]
  },
  {
   "cell_type": "code",
   "execution_count": 20,
   "id": "261764a4",
   "metadata": {},
   "outputs": [
    {
     "name": "stdout",
     "output_type": "stream",
     "text": [
      "0 1 2 3 4 5 6 7 8 9 "
     ]
    }
   ],
   "source": [
    "for i in range(10):\n",
    "    print(i,end=\" \")"
   ]
  },
  {
   "cell_type": "code",
   "execution_count": 22,
   "id": "f9b4f0c4",
   "metadata": {},
   "outputs": [
    {
     "data": {
      "text/plain": [
       "[0, 5, 10, 15, 20, 25, 30, 35, 40, 45, 50, 55, 60, 65, 70, 75, 80, 85, 90, 95]"
      ]
     },
     "execution_count": 22,
     "metadata": {},
     "output_type": "execute_result"
    }
   ],
   "source": [
    "#syntax of range(start,stop,step)\n",
    "list(range(0,100,5))"
   ]
  },
  {
   "cell_type": "code",
   "execution_count": 33,
   "id": "58cff8e4",
   "metadata": {},
   "outputs": [
    {
     "name": "stdout",
     "output_type": "stream",
     "text": [
      "* \n",
      "* * \n",
      "* * * \n",
      "* * * * \n"
     ]
    }
   ],
   "source": [
    "row=1\n",
    "while row <= 4:\n",
    "    col=1\n",
    "    while col <= row:\n",
    "        print(\"*\",end=\" \")\n",
    "        col=col+1\n",
    "    print()\n",
    "    row=row+1"
   ]
  },
  {
   "cell_type": "code",
   "execution_count": 36,
   "id": "57e90f9d",
   "metadata": {},
   "outputs": [
    {
     "name": "stdout",
     "output_type": "stream",
     "text": [
      "* \n",
      "* * \n",
      "* * * \n",
      "* * * * \n"
     ]
    }
   ],
   "source": [
    "for i in range(4):\n",
    "    for j in range(i+1):\n",
    "        print(\"*\",end=\" \")\n",
    "    print()"
   ]
  },
  {
   "cell_type": "code",
   "execution_count": 37,
   "id": "fc9afde7",
   "metadata": {},
   "outputs": [
    {
     "name": "stdout",
     "output_type": "stream",
     "text": [
      "* * * \n",
      "* * * \n",
      "* * * \n"
     ]
    }
   ],
   "source": [
    "for i in range(3):\n",
    "    for j in range(3):\n",
    "        print(\"*\",end=\" \")\n",
    "    print()\n",
    "         "
   ]
  },
  {
   "cell_type": "code",
   "execution_count": 40,
   "id": "77d38d2f",
   "metadata": {},
   "outputs": [
    {
     "name": "stdout",
     "output_type": "stream",
     "text": [
      "1\n",
      "2\n",
      "4\n",
      "5\n",
      "6\n",
      "8\n",
      "9\n"
     ]
    }
   ],
   "source": [
    "number=[1,2,3,4,5,6,7,8,9]\n",
    "for num in number:\n",
    "    if num==3 or num==7:\n",
    "        continue\n",
    "    print(num)"
   ]
  },
  {
   "cell_type": "code",
   "execution_count": 41,
   "id": "80870658",
   "metadata": {},
   "outputs": [
    {
     "name": "stdout",
     "output_type": "stream",
     "text": [
      "product 1\n",
      "product 2\n",
      "product 3\n",
      "product 4\n",
      "product 5\n",
      "product 6\n",
      "product 7\n",
      "product 8\n",
      "product 9\n",
      "product 2\n",
      "product 4\n",
      "product 6\n",
      "product 8\n",
      "product 10\n",
      "product 12\n",
      "product 14\n",
      "product 16\n",
      "product 18\n",
      "product 3\n",
      "product 6\n",
      "product 9\n",
      "product 12\n",
      "product 15\n",
      "product 18\n",
      "product 21\n",
      "product 24\n",
      "product 27\n",
      "product 4\n",
      "product 8\n",
      "product 12\n",
      "product 16\n",
      "product 20\n",
      "product 24\n",
      "product 28\n",
      "product 32\n",
      "product 36\n",
      "product 5\n",
      "product 10\n",
      "product 15\n",
      "product 20\n",
      "product 25\n",
      "product 30\n",
      "product 35\n",
      "product 40\n",
      "product 45\n"
     ]
    }
   ],
   "source": [
    "for i in range(1,6):\n",
    "    for j in range(1,10):\n",
    "        product=i*j\n",
    "        print(\"product\",product)"
   ]
  },
  {
   "cell_type": "code",
   "execution_count": null,
   "id": "da2a3ca7",
   "metadata": {},
   "outputs": [],
   "source": []
  }
 ],
 "metadata": {
  "kernelspec": {
   "display_name": "Python 3",
   "language": "python",
   "name": "python3"
  },
  "language_info": {
   "codemirror_mode": {
    "name": "ipython",
    "version": 3
   },
   "file_extension": ".py",
   "mimetype": "text/x-python",
   "name": "python",
   "nbconvert_exporter": "python",
   "pygments_lexer": "ipython3",
   "version": "3.10.11"
  }
 },
 "nbformat": 4,
 "nbformat_minor": 5
}
