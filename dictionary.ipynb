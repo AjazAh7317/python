{
 "cells": [
  {
   "cell_type": "code",
   "execution_count": 1,
   "id": "e3333f70",
   "metadata": {},
   "outputs": [],
   "source": [
    "# dictionary :A dictionary is a collection of key-value pairs.\n",
    "#It's unordered (before Python 3.7), mutable, and indexed by keys (not by position).\n"
   ]
  },
  {
   "cell_type": "code",
   "execution_count": 3,
   "id": "83978071",
   "metadata": {},
   "outputs": [],
   "source": [
    "d={\"name\":\"ajaz\",\"email\":\"ajazahmadajaj@gmail.com\"}"
   ]
  },
  {
   "cell_type": "code",
   "execution_count": 4,
   "id": "6c530379",
   "metadata": {},
   "outputs": [
    {
     "data": {
      "text/plain": [
       "{'name': 'ajaz', 'email': 'ajazahmadajaj@gmail.com'}"
      ]
     },
     "execution_count": 4,
     "metadata": {},
     "output_type": "execute_result"
    }
   ],
   "source": [
    "d"
   ]
  },
  {
   "cell_type": "code",
   "execution_count": 5,
   "id": "e1a28d90",
   "metadata": {},
   "outputs": [
    {
     "data": {
      "text/plain": [
       "'ajaz'"
      ]
     },
     "execution_count": 5,
     "metadata": {},
     "output_type": "execute_result"
    }
   ],
   "source": [
    "d[\"name\"]"
   ]
  },
  {
   "cell_type": "code",
   "execution_count": 6,
   "id": "781d7f4f",
   "metadata": {},
   "outputs": [],
   "source": [
    "   # only string and number can be uded as the key of the string"
   ]
  },
  {
   "cell_type": "code",
   "execution_count": 21,
   "id": "752d371d",
   "metadata": {},
   "outputs": [],
   "source": [
    "d={\"name\":\"ajaz\",\"email\":\"ajazahmadajaj@gmail.com\",\"name\":\"ahaamd\"}"
   ]
  },
  {
   "cell_type": "code",
   "execution_count": 9,
   "id": "b3c14f63",
   "metadata": {},
   "outputs": [
    {
     "data": {
      "text/plain": [
       "'ahaamd'"
      ]
     },
     "execution_count": 9,
     "metadata": {},
     "output_type": "execute_result"
    }
   ],
   "source": [
    "d[\"name\"]\n"
   ]
  },
  {
   "cell_type": "code",
   "execution_count": 22,
   "id": "77a92965",
   "metadata": {},
   "outputs": [
    {
     "data": {
      "text/plain": [
       "{'name': 'ahaamd', 'email': 'ajazahmadajaj@gmail.com'}"
      ]
     },
     "execution_count": 22,
     "metadata": {},
     "output_type": "execute_result"
    }
   ],
   "source": [
    "d"
   ]
  },
  {
   "cell_type": "code",
   "execution_count": 23,
   "id": "d5c4b443",
   "metadata": {},
   "outputs": [],
   "source": [
    "d[\"addresss\"]=\"lucknow\""
   ]
  },
  {
   "cell_type": "code",
   "execution_count": 13,
   "id": "955b9ad3",
   "metadata": {},
   "outputs": [
    {
     "data": {
      "text/plain": [
       "{'name': 'ahaamd', 'email': 'ajazahmadajaj@gmail.com', 'addresss': 'lucknow'}"
      ]
     },
     "execution_count": 13,
     "metadata": {},
     "output_type": "execute_result"
    }
   ],
   "source": [
    "d"
   ]
  },
  {
   "cell_type": "code",
   "execution_count": 14,
   "id": "39e86cab",
   "metadata": {},
   "outputs": [],
   "source": [
    "my_dict = {\n",
    "    \"name\": \"Alice\",\n",
    "    \"age\": 25,\n",
    "    \"city\": \"New York\"\n",
    "}\n"
   ]
  },
  {
   "cell_type": "code",
   "execution_count": 15,
   "id": "97b42392",
   "metadata": {},
   "outputs": [
    {
     "data": {
      "text/plain": [
       "{'name': 'Alice', 'age': 25, 'city': 'New York'}"
      ]
     },
     "execution_count": 15,
     "metadata": {},
     "output_type": "execute_result"
    }
   ],
   "source": [
    "my_dict"
   ]
  },
  {
   "cell_type": "code",
   "execution_count": null,
   "id": "a90163f9",
   "metadata": {},
   "outputs": [],
   "source": []
  },
  {
   "cell_type": "code",
   "execution_count": 24,
   "id": "45b1b51b",
   "metadata": {},
   "outputs": [
    {
     "data": {
      "text/plain": [
       "{'name': 'ahaamd', 'email': 'ajazahmadajaj@gmail.com', 'addresss': 'lucknow'}"
      ]
     },
     "execution_count": 24,
     "metadata": {},
     "output_type": "execute_result"
    }
   ],
   "source": [
    "d"
   ]
  },
  {
   "cell_type": "code",
   "execution_count": 18,
   "id": "39f8b5e0",
   "metadata": {},
   "outputs": [
    {
     "data": {
      "text/plain": [
       "3"
      ]
     },
     "execution_count": 18,
     "metadata": {},
     "output_type": "execute_result"
    }
   ],
   "source": [
    "len(my_dict)"
   ]
  },
  {
   "cell_type": "code",
   "execution_count": 26,
   "id": "2ce2675c",
   "metadata": {},
   "outputs": [
    {
     "data": {
      "text/plain": [
       "'ahaamd'"
      ]
     },
     "execution_count": 26,
     "metadata": {},
     "output_type": "execute_result"
    }
   ],
   "source": [
    "d.get(\"name\")"
   ]
  },
  {
   "cell_type": "code",
   "execution_count": 27,
   "id": "243ab72f",
   "metadata": {},
   "outputs": [],
   "source": [
    "# zip Function\n",
    "students=[\"ajaz\",\"ahamad\"]\n"
   ]
  },
  {
   "cell_type": "code",
   "execution_count": 28,
   "id": "13068cdc",
   "metadata": {},
   "outputs": [
    {
     "name": "stdout",
     "output_type": "stream",
     "text": [
      "('ajaz', 80)\n",
      "('ahamad', 60)\n"
     ]
    }
   ],
   "source": [
    "marks=[80,60]\n",
    "for i in zip(students,marks):\n",
    "    print(i)"
   ]
  },
  {
   "cell_type": "code",
   "execution_count": 31,
   "id": "16dbd496",
   "metadata": {},
   "outputs": [
    {
     "data": {
      "text/plain": [
       "{'ajaz': 80, 'ahamad': 60}"
      ]
     },
     "execution_count": 31,
     "metadata": {},
     "output_type": "execute_result"
    }
   ],
   "source": [
    "# store the above information in key value pair\n",
    "\n",
    "students=[\"ajaz\",\"ahamad\"]\n",
    "marks=[80,60]\n",
    "students_marks={}\n",
    "for student,mark  in zip(students,marks):\n",
    "    students_marks[student]=mark\n",
    "    \n",
    "    \n",
    "    \n",
    "students_marks"
   ]
  },
  {
   "cell_type": "code",
   "execution_count": null,
   "id": "b4195efa",
   "metadata": {},
   "outputs": [
    {
     "ename": "TypeError",
     "evalue": "'int' object is not iterable",
     "output_type": "error",
     "traceback": [
      "\u001b[1;31m---------------------------------------------------------------------------\u001b[0m",
      "\u001b[1;31mTypeError\u001b[0m                                 Traceback (most recent call last)",
      "Cell \u001b[1;32mIn[33], line 2\u001b[0m\n\u001b[0;32m      1\u001b[0m \u001b[38;5;66;03m# diictionary comprehension   \u001b[39;00m\n\u001b[1;32m----> 2\u001b[0m {students:arks \u001b[38;5;28;01mfor\u001b[39;00m student,marks \u001b[38;5;129;01min\u001b[39;00m \u001b[38;5;28;43mzip\u001b[39;49m\u001b[43m(\u001b[49m\u001b[43mstudents\u001b[49m\u001b[43m,\u001b[49m\u001b[43mmark\u001b[49m\u001b[43m)\u001b[49m}\n",
      "\u001b[1;31mTypeError\u001b[0m: 'int' object is not iterable"
     ]
    }
   ],
   "source": [
    "# diictionary comprehension   \n",
    "{students:marksfor student,marks in zip(students,mark)}\n"
   ]
  },
  {
   "cell_type": "code",
   "execution_count": null,
   "id": "3593876e",
   "metadata": {},
   "outputs": [
    {
     "name": "stdout",
     "output_type": "stream",
     "text": [
      "{'name': 'Alice', 'age': 25, 'city': 'Paris'}\n"
     ]
    }
   ],
   "source": [
    "keys = [\"name\", \"age\", \"city\"]\n",
    "values = [\"Alice\", 25, \"Paris\"]\n",
    "\n",
    "person = {k: v for k, v in zip(keys, values)}\n",
    "print(person)\n"
   ]
  },
  {
   "cell_type": "code",
   "execution_count": null,
   "id": "fc3e4b64",
   "metadata": {},
   "outputs": [],
   "source": []
  }
 ],
 "metadata": {
  "kernelspec": {
   "display_name": "Python 3",
   "language": "python",
   "name": "python3"
  },
  "language_info": {
   "codemirror_mode": {
    "name": "ipython",
    "version": 3
   },
   "file_extension": ".py",
   "mimetype": "text/x-python",
   "name": "python",
   "nbconvert_exporter": "python",
   "pygments_lexer": "ipython3",
   "version": "3.10.11"
  }
 },
 "nbformat": 4,
 "nbformat_minor": 5
}
