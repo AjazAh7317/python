{
 "cells": [
  {
   "cell_type": "markdown",
   "id": "c3ac1370",
   "metadata": {},
   "source": [
    "something that disrupts the normal event is exception"
   ]
  },
  {
   "cell_type": "code",
   "execution_count": 1,
   "id": "8c57788f",
   "metadata": {},
   "outputs": [],
   "source": [
    "# in python exception is an event that occurs during programme execution that disrupts the regular flow of code"
   ]
  },
  {
   "cell_type": "code",
   "execution_count": 2,
   "id": "f9881487",
   "metadata": {},
   "outputs": [],
   "source": [
    "# why do  we need to  handle the suspisios code \n",
    "\n"
   ]
  },
  {
   "cell_type": "code",
   "execution_count": 3,
   "id": "90c6d78c",
   "metadata": {},
   "outputs": [],
   "source": [
    "# how to handle the exception\n",
    "# using try and catch block\n",
    "# whenever exception occurs ,python stops exe... and generate exception\n",
    "# handle this exception is advised\n",
    "# every code that is risky you should do exception handling"
   ]
  },
  {
   "cell_type": "code",
   "execution_count": 6,
   "id": "95cb2886",
   "metadata": {},
   "outputs": [],
   "source": [
    "# syntax of try except\n",
    "#try:\n",
    "    # suspisios code\n",
    "#except:\n",
    "    #exceuted when exceptin occurs\n"
   ]
  },
  {
   "cell_type": "code",
   "execution_count": null,
   "id": "27f80c3e",
   "metadata": {},
   "outputs": [
    {
     "name": "stdout",
     "output_type": "stream",
     "text": [
      "9\n",
      "this file is dec\n"
     ]
    }
   ],
   "source": [
    "try:\n",
    "    f=open(\"example.txt\",\"r\")\n",
    "except Exception as e:\n",
    "    print(\"there is issue with the code \")\n",
    "print(6+3)\n",
    "print(\"this file is dec\")"
   ]
  },
  {
   "cell_type": "code",
   "execution_count": 10,
   "id": "249faf6b",
   "metadata": {},
   "outputs": [
    {
     "name": "stdout",
     "output_type": "stream",
     "text": [
      "there is issue with the code [Errno 2] No such file or directory: 'non_existing_file.txt'\n"
     ]
    }
   ],
   "source": [
    "try:\n",
    "    f = open(\"non_existing_file.txt\", \"r\")\n",
    "except Exception as e:\n",
    "    print(\"there is issue with the code\", e)\n"
   ]
  },
  {
   "cell_type": "code",
   "execution_count": 12,
   "id": "7382dfa4",
   "metadata": {},
   "outputs": [
    {
     "name": "stdout",
     "output_type": "stream",
     "text": [
      "division by zero\n"
     ]
    }
   ],
   "source": [
    "try:\n",
    "    5/0\n",
    "except Exception as e:\n",
    "    print(e)"
   ]
  },
  {
   "cell_type": "code",
   "execution_count": 14,
   "id": "4221c525",
   "metadata": {},
   "outputs": [
    {
     "name": "stdout",
     "output_type": "stream",
     "text": [
      "there is issue with the code [Errno 2] No such file or directory: 'non_existing_file.txt'\n"
     ]
    }
   ],
   "source": [
    "try:\n",
    "    f = open(\"non_existing_file.txt\", \"r\")\n",
    "except Exception as e:\n",
    "    print(\"there is issue with the code\", e)\n",
    "else:\n",
    "    print(9+3)\n",
    "    print(\"this will be excuted if try and catch blok has no exception\")"
   ]
  },
  {
   "cell_type": "code",
   "execution_count": 15,
   "id": "89cac726",
   "metadata": {},
   "outputs": [],
   "source": [
    "# use case of else : you want to excute some code only if try statemt is successfull and code do not enter the exception block"
   ]
  },
  {
   "cell_type": "code",
   "execution_count": null,
   "id": "a91a1ee1",
   "metadata": {},
   "outputs": [
    {
     "name": "stdout",
     "output_type": "stream",
     "text": [
      "12\n",
      "this will be excuted if try and catch blok has no exception\n"
     ]
    }
   ],
   "source": [
    "# use case 1\n",
    "try:\n",
    "    f = open(\"non_existing_file.txt\", \"w\")\n",
    "except Exception as e:\n",
    "    print(\"there is issue with the code\", e)\n",
    "else:\n",
    "    print(9+3)\n",
    "    print(\"this will be excuted if try and catch blok has no exception\")"
   ]
  },
  {
   "cell_type": "code",
   "execution_count": null,
   "id": "e54da901",
   "metadata": {},
   "outputs": [
    {
     "name": "stdout",
     "output_type": "stream",
     "text": [
      "12\n",
      "this will be excuted if try and catch blok has no exception\n"
     ]
    }
   ],
   "source": [
    "#use case 2\n",
    "try:\n",
    "    f = open(\"non_existing_file.txt\", \"w\")\n",
    "    f.write(\"hello to exception handling\")# you will not able to see content until you close the file \n",
    "except Exception as e:\n",
    "    print(\"there is issue with the code\", e)\n",
    "else:\n",
    "    print(9+3)\n",
    "    print(\"this will be excuted if try and catch blok has no exception\")\n"
   ]
  },
  {
   "cell_type": "code",
   "execution_count": null,
   "id": "db07cf31",
   "metadata": {},
   "outputs": [
    {
     "name": "stdout",
     "output_type": "stream",
     "text": [
      "12\n",
      "this will be excuted if try and catch blok has no exception\n"
     ]
    }
   ],
   "source": [
    "#use case 2\n",
    "try:\n",
    "    f = open(\"non_existing_file.txt\", \"w\")\n",
    "    f.write(\"hello to exception handling\")# you will not able to see content until you close the file \n",
    "except Exception as e:\n",
    "    print(\"there is issue with the code\", e)\n",
    "else:\n",
    "    f.close()\n",
    "    print(9+3)\n",
    "    print(\"this will be excuted if try and catch blok has no exception\")\n"
   ]
  },
  {
   "cell_type": "code",
   "execution_count": 20,
   "id": "5e90fd4a",
   "metadata": {},
   "outputs": [],
   "source": [
    "# ELSE BLOCK WILL VERY HELPFUL WHEN YOUR CODE DID NOT ENTER THE EXCEPTION BLOCK.\n",
    "# E.G YOU WANTED TO CLOSE THE FILE AFTER IT WAS OPENED"
   ]
  },
  {
   "cell_type": "code",
   "execution_count": 21,
   "id": "76d39806",
   "metadata": {},
   "outputs": [
    {
     "name": "stdout",
     "output_type": "stream",
     "text": [
      "12\n",
      "this will be excuted if try and catch blok has no exception\n",
      "it will always executed\n"
     ]
    }
   ],
   "source": [
    "# finally block\n",
    "#use case 2\n",
    "try:\n",
    "    f = open(\"non_existing_file.txt\", \"w\")\n",
    "    f.write(\"hello to exception handling\")# you will not able to see content until you close the file \n",
    "except Exception as e:\n",
    "    print(\"there is issue with the code\", e)\n",
    "else:\n",
    "    f.close()\n",
    "    print(9+3)\n",
    "    print(\"this will be excuted if try and catch blok has no exception\")\n",
    "finally:\n",
    "    print(\"it will always executed\")\n"
   ]
  },
  {
   "cell_type": "code",
   "execution_count": 22,
   "id": "f4442f5c",
   "metadata": {},
   "outputs": [
    {
     "name": "stdout",
     "output_type": "stream",
     "text": [
      "12\n",
      "this will be excuted if try and catch blok has no exception\n",
      "it will always executed\n"
     ]
    }
   ],
   "source": [
    "try:\n",
    "    f = open(\"non_existing_file.txt\", \"w\")\n",
    "    f.write(\"hello to exception handling\")# you will not able to see content until you close the file \n",
    "except Exception as e:\n",
    "    print(\"there is issue with the code\", e)\n",
    "else:\n",
    "    f.close()\n",
    "    print(9+3)\n",
    "    print(\"this will be excuted if try and catch blok has no exception\")\n",
    "\n",
    "print(\"it will always executed\")"
   ]
  },
  {
   "cell_type": "code",
   "execution_count": 23,
   "id": "33698a07",
   "metadata": {},
   "outputs": [
    {
     "name": "stdout",
     "output_type": "stream",
     "text": [
      "there is some exception\n"
     ]
    }
   ],
   "source": [
    "try:\n",
    "    2/0\n",
    "except:\n",
    "    print(\"there is some exception\")"
   ]
  },
  {
   "cell_type": "code",
   "execution_count": 26,
   "id": "354ea779",
   "metadata": {},
   "outputs": [
    {
     "name": "stdout",
     "output_type": "stream",
     "text": [
      "there is some exception\n"
     ]
    }
   ],
   "source": [
    "try:\n",
    "    2/\"ajaz\"\n",
    "except:\n",
    "    print(\"there is some exception\")"
   ]
  },
  {
   "cell_type": "code",
   "execution_count": 24,
   "id": "c26ad98f",
   "metadata": {},
   "outputs": [
    {
     "name": "stdout",
     "output_type": "stream",
     "text": [
      "there is some exception division by zero\n"
     ]
    }
   ],
   "source": [
    "try:\n",
    "    2/0\n",
    "except Exception as e:\n",
    "    print(\"there is some exception\",e)"
   ]
  },
  {
   "cell_type": "code",
   "execution_count": 25,
   "id": "4c451106",
   "metadata": {},
   "outputs": [],
   "source": [
    "# the above example is of generic exception handling"
   ]
  },
  {
   "cell_type": "code",
   "execution_count": null,
   "id": "7cfccd24",
   "metadata": {},
   "outputs": [
    {
     "name": "stdout",
     "output_type": "stream",
     "text": [
      "here i am handling the  division by zero\n"
     ]
    }
   ],
   "source": [
    "try:\n",
    "    2/0 \n",
    "except ZeroDivisionError as e:\n",
    "    print(\"here i am handling the \",e)"
   ]
  },
  {
   "cell_type": "code",
   "execution_count": 28,
   "id": "a02d9817",
   "metadata": {},
   "outputs": [],
   "source": [
    "# we should always capture specific error"
   ]
  },
  {
   "cell_type": "code",
   "execution_count": 29,
   "id": "6d43cc1e",
   "metadata": {},
   "outputs": [
    {
     "name": "stdout",
     "output_type": "stream",
     "text": [
      "there is some exception that is unsupported operand type(s) for /: 'int' and 'str'\n"
     ]
    }
   ],
   "source": [
    "# another example\n",
    "try:\n",
    "    2/\"ajaz\"\n",
    "except TypeError as e:\n",
    "    print(\"there is some exception that is\",e)"
   ]
  },
  {
   "cell_type": "code",
   "execution_count": 30,
   "id": "2b715f59",
   "metadata": {},
   "outputs": [],
   "source": [
    "# benit of handling specific error , you know what error is excepted and if \n",
    "#otherf error comes which you are not able to think you will be able to address that"
   ]
  },
  {
   "cell_type": "code",
   "execution_count": 32,
   "id": "a736754b",
   "metadata": {},
   "outputs": [
    {
     "name": "stdout",
     "output_type": "stream",
     "text": [
      "3.3333333333333335\n",
      "there is some exception that is unsupported operand type(s) for /: 'int' and 'str'\n"
     ]
    }
   ],
   "source": [
    "# another example\n",
    "try:\n",
    "    2/\"3\"\n",
    "except TypeError as e:\n",
    "    print(10/int(\"3\"))\n",
    "    print(\"there is some exception that is\",e)"
   ]
  },
  {
   "cell_type": "code",
   "execution_count": 34,
   "id": "764c7b01",
   "metadata": {},
   "outputs": [
    {
     "name": "stdout",
     "output_type": "stream",
     "text": [
      "here i am handling the  division by zero\n",
      "since the value is o ,using default value 1,the quotient is  10.0\n"
     ]
    }
   ],
   "source": [
    "# another exmple of handling specific exception\n",
    "try:\n",
    "    2/0 \n",
    "except ZeroDivisionError as e:\n",
    "    print(\"here i am handling the \",e)\n",
    "    print(\"since the value is o ,using default value 1,the quotient is \",10/1)"
   ]
  },
  {
   "cell_type": "code",
   "execution_count": 35,
   "id": "e671c758",
   "metadata": {},
   "outputs": [
    {
     "name": "stdout",
     "output_type": "stream",
     "text": [
      "string can not be converted into integer\n"
     ]
    }
   ],
   "source": [
    "try:\n",
    "    int(\"pwskills\")\n",
    "except ValueError as e:\n",
    "    print(\"string can not be converted into integer\")"
   ]
  },
  {
   "cell_type": "code",
   "execution_count": 36,
   "id": "bc2473f3",
   "metadata": {},
   "outputs": [
    {
     "name": "stdout",
     "output_type": "stream",
     "text": [
      "Error: Please enter valid numbers.\n"
     ]
    }
   ],
   "source": [
    "try:\n",
    "    a = int(input(\"Enter the numerator: \"))\n",
    "    b = int(input(\"Enter the denominator: \"))\n",
    "    result = a / b\n",
    "    print(\"Result:\", result)\n",
    "except ZeroDivisionError:\n",
    "    print(\"Error: You cannot divide by zero.\")\n",
    "except ValueError:\n",
    "    print(\"Error: Please enter valid numbers.\")\n",
    "except Exception as e:\n",
    "    print(\"An unexpected error occurred:\", e)\n"
   ]
  },
  {
   "cell_type": "code",
   "execution_count": 37,
   "id": "65d51d36",
   "metadata": {},
   "outputs": [
    {
     "name": "stderr",
     "output_type": "stream",
     "text": [
      "ERROR:root:An error occurred: division by zero\n"
     ]
    }
   ],
   "source": [
    "import logging\n",
    "\n",
    "# Configure logging\n",
    "logging.basicConfig(level=logging.INFO)\n",
    "\n",
    "try:\n",
    "    x = 10 / 0\n",
    "except ZeroDivisionError as e:\n",
    "    logging.error(\"An error occurred: %s\", e)\n"
   ]
  },
  {
   "cell_type": "code",
   "execution_count": 39,
   "id": "720c66fa",
   "metadata": {},
   "outputs": [],
   "source": [
    "# putting exception handling in a function\n",
    "def test(file):\n",
    "    try:\n",
    "        f=open(file,\"r\")\n",
    "        f.read()\n",
    "    except FileNotFoundError as e:\n",
    "        print(f\"my file not found {e}\")"
   ]
  },
  {
   "cell_type": "code",
   "execution_count": 40,
   "id": "74a00034",
   "metadata": {},
   "outputs": [
    {
     "name": "stdout",
     "output_type": "stream",
     "text": [
      "my file not found [Errno 2] No such file or directory: 'example1.txt'\n"
     ]
    }
   ],
   "source": [
    "test(\"example1.txt\")"
   ]
  },
  {
   "cell_type": "code",
   "execution_count": 41,
   "id": "a50bc804",
   "metadata": {},
   "outputs": [
    {
     "name": "stdout",
     "output_type": "stream",
     "text": [
      "here i am handling the  division by zero\n"
     ]
    }
   ],
   "source": [
    "# do not try to use unnecessary exception/multiple exception\n",
    "# another exmple of handling specific exception\n",
    "try:\n",
    "    2/0 \n",
    "except ZeroDivisionError as e:\n",
    "    print(\"here i am handling the \",e)\n",
    "except Exception as e:\n",
    "    print(\"th error\",e)"
   ]
  },
  {
   "cell_type": "code",
   "execution_count": null,
   "id": "cb76a945",
   "metadata": {},
   "outputs": [],
   "source": []
  }
 ],
 "metadata": {
  "kernelspec": {
   "display_name": "Python 3",
   "language": "python",
   "name": "python3"
  },
  "language_info": {
   "codemirror_mode": {
    "name": "ipython",
    "version": 3
   },
   "file_extension": ".py",
   "mimetype": "text/x-python",
   "name": "python",
   "nbconvert_exporter": "python",
   "pygments_lexer": "ipython3",
   "version": "3.10.11"
  }
 },
 "nbformat": 4,
 "nbformat_minor": 5
}
