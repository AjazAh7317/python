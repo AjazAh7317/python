{
 "cells": [
  {
   "cell_type": "markdown",
   "id": "4383eb4b",
   "metadata": {},
   "source": [
    "# mode\n",
    "r: read mode\n",
    "w: write mode\n",
    "a: append mode\n",
    "r+: both reading and writing"
   ]
  },
  {
   "cell_type": "code",
   "execution_count": 1,
   "id": "947eb2d0",
   "metadata": {},
   "outputs": [
    {
     "ename": "FileNotFoundError",
     "evalue": "[Errno 2] No such file or directory: 'file.txt'",
     "output_type": "error",
     "traceback": [
      "\u001b[1;31m---------------------------------------------------------------------------\u001b[0m",
      "\u001b[1;31mFileNotFoundError\u001b[0m                         Traceback (most recent call last)",
      "Cell \u001b[1;32mIn[1], line 1\u001b[0m\n\u001b[1;32m----> 1\u001b[0m \u001b[38;5;28;43mopen\u001b[39;49m\u001b[43m(\u001b[49m\u001b[38;5;124;43m\"\u001b[39;49m\u001b[38;5;124;43mfile.txt\u001b[39;49m\u001b[38;5;124;43m\"\u001b[39;49m\u001b[43m,\u001b[49m\u001b[38;5;124;43m'\u001b[39;49m\u001b[38;5;124;43mr\u001b[39;49m\u001b[38;5;124;43m'\u001b[39;49m\u001b[43m)\u001b[49m\u001b[38;5;66;03m# if there is no any file it wil throw an error\u001b[39;00m\n",
      "File \u001b[1;32m~\\AppData\\Local\\Packages\\PythonSoftwareFoundation.Python.3.10_qbz5n2kfra8p0\\LocalCache\\local-packages\\Python310\\site-packages\\IPython\\core\\interactiveshell.py:324\u001b[0m, in \u001b[0;36m_modified_open\u001b[1;34m(file, *args, **kwargs)\u001b[0m\n\u001b[0;32m    317\u001b[0m \u001b[38;5;28;01mif\u001b[39;00m file \u001b[38;5;129;01min\u001b[39;00m {\u001b[38;5;241m0\u001b[39m, \u001b[38;5;241m1\u001b[39m, \u001b[38;5;241m2\u001b[39m}:\n\u001b[0;32m    318\u001b[0m     \u001b[38;5;28;01mraise\u001b[39;00m \u001b[38;5;167;01mValueError\u001b[39;00m(\n\u001b[0;32m    319\u001b[0m         \u001b[38;5;124mf\u001b[39m\u001b[38;5;124m\"\u001b[39m\u001b[38;5;124mIPython won\u001b[39m\u001b[38;5;124m'\u001b[39m\u001b[38;5;124mt let you open fd=\u001b[39m\u001b[38;5;132;01m{\u001b[39;00mfile\u001b[38;5;132;01m}\u001b[39;00m\u001b[38;5;124m by default \u001b[39m\u001b[38;5;124m\"\u001b[39m\n\u001b[0;32m    320\u001b[0m         \u001b[38;5;124m\"\u001b[39m\u001b[38;5;124mas it is likely to crash IPython. If you know what you are doing, \u001b[39m\u001b[38;5;124m\"\u001b[39m\n\u001b[0;32m    321\u001b[0m         \u001b[38;5;124m\"\u001b[39m\u001b[38;5;124myou can use builtins\u001b[39m\u001b[38;5;124m'\u001b[39m\u001b[38;5;124m open.\u001b[39m\u001b[38;5;124m\"\u001b[39m\n\u001b[0;32m    322\u001b[0m     )\n\u001b[1;32m--> 324\u001b[0m \u001b[38;5;28;01mreturn\u001b[39;00m io_open(file, \u001b[38;5;241m*\u001b[39margs, \u001b[38;5;241m*\u001b[39m\u001b[38;5;241m*\u001b[39mkwargs)\n",
      "\u001b[1;31mFileNotFoundError\u001b[0m: [Errno 2] No such file or directory: 'file.txt'"
     ]
    }
   ],
   "source": [
    "open(\"file.txt\",'r')# if there is no any file it wil throw an error"
   ]
  },
  {
   "cell_type": "code",
   "execution_count": 3,
   "id": "4a5646cb",
   "metadata": {},
   "outputs": [],
   "source": [
    "file=open(\"file.txt\",\"w\")# if there is no nay file it will craete it and then open it"
   ]
  },
  {
   "cell_type": "code",
   "execution_count": 5,
   "id": "20f98aad",
   "metadata": {},
   "outputs": [
    {
     "data": {
      "text/plain": [
       "38"
      ]
     },
     "execution_count": 5,
     "metadata": {},
     "output_type": "execute_result"
    }
   ],
   "source": [
    "file.write(\"this is my first line in the text line\")  # number below is no of bytes you have written"
   ]
  },
  {
   "cell_type": "code",
   "execution_count": 7,
   "id": "d0dba087",
   "metadata": {},
   "outputs": [],
   "source": [
    "# as of now if you open the file you will not be able to see any text\n",
    "# to see you have to close the file\n"
   ]
  },
  {
   "cell_type": "code",
   "execution_count": 8,
   "id": "c2891831",
   "metadata": {},
   "outputs": [],
   "source": [
    "file.close()"
   ]
  },
  {
   "cell_type": "code",
   "execution_count": 9,
   "id": "3b63d867",
   "metadata": {},
   "outputs": [
    {
     "data": {
      "text/plain": [
       "<_io.TextIOWrapper name='file.txt' mode='w' encoding='cp1252'>"
      ]
     },
     "execution_count": 9,
     "metadata": {},
     "output_type": "execute_result"
    }
   ],
   "source": [
    "file"
   ]
  },
  {
   "cell_type": "code",
   "execution_count": 11,
   "id": "4f2f4847",
   "metadata": {},
   "outputs": [
    {
     "data": {
      "text/plain": [
       "True"
      ]
     },
     "execution_count": 11,
     "metadata": {},
     "output_type": "execute_result"
    }
   ],
   "source": [
    "# file attribute\n",
    "file.closed"
   ]
  },
  {
   "cell_type": "code",
   "execution_count": 12,
   "id": "390aefc5",
   "metadata": {},
   "outputs": [],
   "source": [
    "file=open(\"file.txt\",\"r\")"
   ]
  },
  {
   "cell_type": "code",
   "execution_count": 13,
   "id": "3911f8b6",
   "metadata": {},
   "outputs": [
    {
     "data": {
      "text/plain": [
       "False"
      ]
     },
     "execution_count": 13,
     "metadata": {},
     "output_type": "execute_result"
    }
   ],
   "source": [
    "file.closed"
   ]
  },
  {
   "cell_type": "code",
   "execution_count": 14,
   "id": "015f3621",
   "metadata": {},
   "outputs": [],
   "source": [
    "file.close()"
   ]
  },
  {
   "cell_type": "code",
   "execution_count": 16,
   "id": "10dea705",
   "metadata": {},
   "outputs": [
    {
     "data": {
      "text/plain": [
       "True"
      ]
     },
     "execution_count": 16,
     "metadata": {},
     "output_type": "execute_result"
    }
   ],
   "source": [
    "file.closed"
   ]
  },
  {
   "cell_type": "code",
   "execution_count": 17,
   "id": "24f976d3",
   "metadata": {},
   "outputs": [
    {
     "data": {
      "text/plain": [
       "'file.txt'"
      ]
     },
     "execution_count": 17,
     "metadata": {},
     "output_type": "execute_result"
    }
   ],
   "source": [
    "file.name"
   ]
  },
  {
   "cell_type": "code",
   "execution_count": 19,
   "id": "a50d573e",
   "metadata": {},
   "outputs": [
    {
     "data": {
      "text/plain": [
       "'r'"
      ]
     },
     "execution_count": 19,
     "metadata": {},
     "output_type": "execute_result"
    }
   ],
   "source": [
    "file.mode"
   ]
  },
  {
   "cell_type": "code",
   "execution_count": 20,
   "id": "0b6e91c7",
   "metadata": {},
   "outputs": [
    {
     "ename": "ValueError",
     "evalue": "I/O operation on closed file.",
     "output_type": "error",
     "traceback": [
      "\u001b[1;31m---------------------------------------------------------------------------\u001b[0m",
      "\u001b[1;31mValueError\u001b[0m                                Traceback (most recent call last)",
      "Cell \u001b[1;32mIn[20], line 1\u001b[0m\n\u001b[1;32m----> 1\u001b[0m \u001b[43mfile\u001b[49m\u001b[38;5;241;43m.\u001b[39;49m\u001b[43mwrite\u001b[49m\u001b[43m(\u001b[49m\u001b[38;5;124;43m\"\u001b[39;49m\u001b[38;5;124;43mthis is second line\u001b[39;49m\u001b[38;5;124;43m\"\u001b[39;49m\u001b[43m)\u001b[49m\u001b[38;5;66;03m# this will throw an error because file is closed\u001b[39;00m\n",
      "\u001b[1;31mValueError\u001b[0m: I/O operation on closed file."
     ]
    }
   ],
   "source": [
    "file.write(\"this is second line\")# this will throw an error because file is closed"
   ]
  },
  {
   "cell_type": "code",
   "execution_count": 22,
   "id": "3728e970",
   "metadata": {},
   "outputs": [],
   "source": [
    "file=open(\"file.txt\",\"w\") # it will truncate(delete) all earlier content and make a fresh file"
   ]
  },
  {
   "cell_type": "code",
   "execution_count": 23,
   "id": "0c82dc6e",
   "metadata": {},
   "outputs": [],
   "source": [
    "file.close()"
   ]
  },
  {
   "cell_type": "code",
   "execution_count": 25,
   "id": "e33ab8d1",
   "metadata": {},
   "outputs": [
    {
     "data": {
      "text/plain": [
       "23"
      ]
     },
     "execution_count": 25,
     "metadata": {},
     "output_type": "execute_result"
    }
   ],
   "source": [
    "file=open(\"file.txt\",\"w\") \n",
    "file.write(\"this is my first line\\n\")\n",
    "file.write(\"this is my second line\\n\")\n",
    "file.write(\"this is my third linne\\n\")\n",
    "file.write(\"this is my fourth  line\")"
   ]
  },
  {
   "cell_type": "code",
   "execution_count": 26,
   "id": "b0a844c0",
   "metadata": {},
   "outputs": [],
   "source": [
    "file.close()"
   ]
  },
  {
   "cell_type": "code",
   "execution_count": 28,
   "id": "db140565",
   "metadata": {},
   "outputs": [
    {
     "data": {
      "text/plain": [
       "23"
      ]
     },
     "execution_count": 28,
     "metadata": {},
     "output_type": "execute_result"
    }
   ],
   "source": [
    "file=open(\"file.txt\",\"a\")\n",
    "file.write(\"this is my first line\\n\")\n",
    "file.write(\"this is my second line\\n\")\n",
    "file.write(\"this is my third linne\\n\")\n",
    "file.write(\"this is my fourth  line\")\n",
    " "
   ]
  },
  {
   "cell_type": "code",
   "execution_count": 29,
   "id": "5010fd5e",
   "metadata": {},
   "outputs": [],
   "source": [
    "file.close()"
   ]
  },
  {
   "cell_type": "code",
   "execution_count": 42,
   "id": "ffe5fb56",
   "metadata": {},
   "outputs": [
    {
     "name": "stdout",
     "output_type": "stream",
     "text": [
      "this is my first line\n",
      "\n",
      "this is my second line\n",
      "\n",
      "this is my third linne\n",
      "\n",
      "this is my fourth  linethis is my first line\n",
      "\n",
      "this is my second line\n",
      "\n",
      "this is my third linne\n",
      "\n",
      "this is my fourth  line\n"
     ]
    }
   ],
   "source": [
    "file=open(\"file.txt\",\"r\")\n",
    "for i in file:\n",
    "    print(i)"
   ]
  },
  {
   "cell_type": "code",
   "execution_count": 33,
   "id": "973105ff",
   "metadata": {},
   "outputs": [
    {
     "data": {
      "text/plain": [
       "''"
      ]
     },
     "execution_count": 33,
     "metadata": {},
     "output_type": "execute_result"
    }
   ],
   "source": [
    "file.read() # here curser/pointer at the last position"
   ]
  },
  {
   "cell_type": "code",
   "execution_count": 34,
   "id": "bfa98d6a",
   "metadata": {},
   "outputs": [
    {
     "name": "stdout",
     "output_type": "stream",
     "text": [
      "\n"
     ]
    }
   ],
   "source": [
    "print(file.read())"
   ]
  },
  {
   "cell_type": "code",
   "execution_count": 36,
   "id": "c3c36aa4",
   "metadata": {},
   "outputs": [
    {
     "data": {
      "text/plain": [
       "188"
      ]
     },
     "execution_count": 36,
     "metadata": {},
     "output_type": "execute_result"
    }
   ],
   "source": [
    "file.tell() # it tells the current position"
   ]
  },
  {
   "cell_type": "code",
   "execution_count": 43,
   "id": "7699c65f",
   "metadata": {},
   "outputs": [
    {
     "data": {
      "text/plain": [
       "0"
      ]
     },
     "execution_count": 43,
     "metadata": {},
     "output_type": "execute_result"
    }
   ],
   "source": [
    "file.seek(0) # it will bring curser at the start of the line"
   ]
  },
  {
   "cell_type": "code",
   "execution_count": 46,
   "id": "890e7450",
   "metadata": {},
   "outputs": [
    {
     "name": "stdout",
     "output_type": "stream",
     "text": [
      "this is my first line\n",
      "\n"
     ]
    }
   ],
   "source": [
    "file=open(\"file.txt\",\"r\")\n",
    "print(file.readline())  # it reads only one line"
   ]
  },
  {
   "cell_type": "code",
   "execution_count": 48,
   "id": "6e03f589",
   "metadata": {},
   "outputs": [],
   "source": [
    "file.close()"
   ]
  },
  {
   "cell_type": "code",
   "execution_count": 52,
   "id": "fc3c584c",
   "metadata": {},
   "outputs": [
    {
     "name": "stdout",
     "output_type": "stream",
     "text": [
      "c:\\Users\\Ajaz Ahamad\\Desktop\\pw skills\n"
     ]
    }
   ],
   "source": [
    "# present working directory\n",
    "\n",
    "\n",
    "print(os.getcwd())\n"
   ]
  },
  {
   "cell_type": "code",
   "execution_count": 47,
   "id": "40abdd34",
   "metadata": {},
   "outputs": [
    {
     "name": "stdout",
     "output_type": "stream",
     "text": [
      "['this is my first line\\n', 'this is my second line\\n', 'this is my third linne\\n', 'this is my fourth  linethis is my first line\\n', 'this is my second line\\n', 'this is my third linne\\n', 'this is my fourth  line']\n"
     ]
    }
   ],
   "source": [
    "file=open(\"file.txt\",\"r\")\n",
    "print(file.readlines()) # all the lines will be the element of the list"
   ]
  },
  {
   "cell_type": "code",
   "execution_count": 49,
   "id": "b914f38a",
   "metadata": {},
   "outputs": [],
   "source": [
    "import os"
   ]
  },
  {
   "cell_type": "code",
   "execution_count": 53,
   "id": "4cdf14e7",
   "metadata": {},
   "outputs": [
    {
     "data": {
      "text/plain": [
       "'c:\\\\Users\\\\Ajaz Ahamad\\\\Desktop\\\\pw skills'"
      ]
     },
     "execution_count": 53,
     "metadata": {},
     "output_type": "execute_result"
    }
   ],
   "source": [
    "os.getcwd()"
   ]
  },
  {
   "cell_type": "code",
   "execution_count": null,
   "id": "c1b9380a",
   "metadata": {},
   "outputs": [
    {
     "name": "stdout",
     "output_type": "stream",
     "text": [
      " Volume in drive C is Acer\n",
      " Volume Serial Number is EC9F-7E59\n",
      "\n",
      " Directory of c:\\Users\\Ajaz Ahamad\\Desktop\\pw skills\n",
      "\n",
      "16-09-2025  19:05    <DIR>          .\n",
      "15-09-2025  15:13    <DIR>          ..\n",
      "14-09-2025  16:11             9,638 1.ipynb\n",
      "14-09-2025  16:11               244 21.ipynb\n",
      "15-09-2025  18:32                 0 class_and_static_method.ipynb\n",
      "16-09-2025  17:41                 0 decorators.ipynb\n",
      "14-09-2025  16:11             8,006 dictionary.ipynb\n",
      "16-09-2025  17:15                 0 dunder.ipynb\n",
      "16-09-2025  19:18               188 file.txt\n",
      "16-09-2025  18:57                 0 file_handling_basics.ipynb\n",
      "16-09-2025  09:19                 0 flask.ipynb\n",
      "14-09-2025  17:47            22,878 function.ipynb\n",
      "15-09-2025  15:31                 0 Inheritance.ipynb\n",
      "14-09-2025  17:47             2,095 iterators_and_generators.ipynb\n",
      "15-09-2025  14:38             6,094 lamba_function.ipynb\n",
      "14-09-2025  16:11            18,217 list.ipynb\n",
      "14-09-2025  16:11             1,985 oops.ipynb\n",
      "15-09-2025  17:25             7,604 Polymorphisam_Encapsulation.ipynb\n",
      "13-09-2025  16:28    <DIR>          python\n",
      "14-09-2025  16:11            12,243 tuples_and_sets.ipynb\n",
      "              17 File(s)         89,192 bytes\n",
      "               3 Dir(s)   8,770,670,592 bytes free\n"
     ]
    }
   ],
   "source": [
    "ls   # to see the list of the file"
   ]
  },
  {
   "cell_type": "code",
   "execution_count": 55,
   "id": "9fa8af24",
   "metadata": {},
   "outputs": [
    {
     "data": {
      "text/plain": [
       "188"
      ]
     },
     "execution_count": 55,
     "metadata": {},
     "output_type": "execute_result"
    }
   ],
   "source": [
    "os.path.getsize(\"file.txt\")"
   ]
  },
  {
   "cell_type": "code",
   "execution_count": null,
   "id": "0c0bc61e",
   "metadata": {},
   "outputs": [],
   "source": [
    "os.mkdir(\"test\")   # for making an directory "
   ]
  },
  {
   "cell_type": "code",
   "execution_count": 57,
   "id": "21a2d728",
   "metadata": {},
   "outputs": [],
   "source": [
    "os.mkdir(\"test/test1\")"
   ]
  },
  {
   "cell_type": "code",
   "execution_count": 59,
   "id": "452564f4",
   "metadata": {},
   "outputs": [],
   "source": [
    "os.makedirs(\"1/2/3/4\")"
   ]
  },
  {
   "cell_type": "code",
   "execution_count": 60,
   "id": "e7c938d0",
   "metadata": {},
   "outputs": [
    {
     "name": "stdout",
     "output_type": "stream",
     "text": [
      " Volume in drive C is Acer\n",
      " Volume Serial Number is EC9F-7E59\n",
      "\n",
      " Directory of c:\\Users\\Ajaz Ahamad\\Desktop\\pw skills\n",
      "\n",
      "16-09-2025  19:32    <DIR>          .\n",
      "15-09-2025  15:13    <DIR>          ..\n",
      "16-09-2025  19:32    <DIR>          1\n",
      "14-09-2025  16:11             9,638 1.ipynb\n",
      "14-09-2025  16:11               244 21.ipynb\n",
      "15-09-2025  18:32                 0 class_and_static_method.ipynb\n",
      "16-09-2025  17:41                 0 decorators.ipynb\n",
      "14-09-2025  16:11             8,006 dictionary.ipynb\n",
      "16-09-2025  17:15                 0 dunder.ipynb\n",
      "16-09-2025  19:18               188 file.txt\n",
      "16-09-2025  18:57                 0 file_handling_basics.ipynb\n",
      "16-09-2025  09:19                 0 flask.ipynb\n",
      "14-09-2025  17:47            22,878 function.ipynb\n",
      "15-09-2025  15:31                 0 Inheritance.ipynb\n",
      "14-09-2025  17:47             2,095 iterators_and_generators.ipynb\n",
      "15-09-2025  14:38             6,094 lamba_function.ipynb\n",
      "14-09-2025  16:11            18,217 list.ipynb\n",
      "14-09-2025  16:11             1,985 oops.ipynb\n",
      "15-09-2025  17:25             7,604 Polymorphisam_Encapsulation.ipynb\n",
      "13-09-2025  16:28    <DIR>          python\n",
      "16-09-2025  19:31    <DIR>          test\n",
      "14-09-2025  16:11            12,243 tuples_and_sets.ipynb\n",
      "              17 File(s)         89,192 bytes\n",
      "               5 Dir(s)   8,769,069,056 bytes free\n"
     ]
    }
   ],
   "source": [
    "ls"
   ]
  },
  {
   "cell_type": "code",
   "execution_count": 61,
   "id": "7288be64",
   "metadata": {},
   "outputs": [
    {
     "data": {
      "text/plain": [
       "['1',\n",
       " '1.ipynb',\n",
       " '21.ipynb',\n",
       " 'class_and_static_method.ipynb',\n",
       " 'decorators.ipynb',\n",
       " 'dictionary.ipynb',\n",
       " 'dunder.ipynb',\n",
       " 'file.txt',\n",
       " 'file_handling_basics.ipynb',\n",
       " 'flask.ipynb',\n",
       " 'function.ipynb',\n",
       " 'Inheritance.ipynb',\n",
       " 'iterators_and_generators.ipynb',\n",
       " 'lamba_function.ipynb',\n",
       " 'list.ipynb',\n",
       " 'oops.ipynb',\n",
       " 'Polymorphisam_Encapsulation.ipynb',\n",
       " 'python',\n",
       " 'test',\n",
       " 'tuples_and_sets.ipynb']"
      ]
     },
     "execution_count": 61,
     "metadata": {},
     "output_type": "execute_result"
    }
   ],
   "source": [
    "os.listdir()"
   ]
  },
  {
   "cell_type": "code",
   "execution_count": 65,
   "id": "b957b3d5",
   "metadata": {},
   "outputs": [],
   "source": [
    "os.mkdir(\"feet\")"
   ]
  },
  {
   "cell_type": "code",
   "execution_count": 66,
   "id": "3c22d7cd",
   "metadata": {},
   "outputs": [],
   "source": [
    "os.rmdir(\"feet\") # to delete one directory without any content inside the directory "
   ]
  },
  {
   "cell_type": "code",
   "execution_count": 67,
   "id": "0e0cddc1",
   "metadata": {},
   "outputs": [
    {
     "ename": "OSError",
     "evalue": "[WinError 145] The directory is not empty: 'test'",
     "output_type": "error",
     "traceback": [
      "\u001b[1;31m---------------------------------------------------------------------------\u001b[0m",
      "\u001b[1;31mOSError\u001b[0m                                   Traceback (most recent call last)",
      "Cell \u001b[1;32mIn[67], line 1\u001b[0m\n\u001b[1;32m----> 1\u001b[0m \u001b[43mos\u001b[49m\u001b[38;5;241;43m.\u001b[39;49m\u001b[43mrmdir\u001b[49m\u001b[43m(\u001b[49m\u001b[38;5;124;43m\"\u001b[39;49m\u001b[38;5;124;43mtest\u001b[39;49m\u001b[38;5;124;43m\"\u001b[39;49m\u001b[43m)\u001b[49m \u001b[38;5;66;03m# it will throw an error because directory is not empty \u001b[39;00m\n",
      "\u001b[1;31mOSError\u001b[0m: [WinError 145] The directory is not empty: 'test'"
     ]
    }
   ],
   "source": [
    "os.rmdir(\"test\") # it will throw an error because directory is not empty "
   ]
  },
  {
   "cell_type": "code",
   "execution_count": 69,
   "id": "a174a8d0",
   "metadata": {},
   "outputs": [],
   "source": [
    "# for deleting module that is not empty  we have to follow some step\n",
    "import shutil\n",
    "shutil.rmtree(\"test\")# it will remove the folder heirachy\n"
   ]
  },
  {
   "cell_type": "code",
   "execution_count": 70,
   "id": "54f806e8",
   "metadata": {},
   "outputs": [
    {
     "data": {
      "text/plain": [
       "'c:\\\\Users\\\\Ajaz Ahamad\\\\Desktop\\\\pw skills'"
      ]
     },
     "execution_count": 70,
     "metadata": {},
     "output_type": "execute_result"
    }
   ],
   "source": [
    "os.getcwd()"
   ]
  },
  {
   "cell_type": "code",
   "execution_count": 71,
   "id": "d5f74ffa",
   "metadata": {},
   "outputs": [],
   "source": [
    "os.makedirs(\"test/test1\")"
   ]
  },
  {
   "cell_type": "code",
   "execution_count": null,
   "id": "51ef5e69",
   "metadata": {},
   "outputs": [],
   "source": [
    "with open(\"file.txt\",'w') as f:\n",
    "    f.write(\"this is my first_line\")\n",
    "    \n",
    "# with statement ensure that the file is closed after the block of code is executed \n",
    "# it is important for free up system resources and avoid issues like data corruption and file log\n"
   ]
  },
  {
   "cell_type": "code",
   "execution_count": 77,
   "id": "7dbd723c",
   "metadata": {},
   "outputs": [],
   "source": [
    "with open(\"file.txt\",'r') as f:\n",
    "    line=f.readline()\n",
    "    "
   ]
  },
  {
   "cell_type": "code",
   "execution_count": 78,
   "id": "d9e7c6cb",
   "metadata": {},
   "outputs": [
    {
     "name": "stdout",
     "output_type": "stream",
     "text": [
      "this is my first_line\n"
     ]
    }
   ],
   "source": [
    "print(line)"
   ]
  },
  {
   "cell_type": "code",
   "execution_count": null,
   "id": "bbafff79",
   "metadata": {},
   "outputs": [],
   "source": []
  }
 ],
 "metadata": {
  "kernelspec": {
   "display_name": "Python 3",
   "language": "python",
   "name": "python3"
  },
  "language_info": {
   "codemirror_mode": {
    "name": "ipython",
    "version": 3
   },
   "file_extension": ".py",
   "mimetype": "text/x-python",
   "name": "python",
   "nbconvert_exporter": "python",
   "pygments_lexer": "ipython3",
   "version": "3.10.11"
  }
 },
 "nbformat": 4,
 "nbformat_minor": 5
}
