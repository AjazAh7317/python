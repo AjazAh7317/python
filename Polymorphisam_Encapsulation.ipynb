{
 "cells": [
  {
   "cell_type": "markdown",
   "id": "ec2006bd",
   "metadata": {},
   "source": [
    "POlymorphisam :Polymorphism means \"many forms\". In object-oriented programming, it allows objects of different classes to be treated through the same interface, especially when they share the same method name but behave differently."
   ]
  },
  {
   "cell_type": "code",
   "execution_count": 1,
   "id": "06376ce1",
   "metadata": {},
   "outputs": [],
   "source": [
    "def func(a,b):\n",
    "    return a+b"
   ]
  },
  {
   "cell_type": "code",
   "execution_count": null,
   "id": "ddaab071",
   "metadata": {},
   "outputs": [
    {
     "data": {
      "text/plain": [
       "5"
      ]
     },
     "execution_count": 2,
     "metadata": {},
     "output_type": "execute_result"
    }
   ],
   "source": [
    "func(2,3)  # same function but adding two integer"
   ]
  },
  {
   "cell_type": "code",
   "execution_count": null,
   "id": "41f605d4",
   "metadata": {},
   "outputs": [
    {
     "data": {
      "text/plain": [
       "'ajaz ahamad'"
      ]
     },
     "execution_count": 3,
     "metadata": {},
     "output_type": "execute_result"
    }
   ],
   "source": [
    "func(\"ajaz\",\" ahamad\") # same function but combining two string"
   ]
  },
  {
   "cell_type": "code",
   "execution_count": 4,
   "id": "21ef1011",
   "metadata": {},
   "outputs": [],
   "source": [
    "# observations: here we have used the same function name but different data type so this is called polymorphism "
   ]
  },
  {
   "cell_type": "code",
   "execution_count": 6,
   "id": "e5fd4506",
   "metadata": {},
   "outputs": [],
   "source": [
    "class teacher_lecture:\n",
    "    def lecture(self):\n",
    "        print(\"this is the lecture of the teacher\")\n",
    "class student_lecture:\n",
    "    def lecture(self):\n",
    "        print(\"this is the lecture of the student\")"
   ]
  },
  {
   "cell_type": "code",
   "execution_count": 7,
   "id": "ac189a1c",
   "metadata": {},
   "outputs": [
    {
     "name": "stdout",
     "output_type": "stream",
     "text": [
      "this is the lecture of the teacher\n",
      "this is the lecture of the student\n"
     ]
    }
   ],
   "source": [
    "obj1=teacher_lecture()\n",
    "obj2=student_lecture()\n",
    "class_obj=[obj1,obj2]\n",
    "for i in class_obj:\n",
    "    i.lecture()  # this is also polymorphism because we are using the same method name but different class"
   ]
  },
  {
   "cell_type": "code",
   "execution_count": 8,
   "id": "87baff21",
   "metadata": {},
   "outputs": [],
   "source": [
    "class teacher_lecture:\n",
    "    def lecture(self):\n",
    "        print(\"this is the lecture of the teacher\")\n",
    "class student_lecture:\n",
    "    def lecture(self):\n",
    "        print(\"this is the lecture of the student\")"
   ]
  },
  {
   "cell_type": "code",
   "execution_count": 9,
   "id": "9c2c6542",
   "metadata": {},
   "outputs": [],
   "source": [
    "obj1=teacher_lecture()\n",
    "obj2=student_lecture()\n",
    "class_obj=[obj1,obj2]"
   ]
  },
  {
   "cell_type": "code",
   "execution_count": 10,
   "id": "e2f12c85",
   "metadata": {},
   "outputs": [],
   "source": [
    "def parcer (class_obj):\n",
    "    for i in class_obj:\n",
    "        i.lecture()  # this is also polymorphism because we are using the same method name but different class"
   ]
  },
  {
   "cell_type": "code",
   "execution_count": 11,
   "id": "8e1b8ac5",
   "metadata": {},
   "outputs": [
    {
     "name": "stdout",
     "output_type": "stream",
     "text": [
      "this is the lecture of the teacher\n",
      "this is the lecture of the student\n"
     ]
    }
   ],
   "source": [
    "parcer(class_obj)"
   ]
  },
  {
   "cell_type": "code",
   "execution_count": 12,
   "id": "a98b2141",
   "metadata": {},
   "outputs": [
    {
     "name": "stdout",
     "output_type": "stream",
     "text": [
      "Dog barks\n",
      "Cat meows\n",
      "Animal speaks\n"
     ]
    }
   ],
   "source": [
    "class Animal:\n",
    "    def speak(self):\n",
    "        print(\"Animal speaks\")\n",
    "\n",
    "class Dog(Animal):\n",
    "    def speak(self):\n",
    "        print(\"Dog barks\")\n",
    "\n",
    "class Cat(Animal):\n",
    "    def speak(self):\n",
    "        print(\"Cat meows\")\n",
    "\n",
    "animals = [Dog(), Cat(), Animal()]\n",
    "\n",
    "for animal in animals:\n",
    "    animal.speak()\n"
   ]
  },
  {
   "cell_type": "code",
   "execution_count": 13,
   "id": "73362c60",
   "metadata": {},
   "outputs": [],
   "source": [
    "# ypes of Polymorphism:\n",
    "\n",
    "# Compile-Time Polymorphism/ method overloading (Not supported directly in Python)\n",
    "# Example: Method Overloading (Python uses default arguments instead)\n",
    "\n",
    "# Run-Time Polymorphism\n",
    "# Achieved using method overriding and duck typing"
   ]
  },
  {
   "cell_type": "code",
   "execution_count": 14,
   "id": "311f881b",
   "metadata": {},
   "outputs": [],
   "source": [
    "# method Overloading Example "
   ]
  },
  {
   "cell_type": "code",
   "execution_count": null,
   "id": "4ecd41a7",
   "metadata": {},
   "outputs": [],
   "source": [
    "class Student:\n",
    "    def student(self):\n",
    "        print(\"this is the student class\")\n",
    "    def student(self,name):\n",
    "        print(\"this is the student class with name:\",name)\n",
    "    def student(self,name=\" \",age=\" \"):\n",
    "        print(\"this is the student class with name:\",name,\"and age is:\",age)"
   ]
  },
  {
   "cell_type": "code",
   "execution_count": 16,
   "id": "652920bd",
   "metadata": {},
   "outputs": [],
   "source": [
    "obj=Student()"
   ]
  },
  {
   "cell_type": "code",
   "execution_count": 17,
   "id": "d8c2cd6e",
   "metadata": {},
   "outputs": [
    {
     "name": "stdout",
     "output_type": "stream",
     "text": [
      "this is the student class with name: ajaz and age is: 24\n"
     ]
    }
   ],
   "source": [
    "obj.student(\"ajaz\",24)  # this will give error because python does not support method overloading directly"
   ]
  },
  {
   "cell_type": "code",
   "execution_count": 25,
   "id": "9c4c8122",
   "metadata": {},
   "outputs": [
    {
     "name": "stdout",
     "output_type": "stream",
     "text": [
      "this is the student class with name: ajaz and age is:  \n"
     ]
    }
   ],
   "source": [
    "obj.student(\"ajaz\")  # this will give error because python does not support method overloading directly"
   ]
  },
  {
   "cell_type": "code",
   "execution_count": 23,
   "id": "68acabf4",
   "metadata": {},
   "outputs": [],
   "source": [
    "# method Overloading student method is taking diffrent forms the last methods overloads the previous one\n",
    "class Student:\n",
    "    def student(self,name=\" \",age=\" \"):\n",
    "        print(\"this is the student class with name:\",name,\"and age is:\",age)\n",
    "    \n",
    "    \n",
    "    \n",
    "    \n",
    "    "
   ]
  },
  {
   "cell_type": "code",
   "execution_count": 24,
   "id": "f8a6a558",
   "metadata": {},
   "outputs": [
    {
     "name": "stdout",
     "output_type": "stream",
     "text": [
      "this is the student class with name: ajaz and age is: 24\n",
      "this is the student class with name: ajaz and age is:  \n"
     ]
    }
   ],
   "source": [
    "obj=Student()\n",
    "obj.student(\"ajaz\",24)  # this will work fine\n",
    "obj.student(\"ajaz\")  # this will work fine"
   ]
  },
  {
   "cell_type": "markdown",
   "id": "d835005d",
   "metadata": {},
   "source": [
    "METHOD OVERLOADING HEPPENS IN THE SAME CLASS"
   ]
  },
  {
   "cell_type": "code",
   "execution_count": null,
   "id": "85186d36",
   "metadata": {},
   "outputs": [],
   "source": [
    "# MERTHOD OVERRIDING :child class provides its own implementation of a method that is already defined in its parent class."
   ]
  },
  {
   "cell_type": "code",
   "execution_count": 27,
   "id": "8ad8b4e0",
   "metadata": {},
   "outputs": [
    {
     "name": "stdout",
     "output_type": "stream",
     "text": [
      "Animal makes a sound\n",
      "Dog barks\n",
      "Cat meows\n"
     ]
    }
   ],
   "source": [
    "class Animal:\n",
    "    def speak(self):\n",
    "        print(\"Animal makes a sound\")\n",
    "\n",
    "class Dog(Animal):\n",
    "    def speak(self):\n",
    "        print(\"Dog barks\")\n",
    "\n",
    "class Cat(Animal):\n",
    "    def speak(self):\n",
    "        print(\"Cat meows\")\n",
    "\n",
    "a = Animal()\n",
    "d = Dog()\n",
    "c = Cat()\n",
    "\n",
    "a.speak()\n",
    "d.speak()\n",
    "c.speak()\n"
   ]
  },
  {
   "cell_type": "markdown",
   "id": "188e2fbf",
   "metadata": {},
   "source": [
    "Encapsulation : means hiding something \n",
    "Bundling of data and methods of a class"
   ]
  },
  {
   "cell_type": "code",
   "execution_count": null,
   "id": "99ccbb15",
   "metadata": {},
   "outputs": [],
   "source": [
    "# access modifier : public , private , protected\n",
    "# Public: Accessible from anywhere\n",
    "\"\n",
    "        "
   ]
  },
  {
   "cell_type": "code",
   "execution_count": 2,
   "id": "2ddbbed8",
   "metadata": {},
   "outputs": [],
   "source": [
    "class Student:\n",
    "    def __init__(self,name,degree):\n",
    "        self.name=name      # public attribute\n",
    "        self.degree=degree  "
   ]
  },
  {
   "cell_type": "code",
   "execution_count": 3,
   "id": "d35d5245",
   "metadata": {},
   "outputs": [],
   "source": [
    "st=Student(\"ajaz\",\"Btech\")"
   ]
  },
  {
   "cell_type": "code",
   "execution_count": 4,
   "id": "1d5cff9c",
   "metadata": {},
   "outputs": [
    {
     "data": {
      "text/plain": [
       "'ajaz'"
      ]
     },
     "execution_count": 4,
     "metadata": {},
     "output_type": "execute_result"
    }
   ],
   "source": [
    "st.name"
   ]
  },
  {
   "cell_type": "code",
   "execution_count": 5,
   "id": "bc728968",
   "metadata": {},
   "outputs": [
    {
     "data": {
      "text/plain": [
       "'Btech'"
      ]
     },
     "execution_count": 5,
     "metadata": {},
     "output_type": "execute_result"
    }
   ],
   "source": [
    "st.degree"
   ]
  },
  {
   "cell_type": "code",
   "execution_count": 8,
   "id": "e79e2a24",
   "metadata": {},
   "outputs": [],
   "source": [
    "st.degree=\"phd\""
   ]
  },
  {
   "cell_type": "code",
   "execution_count": 9,
   "id": "08afc5be",
   "metadata": {},
   "outputs": [
    {
     "data": {
      "text/plain": [
       "'phd'"
      ]
     },
     "execution_count": 9,
     "metadata": {},
     "output_type": "execute_result"
    }
   ],
   "source": [
    "st.degree"
   ]
  },
  {
   "cell_type": "code",
   "execution_count": 10,
   "id": "86cc4456",
   "metadata": {},
   "outputs": [],
   "source": [
    "# thats why we need private and protected access modifier"
   ]
  },
  {
   "cell_type": "code",
   "execution_count": null,
   "id": "f7562bf8",
   "metadata": {},
   "outputs": [],
   "source": [
    "# private: Accessible only within the class use __ before the attribute name"
   ]
  },
  {
   "cell_type": "code",
   "execution_count": 18,
   "id": "e1be6714",
   "metadata": {},
   "outputs": [],
   "source": [
    "class Student:\n",
    "    def __init__(self, name,degree):\n",
    "        self.name=name      \n",
    "        self.__degree=degree # private attribute"
   ]
  },
  {
   "cell_type": "code",
   "execution_count": 19,
   "id": "1db27161",
   "metadata": {},
   "outputs": [],
   "source": [
    "st=Student(\"ajaz\",\"Btech\")"
   ]
  },
  {
   "cell_type": "code",
   "execution_count": 20,
   "id": "7d2e942b",
   "metadata": {},
   "outputs": [
    {
     "data": {
      "text/plain": [
       "'ajaz'"
      ]
     },
     "execution_count": 20,
     "metadata": {},
     "output_type": "execute_result"
    }
   ],
   "source": [
    "st.name  # accessing public attribute"
   ]
  },
  {
   "cell_type": "code",
   "execution_count": null,
   "id": "65a1979d",
   "metadata": {},
   "outputs": [
    {
     "ename": "AttributeError",
     "evalue": "'Student' object has no attribute 'degree'",
     "output_type": "error",
     "traceback": [
      "\u001b[1;31m---------------------------------------------------------------------------\u001b[0m",
      "\u001b[1;31mAttributeError\u001b[0m                            Traceback (most recent call last)",
      "Cell \u001b[1;32mIn[22], line 1\u001b[0m\n\u001b[1;32m----> 1\u001b[0m \u001b[43mst\u001b[49m\u001b[38;5;241;43m.\u001b[39;49m\u001b[43mdegree\u001b[49m\n",
      "\u001b[1;31mAttributeError\u001b[0m: 'Student' object has no attribute 'degree'"
     ]
    }
   ],
   "source": [
    "st.degree # this will give error because degree is private attribute"
   ]
  },
  {
   "cell_type": "code",
   "execution_count": 23,
   "id": "6e098841",
   "metadata": {},
   "outputs": [
    {
     "data": {
      "text/plain": [
       "'Btech'"
      ]
     },
     "execution_count": 23,
     "metadata": {},
     "output_type": "execute_result"
    }
   ],
   "source": [
    "# this is the way to access private attribute\n",
    "\n",
    "st._Student__degree"
   ]
  },
  {
   "cell_type": "code",
   "execution_count": 24,
   "id": "58e2c392",
   "metadata": {},
   "outputs": [],
   "source": [
    "# method private \n",
    "class Student:\n",
    "    def __init__(self, name,degree):\n",
    "        self.name=name      \n",
    "        self.__degree=degree\n",
    "        \n",
    "    def show(self):\n",
    "        print(\"name:\",self.name)\n",
    "        print(\"degree:\",self.__degree)\n",
    "    def __display(self):  # private method\n",
    "        print(\"this is private method\")"
   ]
  },
  {
   "cell_type": "code",
   "execution_count": 27,
   "id": "a5a950be",
   "metadata": {},
   "outputs": [
    {
     "name": "stdout",
     "output_type": "stream",
     "text": [
      "name: ajaz\n",
      "degree: Btech\n"
     ]
    }
   ],
   "source": [
    "s=Student(\"ajaz\",\"Btech\")\n",
    "s.show()"
   ]
  },
  {
   "cell_type": "code",
   "execution_count": 28,
   "id": "83f4d5c0",
   "metadata": {},
   "outputs": [
    {
     "ename": "AttributeError",
     "evalue": "'Student' object has no attribute '__display'",
     "output_type": "error",
     "traceback": [
      "\u001b[1;31m---------------------------------------------------------------------------\u001b[0m",
      "\u001b[1;31mAttributeError\u001b[0m                            Traceback (most recent call last)",
      "Cell \u001b[1;32mIn[28], line 1\u001b[0m\n\u001b[1;32m----> 1\u001b[0m \u001b[43ms\u001b[49m\u001b[38;5;241;43m.\u001b[39;49m\u001b[43m__display\u001b[49m()\u001b[38;5;66;03m# this will give error because display is private method\u001b[39;00m\n",
      "\u001b[1;31mAttributeError\u001b[0m: 'Student' object has no attribute '__display'"
     ]
    }
   ],
   "source": [
    "s.__display()# this will give error because display is private method"
   ]
  },
  {
   "cell_type": "code",
   "execution_count": 29,
   "id": "4d59ffc6",
   "metadata": {},
   "outputs": [
    {
     "name": "stdout",
     "output_type": "stream",
     "text": [
      "this is private method\n"
     ]
    }
   ],
   "source": [
    "# to access private method\n",
    "s._Student__display()"
   ]
  },
  {
   "cell_type": "code",
   "execution_count": 31,
   "id": "84f8c160",
   "metadata": {},
   "outputs": [],
   "source": [
    "# way to provide ann option to see the private method \n",
    "# method private \n",
    "class Student:\n",
    "    def __init__(self, name,degree):\n",
    "        self.name=name      \n",
    "        self.__degree=degree\n",
    "        \n",
    "    def show(self):\n",
    "        print(\"name:\",self.name)\n",
    "        print(\"degree:\",self.__degree)\n",
    "    def __display(self):  # private method\n",
    "        print(\"this is private method\")\n",
    "    def access_private(self): # public method to access private method\n",
    "        self.__display()"
   ]
  },
  {
   "cell_type": "code",
   "execution_count": 32,
   "id": "a257c55e",
   "metadata": {},
   "outputs": [],
   "source": [
    "obj=Student(\"ajaz\",\"Btech\")"
   ]
  },
  {
   "cell_type": "code",
   "execution_count": 33,
   "id": "681186af",
   "metadata": {},
   "outputs": [
    {
     "name": "stdout",
     "output_type": "stream",
     "text": [
      "this is private method\n"
     ]
    }
   ],
   "source": [
    "obj.access_private()"
   ]
  },
  {
   "cell_type": "code",
   "execution_count": 39,
   "id": "b1d60794",
   "metadata": {},
   "outputs": [],
   "source": [
    "# another use case \n",
    "\n",
    "class Car:\n",
    "    def __init__(self, year, make, speed, model):\n",
    "        self.__year = year       # Private attribute\n",
    "        self.__make = make       # Private attribute\n",
    "        self.__model = model     # Private attribute\n",
    "        self.__speed = speed     # Private attribute\n",
    "\n",
    "\n"
   ]
  },
  {
   "cell_type": "markdown",
   "id": "fda5bacc",
   "metadata": {},
   "source": []
  },
  {
   "cell_type": "code",
   "execution_count": 40,
   "id": "36fdf610",
   "metadata": {},
   "outputs": [],
   "source": [
    "c=Car(2020, \"Toyota\", 120, \"Camry\")"
   ]
  },
  {
   "cell_type": "code",
   "execution_count": null,
   "id": "3e038462",
   "metadata": {},
   "outputs": [
    {
     "ename": "AttributeError",
     "evalue": "'Car' object has no attribute 'year'",
     "output_type": "error",
     "traceback": [
      "\u001b[1;31m---------------------------------------------------------------------------\u001b[0m",
      "\u001b[1;31mAttributeError\u001b[0m                            Traceback (most recent call last)",
      "Cell \u001b[1;32mIn[41], line 1\u001b[0m\n\u001b[1;32m----> 1\u001b[0m \u001b[43mc\u001b[49m\u001b[38;5;241;43m.\u001b[39;49m\u001b[43myear\u001b[49m\n",
      "\u001b[1;31mAttributeError\u001b[0m: 'Car' object has no attribute 'year'"
     ]
    }
   ],
   "source": [
    "c.year # this will give error because year is private attribute"
   ]
  },
  {
   "cell_type": "code",
   "execution_count": 59,
   "id": "720e1074",
   "metadata": {},
   "outputs": [],
   "source": [
    "# ...existing code...\n",
    "class Car:\n",
    "    def __init__(self, year, make, speed, model):\n",
    "        self.__year = year       # Private attribute\n",
    "        self.__make = make       # Private attribute\n",
    "        self.__model = model     # Private attribute\n",
    "        self.__speed = speed     # Private attribute\n",
    "\n",
    "    def set_speed(self, speed):\n",
    "        # ensure numeric speed; negative speeds become 0\n",
    "        self.__speed = 0 if speed < 0 else speed\n",
    "\n",
    "    def get_speed(self):\n",
    "        return self.__speed\n",
    "\n",
    "\n"
   ]
  },
  {
   "cell_type": "code",
   "execution_count": 60,
   "id": "3190023e",
   "metadata": {},
   "outputs": [
    {
     "name": "stdout",
     "output_type": "stream",
     "text": [
      "120\n"
     ]
    }
   ],
   "source": [
    "c = Car(2020, \"Toyota\", 120, \"Camry\")\n",
    "print(c.get_speed())\n"
   ]
  },
  {
   "cell_type": "code",
   "execution_count": 61,
   "id": "f0a88ff3",
   "metadata": {},
   "outputs": [
    {
     "name": "stdout",
     "output_type": "stream",
     "text": [
      "150\n"
     ]
    }
   ],
   "source": [
    "c.set_speed(150)\n",
    "print(c.get_speed())\n"
   ]
  },
  {
   "cell_type": "code",
   "execution_count": 63,
   "id": "c2cfaaa8",
   "metadata": {},
   "outputs": [],
   "source": [
    "#another use case\n",
    "class Bank:\n",
    "    def __init__(self,balance):\n",
    "        self.__balance=balance \n",
    "    def depoit(self,amount):\n",
    "        self.__balance=self.__balance + amount\n",
    "    def withdraw(self,amount):\n",
    "        if amount > self.__balance:\n",
    "            print(\"Insufficient funds\")\n",
    "        else:\n",
    "            self.__balance=self.__balance - amount\n",
    "        \n",
    "    def get_balance(self):\n",
    "        return self.__balance"
   ]
  },
  {
   "cell_type": "code",
   "execution_count": 64,
   "id": "30900e2a",
   "metadata": {},
   "outputs": [],
   "source": [
    "Bank1=Bank(1000)\n"
   ]
  },
  {
   "cell_type": "code",
   "execution_count": 66,
   "id": "0e41beef",
   "metadata": {},
   "outputs": [
    {
     "data": {
      "text/plain": [
       "1000"
      ]
     },
     "execution_count": 66,
     "metadata": {},
     "output_type": "execute_result"
    }
   ],
   "source": [
    "Bank1.get_balance()\n",
    "#!/"
   ]
  },
  {
   "cell_type": "code",
   "execution_count": 67,
   "id": "2bb82cee",
   "metadata": {},
   "outputs": [
    {
     "data": {
      "text/plain": [
       "1500"
      ]
     },
     "execution_count": 67,
     "metadata": {},
     "output_type": "execute_result"
    }
   ],
   "source": [
    "Bank1.depoit(500)\n",
    "Bank1.get_balance()"
   ]
  },
  {
   "cell_type": "code",
   "execution_count": 68,
   "id": "82322494",
   "metadata": {},
   "outputs": [],
   "source": [
    "Bank1.withdraw(200)"
   ]
  },
  {
   "cell_type": "code",
   "execution_count": 69,
   "id": "227387ad",
   "metadata": {},
   "outputs": [
    {
     "data": {
      "text/plain": [
       "1300"
      ]
     },
     "execution_count": 69,
     "metadata": {},
     "output_type": "execute_result"
    }
   ],
   "source": [
    "Bank1.get_balance()"
   ]
  },
  {
   "cell_type": "code",
   "execution_count": 70,
   "id": "b5cc1952",
   "metadata": {},
   "outputs": [
    {
     "name": "stdout",
     "output_type": "stream",
     "text": [
      "Insufficient funds\n"
     ]
    }
   ],
   "source": [
    "Bank1.withdraw(2000)  # this will give insufficient fund because balance is less than withdraw amount"
   ]
  },
  {
   "cell_type": "markdown",
   "id": "d5bb1004",
   "metadata": {},
   "source": [
    "Protected : 🛡️ Protected Members in Python\n",
    "\n",
    "In Python, protected members are intended to be accessible within the class and its subclasses — not from outside the class directly.\n",
    "\n",
    "They are defined by prefixing the attribute or method name with a single underscore _.\n",
    "\n",
    "It’s only a convention — Python doesn’t enforce true access control like some other languages (e.g. Java, C+"
   ]
  },
  {
   "cell_type": "code",
   "execution_count": 71,
   "id": "5bc444e2",
   "metadata": {},
   "outputs": [],
   "source": [
    "class College:\n",
    "    def __init__(self, name, location):\n",
    "        self._name = name          # Protected attribute\n",
    "        self._location = location  # Protected attribute\n",
    "class Department(College):\n",
    "    def __init__(self, name, location, dept_name):\n",
    "        super().__init__(name, location)\n",
    "        self.dept_name = dept_name  # Public attribute\n",
    "\n",
    "    def display_info(self):\n",
    "        print(f\"College Name: {self._name}\")          # Accessing protected attribute\n",
    "        print(f\"College Location: {self._location}\")  # Accessing protected attribute\n",
    "        print(f\"Department Name: {self.dept_name}\")   # Accessing public attribute"
   ]
  },
  {
   "cell_type": "code",
   "execution_count": 73,
   "id": "cc332e15",
   "metadata": {},
   "outputs": [],
   "source": [
    "D=Department(\"ABC College\", \"New York\", \"Computer Science\")"
   ]
  },
  {
   "cell_type": "code",
   "execution_count": 74,
   "id": "801003d9",
   "metadata": {},
   "outputs": [
    {
     "name": "stdout",
     "output_type": "stream",
     "text": [
      "College Name: ABC College\n",
      "College Location: New York\n",
      "Department Name: Computer Science\n"
     ]
    }
   ],
   "source": [
    "D.display_info()"
   ]
  },
  {
   "cell_type": "code",
   "execution_count": 75,
   "id": "f69e270b",
   "metadata": {},
   "outputs": [],
   "source": [
    "class Car:\n",
    "    def __init__(self, make, model):\n",
    "        self._make = make       # protected\n",
    "        self._model = model     # protected\n",
    "\n",
    "    def show_info(self):\n",
    "        print(f\"Car: {self._make} {self._model}\")\n",
    "\n",
    "class SportsCar(Car):\n",
    "    def boost(self):\n",
    "        print(f\"{self._make} {self._model} boosts speed!\")\n",
    "\n",
    "\n"
   ]
  },
  {
   "cell_type": "code",
   "execution_count": 76,
   "id": "41a76c89",
   "metadata": {},
   "outputs": [
    {
     "name": "stdout",
     "output_type": "stream",
     "text": [
      "Car: Ferrari F8\n",
      "Ferrari F8 boosts speed!\n"
     ]
    }
   ],
   "source": [
    "car = SportsCar(\"Ferrari\", \"F8\")\n",
    "car.show_info()\n",
    "car.boost()"
   ]
  },
  {
   "cell_type": "code",
   "execution_count": null,
   "id": "f29f9a5c",
   "metadata": {},
   "outputs": [],
   "source": []
  }
 ],
 "metadata": {
  "kernelspec": {
   "display_name": "Python 3",
   "language": "python",
   "name": "python3"
  },
  "language_info": {
   "codemirror_mode": {
    "name": "ipython",
    "version": 3
   },
   "file_extension": ".py",
   "mimetype": "text/x-python",
   "name": "python",
   "nbconvert_exporter": "python",
   "pygments_lexer": "ipython3",
   "version": "3.10.11"
  }
 },
 "nbformat": 4,
 "nbformat_minor": 5
}
