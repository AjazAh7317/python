{
 "cells": [
  {
   "cell_type": "code",
   "execution_count": null,
   "id": "a9d276f2",
   "metadata": {},
   "outputs": [],
   "source": [
    "# TUPLE IS IMMUTABLE\n",
    "\n",
    "\n",
    "t=(\"aktu\",\"ajaz\",2+3j)"
   ]
  },
  {
   "cell_type": "code",
   "execution_count": 2,
   "id": "5b71eb6e",
   "metadata": {},
   "outputs": [
    {
     "data": {
      "text/plain": [
       "('aktu', 'ajaz', (2+3j))"
      ]
     },
     "execution_count": 2,
     "metadata": {},
     "output_type": "execute_result"
    }
   ],
   "source": [
    "t"
   ]
  },
  {
   "cell_type": "code",
   "execution_count": 3,
   "id": "5fedd50f",
   "metadata": {},
   "outputs": [
    {
     "data": {
      "text/plain": [
       "'ajaz'"
      ]
     },
     "execution_count": 3,
     "metadata": {},
     "output_type": "execute_result"
    }
   ],
   "source": [
    "t[1]"
   ]
  },
  {
   "cell_type": "code",
   "execution_count": 4,
   "id": "674704c4",
   "metadata": {},
   "outputs": [],
   "source": [
    "t1=(\"aktu\",\"ajaz\",2+3j,1,2,5,4,1,8,1)"
   ]
  },
  {
   "cell_type": "code",
   "execution_count": 5,
   "id": "92568f2b",
   "metadata": {},
   "outputs": [
    {
     "data": {
      "text/plain": [
       "3"
      ]
     },
     "execution_count": 5,
     "metadata": {},
     "output_type": "execute_result"
    }
   ],
   "source": [
    "t1.count(1)"
   ]
  },
  {
   "cell_type": "code",
   "execution_count": 6,
   "id": "07d2a8c9",
   "metadata": {},
   "outputs": [
    {
     "data": {
      "text/plain": [
       "('aktu', 'ajaz', (2+3j), 1)"
      ]
     },
     "execution_count": 6,
     "metadata": {},
     "output_type": "execute_result"
    }
   ],
   "source": [
    "t1[0:4]"
   ]
  },
  {
   "cell_type": "code",
   "execution_count": 8,
   "id": "c3342330",
   "metadata": {},
   "outputs": [
    {
     "data": {
      "text/plain": [
       "(1, 8, 1, 4, 5, 2, 1, (2+3j), 'ajaz', 'aktu')"
      ]
     },
     "execution_count": 8,
     "metadata": {},
     "output_type": "execute_result"
    }
   ],
   "source": [
    "t1[::-1]"
   ]
  },
  {
   "cell_type": "code",
   "execution_count": 9,
   "id": "d19b202c",
   "metadata": {},
   "outputs": [],
   "source": [
    "t2=(\"aktu\",\"ajaz\",2+3j,1,2,5,4,1,8,1)\n",
    "t3=(\"hh\",5,3,7)\n",
    "t4=(t3,t2)"
   ]
  },
  {
   "cell_type": "code",
   "execution_count": 10,
   "id": "ab57c27a",
   "metadata": {},
   "outputs": [
    {
     "data": {
      "text/plain": [
       "(('hh', 5, 3, 7), ('aktu', 'ajaz', (2+3j), 1, 2, 5, 4, 1, 8, 1))"
      ]
     },
     "execution_count": 10,
     "metadata": {},
     "output_type": "execute_result"
    }
   ],
   "source": [
    "t4"
   ]
  },
  {
   "cell_type": "code",
   "execution_count": 11,
   "id": "cf34286a",
   "metadata": {},
   "outputs": [],
   "source": [
    "del t4"
   ]
  },
  {
   "cell_type": "code",
   "execution_count": null,
   "id": "4036f8aa",
   "metadata": {},
   "outputs": [
    {
     "ename": "NameError",
     "evalue": "name 't4' is not defined",
     "output_type": "error",
     "traceback": [
      "\u001b[1;31m---------------------------------------------------------------------------\u001b[0m",
      "\u001b[1;31mNameError\u001b[0m                                 Traceback (most recent call last)",
      "Cell \u001b[1;32mIn[12], line 1\u001b[0m\n\u001b[1;32m----> 1\u001b[0m \u001b[38;5;28;01mdel\u001b[39;00m t4\n",
      "\u001b[1;31mNameError\u001b[0m: name 't4' is not defined"
     ]
    }
   ],
   "source": [
    "t4"
   ]
  },
  {
   "cell_type": "code",
   "execution_count": 13,
   "id": "26c1cd63",
   "metadata": {},
   "outputs": [
    {
     "data": {
      "text/plain": [
       "True"
      ]
     },
     "execution_count": 13,
     "metadata": {},
     "output_type": "execute_result"
    }
   ],
   "source": [
    "1 in t1"
   ]
  },
  {
   "cell_type": "code",
   "execution_count": 14,
   "id": "14071d4a",
   "metadata": {},
   "outputs": [
    {
     "data": {
      "text/plain": [
       "False"
      ]
     },
     "execution_count": 14,
     "metadata": {},
     "output_type": "execute_result"
    }
   ],
   "source": [
    "1 not in t1"
   ]
  },
  {
   "cell_type": "code",
   "execution_count": 16,
   "id": "1646fced",
   "metadata": {},
   "outputs": [],
   "source": [
    "# combing both tuples\n",
    "t5=t2+t3"
   ]
  },
  {
   "cell_type": "code",
   "execution_count": 17,
   "id": "e228663f",
   "metadata": {},
   "outputs": [
    {
     "data": {
      "text/plain": [
       "('aktu', 'ajaz', (2+3j), 1, 2, 5, 4, 1, 8, 1, 'hh', 5, 3, 7)"
      ]
     },
     "execution_count": 17,
     "metadata": {},
     "output_type": "execute_result"
    }
   ],
   "source": [
    "t5"
   ]
  },
  {
   "cell_type": "code",
   "execution_count": null,
   "id": "2e2dc0bc",
   "metadata": {},
   "outputs": [],
   "source": [
    "# sets : sets are unordered and unique collection of elements\n",
    "# does not allow duplicate value\n",
    "# due to unordered index will not work"
   ]
  },
  {
   "cell_type": "code",
   "execution_count": 18,
   "id": "f05ba70d",
   "metadata": {},
   "outputs": [],
   "source": [
    "s={1,2,3}\n"
   ]
  },
  {
   "cell_type": "code",
   "execution_count": 19,
   "id": "f8c8231d",
   "metadata": {},
   "outputs": [
    {
     "data": {
      "text/plain": [
       "set"
      ]
     },
     "execution_count": 19,
     "metadata": {},
     "output_type": "execute_result"
    }
   ],
   "source": [
    "type(s)"
   ]
  },
  {
   "cell_type": "code",
   "execution_count": 20,
   "id": "9ff23e40",
   "metadata": {},
   "outputs": [
    {
     "data": {
      "text/plain": [
       "{1, 2, 3, 4}"
      ]
     },
     "execution_count": 20,
     "metadata": {},
     "output_type": "execute_result"
    }
   ],
   "source": [
    "s={1,2,3,1,4,2,}\n",
    "s"
   ]
  },
  {
   "cell_type": "code",
   "execution_count": 21,
   "id": "325d2f78",
   "metadata": {},
   "outputs": [],
   "source": [
    "s.add(10)"
   ]
  },
  {
   "cell_type": "code",
   "execution_count": 22,
   "id": "42b0d790",
   "metadata": {},
   "outputs": [
    {
     "data": {
      "text/plain": [
       "{1, 2, 3, 4, 10}"
      ]
     },
     "execution_count": 22,
     "metadata": {},
     "output_type": "execute_result"
    }
   ],
   "source": [
    "s\n"
   ]
  },
  {
   "cell_type": "code",
   "execution_count": 23,
   "id": "73ce809b",
   "metadata": {},
   "outputs": [
    {
     "data": {
      "text/plain": [
       "1"
      ]
     },
     "execution_count": 23,
     "metadata": {},
     "output_type": "execute_result"
    }
   ],
   "source": [
    "s.pop()"
   ]
  },
  {
   "cell_type": "code",
   "execution_count": 24,
   "id": "f4cf6a53",
   "metadata": {},
   "outputs": [
    {
     "data": {
      "text/plain": [
       "{2, 3, 4, 10}"
      ]
     },
     "execution_count": 24,
     "metadata": {},
     "output_type": "execute_result"
    }
   ],
   "source": [
    "s"
   ]
  },
  {
   "cell_type": "code",
   "execution_count": 25,
   "id": "cd92083c",
   "metadata": {},
   "outputs": [
    {
     "data": {
      "text/plain": [
       "2"
      ]
     },
     "execution_count": 25,
     "metadata": {},
     "output_type": "execute_result"
    }
   ],
   "source": [
    "s.pop()"
   ]
  },
  {
   "cell_type": "code",
   "execution_count": 26,
   "id": "7f690129",
   "metadata": {},
   "outputs": [
    {
     "data": {
      "text/plain": [
       "{3, 4, 10}"
      ]
     },
     "execution_count": 26,
     "metadata": {},
     "output_type": "execute_result"
    }
   ],
   "source": [
    "s"
   ]
  },
  {
   "cell_type": "code",
   "execution_count": 27,
   "id": "55e8e90d",
   "metadata": {},
   "outputs": [],
   "source": [
    "s.update(\"ajaz\")"
   ]
  },
  {
   "cell_type": "code",
   "execution_count": 28,
   "id": "7b705837",
   "metadata": {},
   "outputs": [
    {
     "data": {
      "text/plain": [
       "{10, 3, 4, 'a', 'j', 'z'}"
      ]
     },
     "execution_count": 28,
     "metadata": {},
     "output_type": "execute_result"
    }
   ],
   "source": [
    "s"
   ]
  },
  {
   "cell_type": "code",
   "execution_count": 31,
   "id": "6486ebba",
   "metadata": {},
   "outputs": [],
   "source": [
    "s.update([8])"
   ]
  },
  {
   "cell_type": "code",
   "execution_count": 32,
   "id": "d5ee5ea0",
   "metadata": {},
   "outputs": [
    {
     "data": {
      "text/plain": [
       "{10, 3, 4, 8, 'a', 'j', 'z'}"
      ]
     },
     "execution_count": 32,
     "metadata": {},
     "output_type": "execute_result"
    }
   ],
   "source": [
    "s"
   ]
  },
  {
   "cell_type": "code",
   "execution_count": null,
   "id": "ae8d5e01",
   "metadata": {},
   "outputs": [],
   "source": [
    "# set Operations\n",
    "# union\n",
    "# intersection\n",
    "# diffrence present in 1st set not in 2nd\n",
    "#symmetric diffrence : return all the elements other then common elements"
   ]
  },
  {
   "cell_type": "code",
   "execution_count": 34,
   "id": "dd7b6d17",
   "metadata": {},
   "outputs": [
    {
     "name": "stdout",
     "output_type": "stream",
     "text": [
      "{1, 2, 3, 4, 5}\n"
     ]
    }
   ],
   "source": [
    "a = {1, 2, 3}\n",
    "b = {3, 4, 5}\n",
    "\n",
    "union = a | b        \n",
    "print(union)         \n"
   ]
  },
  {
   "cell_type": "code",
   "execution_count": 35,
   "id": "d925bdc2",
   "metadata": {},
   "outputs": [
    {
     "name": "stdout",
     "output_type": "stream",
     "text": [
      "{3}\n"
     ]
    }
   ],
   "source": [
    "intersection = a & b    \n",
    "print(intersection)      \n"
   ]
  },
  {
   "cell_type": "code",
   "execution_count": null,
   "id": "73880258",
   "metadata": {},
   "outputs": [
    {
     "name": "stdout",
     "output_type": "stream",
     "text": [
      "{1, 2}\n"
     ]
    }
   ],
   "source": [
    "difference = a - b       \n",
    "print(difference)        \n"
   ]
  },
  {
   "cell_type": "code",
   "execution_count": 37,
   "id": "c7fecbac",
   "metadata": {},
   "outputs": [
    {
     "name": "stdout",
     "output_type": "stream",
     "text": [
      "{1, 2, 4, 5}\n"
     ]
    }
   ],
   "source": [
    "sym_diff = a ^ b        \n",
    "print(sym_diff)          \n"
   ]
  },
  {
   "cell_type": "code",
   "execution_count": null,
   "id": "f3325606",
   "metadata": {},
   "outputs": [],
   "source": [
    "# frozen set : A frozenset is an immutable (unchangeable) version of a regular set.\n",
    "#Once created, you cannot add, remove, or modify its elements."
   ]
  },
  {
   "cell_type": "code",
   "execution_count": 38,
   "id": "4533c127",
   "metadata": {},
   "outputs": [
    {
     "name": "stdout",
     "output_type": "stream",
     "text": [
      "frozenset({1, 2, 3, 4})\n"
     ]
    }
   ],
   "source": [
    "fs = frozenset([1, 2, 3, 4])\n",
    "print(fs) \n"
   ]
  },
  {
   "cell_type": "code",
   "execution_count": 39,
   "id": "ff5d341a",
   "metadata": {},
   "outputs": [
    {
     "ename": "AttributeError",
     "evalue": "'frozenset' object has no attribute 'add'",
     "output_type": "error",
     "traceback": [
      "\u001b[1;31m---------------------------------------------------------------------------\u001b[0m",
      "\u001b[1;31mAttributeError\u001b[0m                            Traceback (most recent call last)",
      "Cell \u001b[1;32mIn[39], line 1\u001b[0m\n\u001b[1;32m----> 1\u001b[0m \u001b[43mfs\u001b[49m\u001b[38;5;241;43m.\u001b[39;49m\u001b[43madd\u001b[49m(\u001b[38;5;241m6\u001b[39m)\n",
      "\u001b[1;31mAttributeError\u001b[0m: 'frozenset' object has no attribute 'add'"
     ]
    }
   ],
   "source": [
    "fs.add(6)"
   ]
  },
  {
   "cell_type": "code",
   "execution_count": null,
   "id": "387c1b85",
   "metadata": {},
   "outputs": [],
   "source": []
  }
 ],
 "metadata": {
  "kernelspec": {
   "display_name": "Python 3",
   "language": "python",
   "name": "python3"
  },
  "language_info": {
   "codemirror_mode": {
    "name": "ipython",
    "version": 3
   },
   "file_extension": ".py",
   "mimetype": "text/x-python",
   "name": "python",
   "nbconvert_exporter": "python",
   "pygments_lexer": "ipython3",
   "version": "3.10.11"
  }
 },
 "nbformat": 4,
 "nbformat_minor": 5
}
