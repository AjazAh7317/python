{
 "cells": [
  {
   "cell_type": "markdown",
   "id": "88fe1852",
   "metadata": {},
   "source": [
    "class and static method : "
   ]
  },
  {
   "cell_type": "code",
   "execution_count": 1,
   "id": "4847549f",
   "metadata": {},
   "outputs": [],
   "source": [
    "# class methods: bound to the class it can access methods and attribute associated to the class\n",
    "# @Classmethod decorator is used to define a class method\n",
    "# it takes cls as first parameter while instance method takes self as first parameter\n",
    "# static method: it does not take self or cls as first parameter"
   ]
  },
  {
   "cell_type": "code",
   "execution_count": 2,
   "id": "a18f46b7",
   "metadata": {},
   "outputs": [],
   "source": [
    "class Student:\n",
    "    # constructor \n",
    "    def __init__(self, name):\n",
    "        self.name = name\n",
    "        "
   ]
  },
  {
   "cell_type": "code",
   "execution_count": 3,
   "id": "f01693e0",
   "metadata": {},
   "outputs": [],
   "source": [
    "obj=Student(\"Ajaz Ahamad\")"
   ]
  },
  {
   "cell_type": "code",
   "execution_count": 4,
   "id": "7777865a",
   "metadata": {},
   "outputs": [
    {
     "data": {
      "text/plain": [
       "'Ajaz Ahamad'"
      ]
     },
     "execution_count": 4,
     "metadata": {},
     "output_type": "execute_result"
    }
   ],
   "source": [
    "obj.name"
   ]
  },
  {
   "cell_type": "code",
   "execution_count": 5,
   "id": "259684b0",
   "metadata": {},
   "outputs": [],
   "source": [
    "class Student:\n",
    "    # constructor \n",
    "    def __init__(self, name):\n",
    "        self.name = name # self means this variable/method reffrering to the current instance of the class\n",
    "    @classmethod # bound to the class \n",
    "    def student_details(cls,name):\n",
    "        return cls(name) # cls means this variable/method reffrering to the current class"
   ]
  },
  {
   "cell_type": "code",
   "execution_count": null,
   "id": "4c8cb82a",
   "metadata": {},
   "outputs": [],
   "source": [
    "# what is the meaning of refferinbg to the class?\n",
    "# earlier to access any method/attribute first make instance/object of the class\n",
    "# then obj.attribute\n",
    "# but if it is class method you can directly access it by class name"
   ]
  },
  {
   "cell_type": "code",
   "execution_count": null,
   "id": "45e903a7",
   "metadata": {},
   "outputs": [],
   "source": [
    "obj1=Student.student_details(\"Ajaz Ahamad\") # since it is class method we can directly access it by class name"
   ]
  },
  {
   "cell_type": "code",
   "execution_count": 7,
   "id": "5649a575",
   "metadata": {},
   "outputs": [
    {
     "data": {
      "text/plain": [
       "'Ajaz Ahamad'"
      ]
     },
     "execution_count": 7,
     "metadata": {},
     "output_type": "execute_result"
    }
   ],
   "source": [
    "obj1.name"
   ]
  },
  {
   "cell_type": "code",
   "execution_count": null,
   "id": "cdb1421c",
   "metadata": {},
   "outputs": [],
   "source": [
    "# STATIC METHOD: A static method is a method that belongs to a class, not an instance of the class. This means:\n",
    "\n",
    "#You don’t need to create an object of the class to use the static method.\n",
    "\n",
    "#It cannot access instance variables or methods directly.\n",
    "\n",
    "#It is marked with a special keyword (e.g., @staticmethod in Python, static in Java/C++/C#)."
   ]
  },
  {
   "cell_type": "code",
   "execution_count": null,
   "id": "86bbc2a6",
   "metadata": {},
   "outputs": [],
   "source": []
  }
 ],
 "metadata": {
  "kernelspec": {
   "display_name": "Python 3",
   "language": "python",
   "name": "python3"
  },
  "language_info": {
   "codemirror_mode": {
    "name": "ipython",
    "version": 3
   },
   "file_extension": ".py",
   "mimetype": "text/x-python",
   "name": "python",
   "nbconvert_exporter": "python",
   "pygments_lexer": "ipython3",
   "version": "3.10.11"
  }
 },
 "nbformat": 4,
 "nbformat_minor": 5
}
