{
 "cells": [
  {
   "cell_type": "markdown",
   "id": "1a3b6e45",
   "metadata": {},
   "source": [
    "Inheritence: Inheritance is a fundamental concept in Object-Oriented Programming (OOP) that allows a class (called a child or subclass) to inherit properties and methods from another class (called a parent or superclass)"
   ]
  },
  {
   "cell_type": "code",
   "execution_count": 1,
   "id": "8d748da5",
   "metadata": {},
   "outputs": [],
   "source": [
    "#syntax \n",
    "# class baseclass:\n",
    "#     body of class\n",
    "# derivedclass(baseclass):\n",
    "#     body of derived class"
   ]
  },
  {
   "cell_type": "code",
   "execution_count": null,
   "id": "2c9109d5",
   "metadata": {},
   "outputs": [],
   "source": [
    "# single Inheritance: when a derived class has only one parent/base class"
   ]
  },
  {
   "cell_type": "code",
   "execution_count": 2,
   "id": "cc83e404",
   "metadata": {},
   "outputs": [],
   "source": [
    "class Father:\n",
    "    def father_property(self):\n",
    "        print(\"Land,Car\")"
   ]
  },
  {
   "cell_type": "code",
   "execution_count": 3,
   "id": "9fbd70d9",
   "metadata": {},
   "outputs": [],
   "source": [
    "class son(Father):\n",
    "    def son_property(self):\n",
    "        print(\"Bike,Money\")"
   ]
  },
  {
   "cell_type": "code",
   "execution_count": 6,
   "id": "abb14ddf",
   "metadata": {},
   "outputs": [],
   "source": [
    "son1=son()  # object of son class"
   ]
  },
  {
   "cell_type": "code",
   "execution_count": 7,
   "id": "73e2369d",
   "metadata": {},
   "outputs": [
    {
     "name": "stdout",
     "output_type": "stream",
     "text": [
      "Bike,Money\n"
     ]
    }
   ],
   "source": [
    "son1.son_property()  # calling son class method"
   ]
  },
  {
   "cell_type": "code",
   "execution_count": 8,
   "id": "f5c5802e",
   "metadata": {},
   "outputs": [
    {
     "name": "stdout",
     "output_type": "stream",
     "text": [
      "Land,Car\n"
     ]
    }
   ],
   "source": [
    "son1.father_property()  # calling parent class method"
   ]
  },
  {
   "cell_type": "code",
   "execution_count": 9,
   "id": "5f07e8e2",
   "metadata": {},
   "outputs": [],
   "source": [
    "# a father will have only his property but a son will have both his and father's property"
   ]
  },
  {
   "cell_type": "code",
   "execution_count": 10,
   "id": "5d13c61f",
   "metadata": {},
   "outputs": [
    {
     "name": "stdout",
     "output_type": "stream",
     "text": [
      "Land,Car\n"
     ]
    }
   ],
   "source": [
    "father_obj=Father()  # object of father class\n",
    "father_obj.father_property()  # calling father class method"
   ]
  },
  {
   "cell_type": "code",
   "execution_count": 11,
   "id": "3908430b",
   "metadata": {},
   "outputs": [
    {
     "ename": "AttributeError",
     "evalue": "'Father' object has no attribute 'son_property'",
     "output_type": "error",
     "traceback": [
      "\u001b[1;31m---------------------------------------------------------------------------\u001b[0m",
      "\u001b[1;31mAttributeError\u001b[0m                            Traceback (most recent call last)",
      "Cell \u001b[1;32mIn[11], line 1\u001b[0m\n\u001b[1;32m----> 1\u001b[0m \u001b[43mfather_obj\u001b[49m\u001b[38;5;241;43m.\u001b[39;49m\u001b[43mson_property\u001b[49m()  \u001b[38;5;66;03m# calling son class method (this will give error)\u001b[39;00m\n",
      "\u001b[1;31mAttributeError\u001b[0m: 'Father' object has no attribute 'son_property'"
     ]
    }
   ],
   "source": [
    "father_obj.son_property()  # calling son class method (this will give error)"
   ]
  },
  {
   "cell_type": "code",
   "execution_count": 12,
   "id": "1af302b1",
   "metadata": {},
   "outputs": [],
   "source": [
    "# parent class cannot access the properties of child class but child class can access the properties of parent class"
   ]
  },
  {
   "cell_type": "code",
   "execution_count": 13,
   "id": "d55deea3",
   "metadata": {},
   "outputs": [],
   "source": [
    "class fruit:\n",
    "    def fruit_name(self):\n",
    "        print(\"inside parent class\")\n",
    "class mango(fruit):\n",
    "    def mango_name(self):\n",
    "        print(\"inside child class\")"
   ]
  },
  {
   "cell_type": "code",
   "execution_count": 14,
   "id": "02b4f6d9",
   "metadata": {},
   "outputs": [
    {
     "name": "stdout",
     "output_type": "stream",
     "text": [
      "inside parent class\n"
     ]
    }
   ],
   "source": [
    "obj=mango()\n",
    "obj.fruit_name()"
   ]
  },
  {
   "cell_type": "code",
   "execution_count": 15,
   "id": "2497adb1",
   "metadata": {},
   "outputs": [
    {
     "name": "stdout",
     "output_type": "stream",
     "text": [
      "inside child class\n"
     ]
    }
   ],
   "source": [
    "obj.mango_name()"
   ]
  },
  {
   "cell_type": "code",
   "execution_count": 16,
   "id": "8f0156f4",
   "metadata": {},
   "outputs": [],
   "source": [
    "# method overriding: when both parent and child class have same method name and when we call that method by object of child class then the method of child class will be called this is called method overriding"
   ]
  },
  {
   "cell_type": "code",
   "execution_count": 17,
   "id": "67776178",
   "metadata": {},
   "outputs": [],
   "source": [
    "class fruit:\n",
    "    def fruit_name(self):\n",
    "        print(\"inside parent class\")\n",
    "class mango(fruit):\n",
    "    def fruit_name(self):\n",
    "        print(\"inside child class\")\n",
    "    def mango_name(self):\n",
    "        print(\"inside child class\")"
   ]
  },
  {
   "cell_type": "code",
   "execution_count": 19,
   "id": "fe5601b3",
   "metadata": {},
   "outputs": [
    {
     "name": "stdout",
     "output_type": "stream",
     "text": [
      "inside child class\n"
     ]
    }
   ],
   "source": [
    "obj=mango()\n",
    "obj.fruit_name()"
   ]
  },
  {
   "cell_type": "code",
   "execution_count": 20,
   "id": "452e28d2",
   "metadata": {},
   "outputs": [],
   "source": [
    "# multilevel Inheritance: when a derived class is inherited from another derived class"
   ]
  },
  {
   "cell_type": "code",
   "execution_count": 21,
   "id": "e2aed686",
   "metadata": {},
   "outputs": [],
   "source": [
    "class gFather:\n",
    "    def gfather_property(self):\n",
    "        print(\"im your grandfather\")\n",
    "class Father(gFather):\n",
    "    def father_property(self):\n",
    "        print(\"im your father\")\n",
    "class son(Father):\n",
    "    def son_property(self):\n",
    "        print(\"im the son i have having both properties of father and grandfather\")"
   ]
  },
  {
   "cell_type": "code",
   "execution_count": 22,
   "id": "696ff4a3",
   "metadata": {},
   "outputs": [
    {
     "name": "stdout",
     "output_type": "stream",
     "text": [
      "im your father\n"
     ]
    }
   ],
   "source": [
    "son1=son()\n",
    "son1.father_property()"
   ]
  },
  {
   "cell_type": "code",
   "execution_count": 24,
   "id": "b59120a1",
   "metadata": {},
   "outputs": [
    {
     "name": "stdout",
     "output_type": "stream",
     "text": [
      "im your grandfather\n"
     ]
    }
   ],
   "source": [
    "son1.gfather_property()"
   ]
  },
  {
   "cell_type": "code",
   "execution_count": 25,
   "id": "23bf0329",
   "metadata": {},
   "outputs": [
    {
     "name": "stdout",
     "output_type": "stream",
     "text": [
      "im the son i have having both properties of father and grandfather\n"
     ]
    }
   ],
   "source": [
    "son1.son_property()  # calling son class method"
   ]
  },
  {
   "cell_type": "code",
   "execution_count": 26,
   "id": "22555074",
   "metadata": {},
   "outputs": [
    {
     "name": "stdout",
     "output_type": "stream",
     "text": [
      "im your father\n"
     ]
    }
   ],
   "source": [
    "father1=Father()  # object of father class\n",
    "father1.father_property()  # calling father class method|"
   ]
  },
  {
   "cell_type": "code",
   "execution_count": 31,
   "id": "4489156b",
   "metadata": {},
   "outputs": [
    {
     "name": "stdout",
     "output_type": "stream",
     "text": [
      "im your grandfather\n"
     ]
    }
   ],
   "source": [
    "father1.gfather_property()  # calling grandfather class method (this will give error)"
   ]
  },
  {
   "cell_type": "code",
   "execution_count": 32,
   "id": "58281f0b",
   "metadata": {},
   "outputs": [
    {
     "name": "stdout",
     "output_type": "stream",
     "text": [
      "im your grandfather\n"
     ]
    }
   ],
   "source": [
    "gfather1=gFather()  # object of grandfather class\n",
    "gfather1.gfather_property()  # calling grandfather class method"
   ]
  },
  {
   "cell_type": "code",
   "execution_count": 38,
   "id": "05e25a77",
   "metadata": {},
   "outputs": [],
   "source": [
    "class Vichele:\n",
    "    def vehicle_property(self):\n",
    "        print(\"im a vehicle\")\n",
    "class car(Vichele):\n",
    "    def car_property(self):\n",
    "        print(\"im a car\")\n",
    "        \n",
    "class sportscar(car):\n",
    "    def vehicle_property(self):\n",
    "        print(\"im a sports car\")"
   ]
  },
  {
   "cell_type": "code",
   "execution_count": 39,
   "id": "4fb3f32c",
   "metadata": {},
   "outputs": [
    {
     "name": "stdout",
     "output_type": "stream",
     "text": [
      "im a sports car\n"
     ]
    }
   ],
   "source": [
    "sportscar1=sportscar()\n",
    "sportscar1.vehicle_property()"
   ]
  },
  {
   "cell_type": "code",
   "execution_count": 40,
   "id": "24770e3a",
   "metadata": {},
   "outputs": [],
   "source": [
    "# Multiple Inheritance: when a derived class is inherited from more than one base class\n",
    "# syntax\n",
    "# class baseclass1:\n",
    "#     body of class\n",
    "# class baseclass2:\n",
    "#     body of class\n",
    "# class derivedclass(baseclass1,baseclass2):\n",
    "#     body of derived class\n"
   ]
  },
  {
   "cell_type": "code",
   "execution_count": 41,
   "id": "2a44369f",
   "metadata": {},
   "outputs": [],
   "source": [
    "class parent1:\n",
    "    def parent1_property(self):\n",
    "        print(\"inside parent1 class\")\n",
    "class parent2:\n",
    "    def parent2_property(self):\n",
    "        print(\"inside parent2 class\")\n",
    "class child(parent1,parent2):\n",
    "    def child_property(self):\n",
    "        print(\"inside child class\")"
   ]
  },
  {
   "cell_type": "code",
   "execution_count": 42,
   "id": "7f1dd4b6",
   "metadata": {},
   "outputs": [
    {
     "name": "stdout",
     "output_type": "stream",
     "text": [
      "inside parent1 class\n",
      "inside parent2 class\n",
      "inside child class\n"
     ]
    }
   ],
   "source": [
    "child1=child()\n",
    "child1.parent1_property()\n",
    "child1.parent2_property()\n",
    "child1.child_property()"
   ]
  },
  {
   "cell_type": "code",
   "execution_count": 47,
   "id": "78e4ae1a",
   "metadata": {},
   "outputs": [],
   "source": [
    "# diamond problem in multiple inheritance: when both parent classes have same method name and when we call that method by object of child class then the method of first parent class will be called this is called diamond problem in multiple inheritance.\n",
    "# to remove diamond problem python uses MRO(method resolution order) which follows the C3 linearization algorithm to resolve the method calls in such scenarios.\n",
    "# meaning that the class is inherited first in the derived class ,that method will be called.\n",
    "\n",
    "class parent1:\n",
    "    def parent1_property(self):\n",
    "        print(\"inside parent1 class\")\n",
    "class parent2:\n",
    "    def parent1_property(self):\n",
    "        print(\"inside parent2 class\")\n",
    "class child(parent1,parent2): # the method which will be inherited first that will be callled \n",
    "    def child_property(self):\n",
    "        print(\"inside child class\")"
   ]
  },
  {
   "cell_type": "code",
   "execution_count": 46,
   "id": "ff475f83",
   "metadata": {},
   "outputs": [
    {
     "name": "stdout",
     "output_type": "stream",
     "text": [
      "inside parent1 class\n"
     ]
    }
   ],
   "source": [
    "child1=child()\n",
    "child1.parent1_property()"
   ]
  },
  {
   "cell_type": "code",
   "execution_count": 56,
   "id": "e79669b0",
   "metadata": {},
   "outputs": [],
   "source": [
    "class A:\n",
    "    def method(self):\n",
    "        print(\"inside class A\")\n",
    "class B(A):\n",
    "    def method(self):\n",
    "        print(\"inside class B\")\n",
    "class C(A):\n",
    "    def method(self):\n",
    "        print(\"inside class C\")\n",
    "class D(B,C):\n",
    "    pass\n",
    "      "
   ]
  },
  {
   "cell_type": "code",
   "execution_count": 57,
   "id": "8735adb9",
   "metadata": {},
   "outputs": [
    {
     "name": "stdout",
     "output_type": "stream",
     "text": [
      "inside class B\n"
     ]
    }
   ],
   "source": [
    "d=D()\n",
    "d.method()  # it will call method of class B because class B is inherited first in class D"
   ]
  },
  {
   "cell_type": "code",
   "execution_count": 59,
   "id": "0331d916",
   "metadata": {},
   "outputs": [],
   "source": [
    "# heirarchal Inheritance: when a base class is inherited by more than one derived class\n",
    "# syntax\n",
    "# class baseclass:\n",
    "#     body of class\n",
    "# class derivedclass1(baseclass):\n",
    "#     body of class\n",
    "# class derivedclass2(baseclass):\n",
    "#     body of class\n"
   ]
  },
  {
   "cell_type": "code",
   "execution_count": 60,
   "id": "4f2b9ae9",
   "metadata": {},
   "outputs": [],
   "source": [
    "class Vichele:\n",
    "    def vehicle_property(self):\n",
    "        print(\"im a vehicle\")\n",
    "class car(Vichele):\n",
    "    def car_property(self,name):\n",
    "        print(\"im a car\")\n",
    "class bike(Vichele):\n",
    "    def bike_property(self,name):\n",
    "        print(\"im a bike\")"
   ]
  },
  {
   "cell_type": "code",
   "execution_count": 61,
   "id": "1be8d523",
   "metadata": {},
   "outputs": [],
   "source": [
    "c1=car()"
   ]
  },
  {
   "cell_type": "code",
   "execution_count": 63,
   "id": "866b5de8",
   "metadata": {},
   "outputs": [
    {
     "name": "stdout",
     "output_type": "stream",
     "text": [
      "im a vehicle\n"
     ]
    }
   ],
   "source": [
    "c1.vehicle_property()"
   ]
  },
  {
   "cell_type": "code",
   "execution_count": 66,
   "id": "a0b2b779",
   "metadata": {},
   "outputs": [
    {
     "name": "stdout",
     "output_type": "stream",
     "text": [
      "Dog says: Woof!\n",
      "Cat says: Meow!\n"
     ]
    }
   ],
   "source": [
    "class Animal:\n",
    "    def speak(self):\n",
    "        print(\"This animal makes a sound.\")\n",
    "\n",
    "class Dog(Animal):\n",
    "    def speak(self):\n",
    "        print(\"Dog says: Woof!\")\n",
    "\n",
    "class Cat(Animal):\n",
    "    def speak(self):\n",
    "        print(\"Cat says: Meow!\")\n",
    "\n",
    "d = Dog()\n",
    "c = Cat()\n",
    "\n",
    "d.speak()\n",
    "c.speak()\n"
   ]
  },
  {
   "cell_type": "code",
   "execution_count": 65,
   "id": "9f23c75e",
   "metadata": {},
   "outputs": [],
   "source": [
    "# hybrid Inheritance: when derived class has more than one type of inheritance.\n",
    "#syntax\n",
    "# class baseclass:\n",
    "#     body of class \n",
    "# class derivedclass1(baseclass):\n",
    "#     body of class\n",
    "# class derivedclass2(baseclass):\n",
    "#     body of class\n",
    "# --- IGNORE --"
   ]
  },
  {
   "cell_type": "code",
   "execution_count": 67,
   "id": "c56c4708",
   "metadata": {},
   "outputs": [],
   "source": [
    "class A:\n",
    "    def feature_a(self):\n",
    "        print(\"Feature A\")\n",
    "\n",
    "class B(A):\n",
    "    def feature_b(self):\n",
    "        print(\"Feature B\")\n",
    "\n",
    "class C(A):\n",
    "    def feature_c(self):\n",
    "        print(\"Feature C\")\n",
    "\n",
    "class D(B, C):\n",
    "    def feature_d(self):\n",
    "        print(\"Feature D\")\n",
    "\n",
    "\n"
   ]
  },
  {
   "cell_type": "code",
   "execution_count": 68,
   "id": "30a07a98",
   "metadata": {},
   "outputs": [
    {
     "name": "stdout",
     "output_type": "stream",
     "text": [
      "Feature A\n",
      "Feature B\n",
      "Feature C\n",
      "Feature D\n"
     ]
    }
   ],
   "source": [
    "obj = D()\n",
    "obj.feature_a()\n",
    "obj.feature_b()\n",
    "obj.feature_c()\n",
    "obj.feature_d()"
   ]
  },
  {
   "cell_type": "code",
   "execution_count": 69,
   "id": "7abcbcc6",
   "metadata": {},
   "outputs": [],
   "source": [
    "# Abstraction: Hiding the internal implementation and showing only the functionality to the user is called abstraction.\n",
    "# In Python, we can achieve abstraction by using abstract classes and methods from the abc module."
   ]
  },
  {
   "cell_type": "code",
   "execution_count": 70,
   "id": "3d4bad34",
   "metadata": {},
   "outputs": [],
   "source": [
    "# syntax\n",
    "# from abc import ABC, abstractmethod"
   ]
  },
  {
   "cell_type": "code",
   "execution_count": null,
   "id": "4ba53747",
   "metadata": {},
   "outputs": [],
   "source": [
    "from abc import ABC, abstractmethod\n",
    "class Bankapp(ABC):\n",
    "    \n",
    "    def database(self):\n",
    "        print(\"connected to database\")\n",
    "        \n",
    "    @abstractmethod\n",
    "    def security(self):\n",
    "        pass\n"
   ]
  },
  {
   "cell_type": "code",
   "execution_count": 76,
   "id": "361ba8a6",
   "metadata": {},
   "outputs": [],
   "source": [
    "class mobileapp(Bankapp):\n",
    "    def mobile_login(self):\n",
    "        print(\"Login to mobile app\")"
   ]
  },
  {
   "cell_type": "code",
   "execution_count": 75,
   "id": "9b4a3d8e",
   "metadata": {},
   "outputs": [
    {
     "ename": "TypeError",
     "evalue": "Can't instantiate abstract class mobileapp with abstract method security",
     "output_type": "error",
     "traceback": [
      "\u001b[1;31m---------------------------------------------------------------------------\u001b[0m",
      "\u001b[1;31mTypeError\u001b[0m                                 Traceback (most recent call last)",
      "Cell \u001b[1;32mIn[75], line 1\u001b[0m\n\u001b[1;32m----> 1\u001b[0m mob\u001b[38;5;241m=\u001b[39m\u001b[43mmobileapp\u001b[49m\u001b[43m(\u001b[49m\u001b[43m)\u001b[49m\n",
      "\u001b[1;31mTypeError\u001b[0m: Can't instantiate abstract class mobileapp with abstract method security"
     ]
    }
   ],
   "source": [
    "mob=mobileapp()"
   ]
  },
  {
   "cell_type": "markdown",
   "id": "e106237f",
   "metadata": {},
   "source": [
    "to run this we have to follow some steps\n"
   ]
  },
  {
   "cell_type": "code",
   "execution_count": 77,
   "id": "b47d6c3a",
   "metadata": {},
   "outputs": [],
   "source": [
    "from abc import ABC, abstractmethod\n",
    "class Bankapp(ABC):\n",
    "    \n",
    "    def database(self):\n",
    "        print(\"connected to database\")\n",
    "        \n",
    "    @abstractmethod\n",
    "    def security(self):\n",
    "        pass\n",
    "class mobileapp(Bankapp):\n",
    "    def mobile_login(self):\n",
    "        print(\"Login to mobile app\")\n",
    "    def security(self):\n",
    "        print(\"mobile app security\")\n",
    "    \n"
   ]
  },
  {
   "cell_type": "code",
   "execution_count": 78,
   "id": "eb561b4a",
   "metadata": {},
   "outputs": [],
   "source": [
    "mob=mobileapp()"
   ]
  },
  {
   "cell_type": "code",
   "execution_count": 79,
   "id": "7df613d2",
   "metadata": {},
   "outputs": [
    {
     "name": "stdout",
     "output_type": "stream",
     "text": [
      "connected to database\n"
     ]
    }
   ],
   "source": [
    "mob.database()"
   ]
  },
  {
   "cell_type": "code",
   "execution_count": 81,
   "id": "4b175c48",
   "metadata": {},
   "outputs": [
    {
     "name": "stdout",
     "output_type": "stream",
     "text": [
      "mobile app security\n"
     ]
    }
   ],
   "source": [
    "mob.security()"
   ]
  },
  {
   "cell_type": "code",
   "execution_count": 82,
   "id": "17f75803",
   "metadata": {},
   "outputs": [],
   "source": [
    "from abc import ABC, abstractmethod\n",
    "class Bankapp(ABC):\n",
    "    \n",
    "    def database(self):\n",
    "        print(\"connected to database\")\n",
    "        \n",
    "    @abstractmethod\n",
    "    def security(self):\n",
    "        pass\n",
    "    @abstractmethod\n",
    "    def display(self):\n",
    "        pass\n",
    "class mobileapp(Bankapp):\n",
    "    def mobile_login(self):\n",
    "        print(\"Login to mobile app\")\n",
    "    def security(self):\n",
    "        print(\"mobile app security\")\n",
    "    def display(self):\n",
    "        print(\"display method implemented\")\n",
    "    "
   ]
  },
  {
   "cell_type": "code",
   "execution_count": 83,
   "id": "824372b0",
   "metadata": {},
   "outputs": [],
   "source": [
    "mobile=mobileapp()"
   ]
  },
  {
   "cell_type": "code",
   "execution_count": 85,
   "id": "349439fa",
   "metadata": {},
   "outputs": [
    {
     "name": "stdout",
     "output_type": "stream",
     "text": [
      "connected to database\n"
     ]
    }
   ],
   "source": [
    "mobile.database()"
   ]
  },
  {
   "cell_type": "markdown",
   "id": "7c438b95",
   "metadata": {},
   "source": [
    "we can not make the object of the abstract class "
   ]
  }
 ],
 "metadata": {
  "kernelspec": {
   "display_name": "Python 3",
   "language": "python",
   "name": "python3"
  },
  "language_info": {
   "codemirror_mode": {
    "name": "ipython",
    "version": 3
   },
   "file_extension": ".py",
   "mimetype": "text/x-python",
   "name": "python",
   "nbconvert_exporter": "python",
   "pygments_lexer": "ipython3",
   "version": "3.10.11"
  }
 },
 "nbformat": 4,
 "nbformat_minor": 5
}
