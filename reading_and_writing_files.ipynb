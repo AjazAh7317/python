{
 "cells": [
  {
   "cell_type": "code",
   "execution_count": 4,
   "id": "9ffc028f",
   "metadata": {},
   "outputs": [],
   "source": [
    "text_content=\"\"\"\n",
    "example1\n",
    "example2\n",
    "example3\"\"\""
   ]
  },
  {
   "cell_type": "code",
   "execution_count": 5,
   "id": "bfe6f942",
   "metadata": {},
   "outputs": [],
   "source": [
    "with open(\"example.txt\",\"w\") as file:\n",
    "    file.write(text_content)"
   ]
  },
  {
   "cell_type": "code",
   "execution_count": 8,
   "id": "f4f54cbe",
   "metadata": {},
   "outputs": [],
   "source": [
    "with open (\"example.txt\",\"r\") as file:\n",
    "    d=file.read()"
   ]
  },
  {
   "cell_type": "code",
   "execution_count": 9,
   "id": "85deba19",
   "metadata": {},
   "outputs": [
    {
     "name": "stdout",
     "output_type": "stream",
     "text": [
      "\n",
      "example1\n",
      "example2\n",
      "example3\n"
     ]
    }
   ],
   "source": [
    "print(d)"
   ]
  },
  {
   "cell_type": "code",
   "execution_count": 10,
   "id": "2e8683eb",
   "metadata": {},
   "outputs": [],
   "source": [
    "# CSV file \n",
    "data = [\n",
    "    [\"Name\", \"Age\", \"Grade\"],\n",
    "    [\"Alice\", 20, \"A\"],\n",
    "    [\"Bob\", 22, \"B\"],\n",
    "    [\"Charlie\", 19, \"A+\"]\n",
    "]"
   ]
  },
  {
   "cell_type": "code",
   "execution_count": 11,
   "id": "62411d0e",
   "metadata": {},
   "outputs": [
    {
     "name": "stdout",
     "output_type": "stream",
     "text": [
      "['Name', 'Age', 'Grade']\n",
      "['Alice', 20, 'A']\n",
      "['Bob', 22, 'B']\n",
      "['Charlie', 19, 'A+']\n"
     ]
    }
   ],
   "source": [
    "for i in data:\n",
    "    print(i)"
   ]
  },
  {
   "cell_type": "code",
   "execution_count": 13,
   "id": "50ae46e3",
   "metadata": {},
   "outputs": [],
   "source": [
    "import csv\n",
    "with open(\"example_csv.csv\",\"w\") as f:\n",
    "    w=csv.writer(f)\n",
    "    for i in data:\n",
    "        w.writerow(i)"
   ]
  },
  {
   "cell_type": "code",
   "execution_count": 14,
   "id": "9a1c0aec",
   "metadata": {},
   "outputs": [
    {
     "name": "stdout",
     "output_type": "stream",
     "text": [
      "['Name', 'Age', 'Grade']\n",
      "[]\n",
      "['Alice', '20', 'A']\n",
      "[]\n",
      "['Bob', '22', 'B']\n",
      "[]\n",
      "['Charlie', '19', 'A+']\n",
      "[]\n"
     ]
    }
   ],
   "source": [
    "with open(\"example_csv.csv\",'r') as f:\n",
    "    r=csv.reader(f)\n",
    "    for i in r:\n",
    "        print(i)"
   ]
  },
  {
   "cell_type": "code",
   "execution_count": 15,
   "id": "73cba1c2",
   "metadata": {},
   "outputs": [],
   "source": [
    "#JSON javascrpt object notation\n",
    "data={\"name\":\"ajaz\",\"cource\":\"bE\"}"
   ]
  },
  {
   "cell_type": "code",
   "execution_count": 16,
   "id": "0cdc6e0a",
   "metadata": {},
   "outputs": [
    {
     "data": {
      "text/plain": [
       "{'name': 'ajaz', 'cource': 'bE'}"
      ]
     },
     "execution_count": 16,
     "metadata": {},
     "output_type": "execute_result"
    }
   ],
   "source": [
    "data"
   ]
  },
  {
   "cell_type": "code",
   "execution_count": 18,
   "id": "5155eb87",
   "metadata": {},
   "outputs": [],
   "source": [
    "import json\n",
    "with open(\"file_json.json\",\"w\") as f:\n",
    "    json.dump(data,f)"
   ]
  },
  {
   "cell_type": "code",
   "execution_count": 20,
   "id": "cec86fb1",
   "metadata": {},
   "outputs": [
    {
     "name": "stdout",
     "output_type": "stream",
     "text": [
      "{'name': 'ajaz', 'cource': 'bE'}\n"
     ]
    }
   ],
   "source": [
    "with open(\"file_json.json\", \"r\") as f:\n",
    "    data = json.load(f)\n",
    "\n",
    "print(data)"
   ]
  },
  {
   "cell_type": "code",
   "execution_count": 21,
   "id": "9014a4ab",
   "metadata": {},
   "outputs": [],
   "source": [
    "# write a binary data in a file\n",
    "with open (\"test_bin.bin\",\"wb\") as f:\n",
    "    f.write(b\"\\x48\\x65\")"
   ]
  },
  {
   "cell_type": "code",
   "execution_count": 22,
   "id": "a216bc54",
   "metadata": {},
   "outputs": [
    {
     "name": "stdout",
     "output_type": "stream",
     "text": [
      "b'He'\n"
     ]
    }
   ],
   "source": [
    "with open (\"test_bin.bin\",\"rb\") as f:\n",
    "    print(f.read())"
   ]
  },
  {
   "cell_type": "code",
   "execution_count": 23,
   "id": "58e9836c",
   "metadata": {},
   "outputs": [],
   "source": [
    "# buffered reading and writing \n",
    "# it allows the program to read and write data in chunks"
   ]
  },
  {
   "cell_type": "code",
   "execution_count": 25,
   "id": "c3660de4",
   "metadata": {},
   "outputs": [],
   "source": [
    "import io\n",
    "\n",
    "with open(\"test_buf.txt\", \"wb\") as f:\n",
    "    buffer = io.BufferedWriter(f)\n",
    "    \n",
    "    buffer.write(b\"A pointer is a variable that stores the memory address of another variable. It's a core concept in programming languages like C and C++, and it allows you to directly work with memory \")\n",
    "    buffer.write(b\"hello world how are you \")\n",
    "    buffer.write(b\"i want to study data science\")\n",
    "    \n",
    "    buffer.flush()  # Make sure everything is written to the file\n"
   ]
  },
  {
   "cell_type": "code",
   "execution_count": 27,
   "id": "2ff6d184",
   "metadata": {},
   "outputs": [
    {
     "name": "stdout",
     "output_type": "stream",
     "text": [
      "b\"A pointer is a variable that stores the memory address of another variable. It's a core concept in p\"\n"
     ]
    }
   ],
   "source": [
    "import io\n",
    "\n",
    "with open(\"test_buf.txt\", \"rb\") as f:\n",
    "    file = io.BufferedReader(f)\n",
    "    d = file.read(100)  # Read the first 100 bytes\n",
    "    print(d)          \n"
   ]
  },
  {
   "cell_type": "code",
   "execution_count": null,
   "id": "de3c2e70",
   "metadata": {},
   "outputs": [],
   "source": []
  }
 ],
 "metadata": {
  "kernelspec": {
   "display_name": "Python 3",
   "language": "python",
   "name": "python3"
  },
  "language_info": {
   "codemirror_mode": {
    "name": "ipython",
    "version": 3
   },
   "file_extension": ".py",
   "mimetype": "text/x-python",
   "name": "python",
   "nbconvert_exporter": "python",
   "pygments_lexer": "ipython3",
   "version": "3.10.11"
  }
 },
 "nbformat": 4,
 "nbformat_minor": 5
}
