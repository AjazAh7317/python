{
 "cells": [
  {
   "cell_type": "code",
   "execution_count": 1,
   "id": "978d8b65",
   "metadata": {},
   "outputs": [
    {
     "name": "stdout",
     "output_type": "stream",
     "text": [
      "8\n"
     ]
    }
   ],
   "source": [
    "l=[\"ajaz\",4,\"ahmad\",8]\n",
    "print(l[-1])"
   ]
  },
  {
   "cell_type": "code",
   "execution_count": 3,
   "id": "190be43b",
   "metadata": {},
   "outputs": [
    {
     "name": "stdout",
     "output_type": "stream",
     "text": [
      "['aj', 4, 'ahmad', 8]\n"
     ]
    }
   ],
   "source": [
    "l[0]=\"aj\"\n",
    "print(l)"
   ]
  },
  {
   "cell_type": "code",
   "execution_count": 4,
   "id": "cad6ad7d",
   "metadata": {},
   "outputs": [],
   "source": [
    "l.append(\"mango\")"
   ]
  },
  {
   "cell_type": "code",
   "execution_count": 5,
   "id": "d0163734",
   "metadata": {},
   "outputs": [
    {
     "name": "stdout",
     "output_type": "stream",
     "text": [
      "['aj', 4, 'ahmad', 8, 'mango']\n"
     ]
    }
   ],
   "source": [
    "print(l)"
   ]
  },
  {
   "cell_type": "code",
   "execution_count": 6,
   "id": "857f565c",
   "metadata": {},
   "outputs": [
    {
     "name": "stdout",
     "output_type": "stream",
     "text": [
      "['aj', 'grapes', 4, 'ahmad', 8, 'mango']\n"
     ]
    }
   ],
   "source": [
    "l.insert(1,\"grapes\")\n",
    "print(l)"
   ]
  },
  {
   "cell_type": "code",
   "execution_count": 11,
   "id": "75c67db5",
   "metadata": {},
   "outputs": [
    {
     "data": {
      "text/plain": [
       "['potato', 'onion', 'apple', 'banana', 'orange']"
      ]
     },
     "execution_count": 11,
     "metadata": {},
     "output_type": "execute_result"
    }
   ],
   "source": [
    "# extend : used to append elements from another list\n",
    "l1=[\"apple\",\"banana\",\"orange\"]\n",
    "l2=[\"potato\",\"onion\"]\n",
    "l2.extend(l1)\n",
    "l2"
   ]
  },
  {
   "cell_type": "code",
   "execution_count": 12,
   "id": "c5c210ce",
   "metadata": {},
   "outputs": [
    {
     "data": {
      "text/plain": [
       "['apple', 'banana', 'orange', 'potato', 'onion']"
      ]
     },
     "execution_count": 12,
     "metadata": {},
     "output_type": "execute_result"
    }
   ],
   "source": [
    "#concAtnate\n",
    "l1=[\"apple\",\"banana\",\"orange\"]\n",
    "l2=[\"potato\",\"onion\"]\n",
    "l1+l2"
   ]
  },
  {
   "cell_type": "code",
   "execution_count": null,
   "id": "ab399b03",
   "metadata": {},
   "outputs": [
    {
     "data": {
      "text/plain": [
       "['potato', 'onion']"
      ]
     },
     "execution_count": 13,
     "metadata": {},
     "output_type": "execute_result"
    }
   ],
   "source": [
    "\n",
    "l2"
   ]
  },
  {
   "cell_type": "code",
   "execution_count": 14,
   "id": "c008be62",
   "metadata": {},
   "outputs": [
    {
     "data": {
      "text/plain": [
       "['apple', 'banana', 'orange']"
      ]
     },
     "execution_count": 14,
     "metadata": {},
     "output_type": "execute_result"
    }
   ],
   "source": [
    "l1"
   ]
  },
  {
   "cell_type": "code",
   "execution_count": 15,
   "id": "93573356",
   "metadata": {},
   "outputs": [
    {
     "data": {
      "text/plain": [
       "[1, 2, 3, 1, 2, 3, 1, 2, 3, 1, 2, 3, 1, 2, 3]"
      ]
     },
     "execution_count": 15,
     "metadata": {},
     "output_type": "execute_result"
    }
   ],
   "source": [
    "# REpeatation operotor\n",
    "\n",
    "[1,2,3]*5"
   ]
  },
  {
   "cell_type": "code",
   "execution_count": 16,
   "id": "459c468f",
   "metadata": {},
   "outputs": [
    {
     "data": {
      "text/plain": [
       "[0,\n",
       " 1,\n",
       " 2,\n",
       " 3,\n",
       " 4,\n",
       " 5,\n",
       " 6,\n",
       " 7,\n",
       " 8,\n",
       " 9,\n",
       " 0,\n",
       " 1,\n",
       " 2,\n",
       " 3,\n",
       " 4,\n",
       " 5,\n",
       " 6,\n",
       " 7,\n",
       " 8,\n",
       " 9,\n",
       " 0,\n",
       " 1,\n",
       " 2,\n",
       " 3,\n",
       " 4,\n",
       " 5,\n",
       " 6,\n",
       " 7,\n",
       " 8,\n",
       " 9,\n",
       " 0,\n",
       " 1,\n",
       " 2,\n",
       " 3,\n",
       " 4,\n",
       " 5,\n",
       " 6,\n",
       " 7,\n",
       " 8,\n",
       " 9,\n",
       " 0,\n",
       " 1,\n",
       " 2,\n",
       " 3,\n",
       " 4,\n",
       " 5,\n",
       " 6,\n",
       " 7,\n",
       " 8,\n",
       " 9]"
      ]
     },
     "execution_count": 16,
     "metadata": {},
     "output_type": "execute_result"
    }
   ],
   "source": [
    "list(range(10))*5"
   ]
  },
  {
   "cell_type": "code",
   "execution_count": 17,
   "id": "23cf6402",
   "metadata": {},
   "outputs": [
    {
     "data": {
      "text/plain": [
       "True"
      ]
     },
     "execution_count": 17,
     "metadata": {},
     "output_type": "execute_result"
    }
   ],
   "source": [
    "\"apple\" in l1"
   ]
  },
  {
   "cell_type": "code",
   "execution_count": null,
   "id": "de6490ad",
   "metadata": {},
   "outputs": [
    {
     "data": {
      "text/plain": [
       "['apple', 'banana', 'orange']"
      ]
     },
     "execution_count": 18,
     "metadata": {},
     "output_type": "execute_result"
    }
   ],
   "source": [
    "#deep and shallow copy\n",
    "\n",
    "#shallow copy  value will changing with other list\n",
    "# IN THIS SAME MEMORY BLOCK WILL ALLOCATED \n",
    "\n",
    "a=l1\n",
    "a\n"
   ]
  },
  {
   "cell_type": "code",
   "execution_count": 19,
   "id": "5b290341",
   "metadata": {},
   "outputs": [],
   "source": [
    "a[0]=\"pipeapple\""
   ]
  },
  {
   "cell_type": "code",
   "execution_count": 20,
   "id": "65d650a8",
   "metadata": {},
   "outputs": [
    {
     "data": {
      "text/plain": [
       "['pipeapple', 'banana', 'orange']"
      ]
     },
     "execution_count": 20,
     "metadata": {},
     "output_type": "execute_result"
    }
   ],
   "source": [
    "l1"
   ]
  },
  {
   "cell_type": "code",
   "execution_count": 22,
   "id": "5df390bf",
   "metadata": {},
   "outputs": [],
   "source": [
    "# DEEP COPY: WILL NOT CHANGE THE VALUE IN ANOTHER LIST\n",
    "# IN THIS ANOTHER MEMORY BLOCK WILL CREATED \n",
    "b=l1.copy()"
   ]
  },
  {
   "cell_type": "code",
   "execution_count": 23,
   "id": "9a9e7b2d",
   "metadata": {},
   "outputs": [
    {
     "data": {
      "text/plain": [
       "['pipeapple', 'banana', 'orange']"
      ]
     },
     "execution_count": 23,
     "metadata": {},
     "output_type": "execute_result"
    }
   ],
   "source": [
    "b[0]=\"apple\"\n",
    "l1"
   ]
  },
  {
   "cell_type": "code",
   "execution_count": 26,
   "id": "1379ce33",
   "metadata": {},
   "outputs": [
    {
     "data": {
      "text/plain": [
       "['algoritham', 'dsa', 'web']"
      ]
     },
     "execution_count": 26,
     "metadata": {},
     "output_type": "execute_result"
    }
   ],
   "source": [
    "# sorting of List\n",
    "book=[\"dsa\",\"algoritham\",\"web\"]\n",
    "sorted(book)"
   ]
  },
  {
   "cell_type": "code",
   "execution_count": 27,
   "id": "cd6bfa0f",
   "metadata": {},
   "outputs": [
    {
     "data": {
      "text/plain": [
       "1"
      ]
     },
     "execution_count": 27,
     "metadata": {},
     "output_type": "execute_result"
    }
   ],
   "source": [
    "book.index(\"algoritham\")"
   ]
  },
  {
   "cell_type": "code",
   "execution_count": 28,
   "id": "ff3b790c",
   "metadata": {},
   "outputs": [
    {
     "data": {
      "text/plain": [
       "3"
      ]
     },
     "execution_count": 28,
     "metadata": {},
     "output_type": "execute_result"
    }
   ],
   "source": [
    "len(book)"
   ]
  },
  {
   "cell_type": "code",
   "execution_count": 29,
   "id": "bee20f26",
   "metadata": {},
   "outputs": [
    {
     "data": {
      "text/plain": [
       "1"
      ]
     },
     "execution_count": 29,
     "metadata": {},
     "output_type": "execute_result"
    }
   ],
   "source": [
    "book.count(\"algoritham\")"
   ]
  },
  {
   "cell_type": "code",
   "execution_count": 30,
   "id": "9e56a0e4",
   "metadata": {},
   "outputs": [
    {
     "data": {
      "text/plain": [
       "['algoritham', 'web']"
      ]
     },
     "execution_count": 30,
     "metadata": {},
     "output_type": "execute_result"
    }
   ],
   "source": [
    "book.remove(\"dsa\")\n",
    "book"
   ]
  },
  {
   "cell_type": "code",
   "execution_count": 31,
   "id": "bcf666c3",
   "metadata": {},
   "outputs": [
    {
     "ename": "NameError",
     "evalue": "name 'book' is not defined",
     "output_type": "error",
     "traceback": [
      "\u001b[1;31m---------------------------------------------------------------------------\u001b[0m",
      "\u001b[1;31mNameError\u001b[0m                                 Traceback (most recent call last)",
      "Cell \u001b[1;32mIn[31], line 2\u001b[0m\n\u001b[0;32m      1\u001b[0m \u001b[38;5;28;01mdel\u001b[39;00m  book\n\u001b[1;32m----> 2\u001b[0m \u001b[43mbook\u001b[49m\n",
      "\u001b[1;31mNameError\u001b[0m: name 'book' is not defined"
     ]
    }
   ],
   "source": [
    "del  book\n",
    "book"
   ]
  },
  {
   "cell_type": "code",
   "execution_count": 33,
   "id": "13599d38",
   "metadata": {},
   "outputs": [
    {
     "data": {
      "text/plain": [
       "[]"
      ]
     },
     "execution_count": 33,
     "metadata": {},
     "output_type": "execute_result"
    }
   ],
   "source": [
    "book=[\"dsa\",\"algoritham\",\"web\"]\n",
    "book.clear()\n",
    "book"
   ]
  },
  {
   "cell_type": "code",
   "execution_count": 34,
   "id": "d79c1df5",
   "metadata": {},
   "outputs": [
    {
     "data": {
      "text/plain": [
       "'algoritham'"
      ]
     },
     "execution_count": 34,
     "metadata": {},
     "output_type": "execute_result"
    }
   ],
   "source": [
    "book=[\"dsa\",\"algoritham\",\"web\",\"algoritham\"]\n",
    "book.pop()"
   ]
  },
  {
   "cell_type": "code",
   "execution_count": 35,
   "id": "c5b25616",
   "metadata": {},
   "outputs": [
    {
     "data": {
      "text/plain": [
       "['dsa', 'algoritham', 'web']"
      ]
     },
     "execution_count": 35,
     "metadata": {},
     "output_type": "execute_result"
    }
   ],
   "source": [
    "book"
   ]
  },
  {
   "cell_type": "code",
   "execution_count": 36,
   "id": "73e98733",
   "metadata": {},
   "outputs": [
    {
     "data": {
      "text/plain": [
       "'dsa'"
      ]
     },
     "execution_count": 36,
     "metadata": {},
     "output_type": "execute_result"
    }
   ],
   "source": [
    "book.pop(0)"
   ]
  },
  {
   "cell_type": "code",
   "execution_count": 37,
   "id": "5a7a2ebe",
   "metadata": {},
   "outputs": [
    {
     "data": {
      "text/plain": [
       "['algoritham', 'web']"
      ]
     },
     "execution_count": 37,
     "metadata": {},
     "output_type": "execute_result"
    }
   ],
   "source": [
    "book"
   ]
  },
  {
   "cell_type": "code",
   "execution_count": null,
   "id": "a2166812",
   "metadata": {},
   "outputs": [
    {
     "data": {
      "text/plain": [
       "[20, 40, 60, 80, 100]"
      ]
     },
     "execution_count": 39,
     "metadata": {},
     "output_type": "execute_result"
    }
   ],
   "source": [
    "# LIst Comprehension:   concise code\n",
    "\n",
    "prices=[10,20,30,40,50]\n",
    "[price*2 for price in prices]"
   ]
  },
  {
   "cell_type": "code",
   "execution_count": 40,
   "id": "7b4e60e7",
   "metadata": {},
   "outputs": [
    {
     "data": {
      "text/plain": [
       "['Ajaz', 'Vijay', 'Sanjay', 'Ranjay']"
      ]
     },
     "execution_count": 40,
     "metadata": {},
     "output_type": "execute_result"
    }
   ],
   "source": [
    "names=[\"ajaz\",\"vijay\",\"sanjay\",\"ranjay\"]\n",
    "[name.capitalize() for name in names]"
   ]
  },
  {
   "cell_type": "code",
   "execution_count": 41,
   "id": "62e835e6",
   "metadata": {},
   "outputs": [
    {
     "data": {
      "text/plain": [
       "[1, 4, 9, 16, 25]"
      ]
     },
     "execution_count": 41,
     "metadata": {},
     "output_type": "execute_result"
    }
   ],
   "source": [
    "# used case\n",
    "numb=[1,2,3,4,5]\n",
    "[num**2 for num in numb]"
   ]
  },
  {
   "cell_type": "code",
   "execution_count": 42,
   "id": "91fb012c",
   "metadata": {},
   "outputs": [
    {
     "data": {
      "text/plain": [
       "['pdf', 'ppt', 'jpg', 'py']"
      ]
     },
     "execution_count": 42,
     "metadata": {},
     "output_type": "execute_result"
    }
   ],
   "source": [
    "file=[\"a.pdf\",\"b.ppt\",\"c.jpg\",\"aj.py\"]\n",
    "[f.split(\".\")[-1] for f in file]"
   ]
  },
  {
   "cell_type": "code",
   "execution_count": null,
   "id": "a2ce51f6",
   "metadata": {},
   "outputs": [
    {
     "name": "stdout",
     "output_type": "stream",
     "text": [
      "[2, 4, 6]\n"
     ]
    }
   ],
   "source": [
    "# conditional list comprehension\n",
    "numbers = [1, 2, 3, 4, 5, 6]\n",
    "evens = [x for x in numbers if x % 2 == 0]\n",
    "print(evens)  \n"
   ]
  },
  {
   "cell_type": "code",
   "execution_count": 45,
   "id": "dce832c6",
   "metadata": {},
   "outputs": [
    {
     "name": "stdout",
     "output_type": "stream",
     "text": [
      "[1, 2, 3, 4, 5, 6]\n"
     ]
    }
   ],
   "source": [
    "# nested list comprehension\n",
    "matrix = [[1, 2], [3, 4], [5, 6]]\n",
    "\n",
    "flattened = [num for row in matrix for num in row]\n",
    "\n",
    "print(flattened)  # Output: [1, 2, 3, 4, 5, 6]\n"
   ]
  },
  {
   "cell_type": "code",
   "execution_count": 46,
   "id": "2aa631a3",
   "metadata": {},
   "outputs": [],
   "source": [
    "# that is equivalent to \n",
    "flattened = []\n",
    "for row in matrix:\n",
    "    for num in row:\n",
    "        flattened.append(num)\n"
   ]
  },
  {
   "cell_type": "code",
   "execution_count": 47,
   "id": "b530f9f9",
   "metadata": {},
   "outputs": [],
   "source": [
    "# List as a stack and queue\n"
   ]
  },
  {
   "cell_type": "code",
   "execution_count": null,
   "id": "d8cc56d1",
   "metadata": {},
   "outputs": [],
   "source": [
    "# STACK : LAST IN FIRST OUT "
   ]
  },
  {
   "cell_type": "code",
   "execution_count": 48,
   "id": "6755dca5",
   "metadata": {},
   "outputs": [],
   "source": [
    "stack_of_plates=[]\n",
    "stack_of_plates.append(\"plate1\")\n",
    "stack_of_plates.append(\"plate2\")\n",
    "stack_of_plates.append(\"plate3\")\n",
    "stack_of_plates.append(\"plate4\")"
   ]
  },
  {
   "cell_type": "code",
   "execution_count": 49,
   "id": "0e83c2b4",
   "metadata": {},
   "outputs": [
    {
     "data": {
      "text/plain": [
       "['plate1', 'plate2', 'plate3', 'plate4']"
      ]
     },
     "execution_count": 49,
     "metadata": {},
     "output_type": "execute_result"
    }
   ],
   "source": [
    "stack_of_plates"
   ]
  },
  {
   "cell_type": "code",
   "execution_count": 50,
   "id": "e6240e44",
   "metadata": {},
   "outputs": [
    {
     "data": {
      "text/plain": [
       "'plate4'"
      ]
     },
     "execution_count": 50,
     "metadata": {},
     "output_type": "execute_result"
    }
   ],
   "source": [
    "stack_of_plates.pop()"
   ]
  },
  {
   "cell_type": "code",
   "execution_count": 51,
   "id": "db09f15f",
   "metadata": {},
   "outputs": [
    {
     "data": {
      "text/plain": [
       "['plate1', 'plate2', 'plate3']"
      ]
     },
     "execution_count": 51,
     "metadata": {},
     "output_type": "execute_result"
    }
   ],
   "source": [
    "stack_of_plates"
   ]
  },
  {
   "cell_type": "code",
   "execution_count": null,
   "id": "c1f5fd97",
   "metadata": {},
   "outputs": [],
   "source": [
    "#QUEUE : FISRT IN FIRST OUT\n",
    "# IT HAS TWO END"
   ]
  },
  {
   "cell_type": "code",
   "execution_count": 54,
   "id": "27e74e3e",
   "metadata": {},
   "outputs": [],
   "source": [
    "from collections import deque\n",
    "cheakout=(deque())\n",
    "cheakout.append(\"cus1\")\n",
    "cheakout.append(\"cus2\")\n",
    "cheakout.append(\"cus3\")\n",
    "cheakout.append(\"cus4\")\n",
    "cheakout.append(\"cus5\")"
   ]
  },
  {
   "cell_type": "code",
   "execution_count": 55,
   "id": "053f96dd",
   "metadata": {},
   "outputs": [
    {
     "data": {
      "text/plain": [
       "deque(['cus1', 'cus2', 'cus3', 'cus4', 'cus5'])"
      ]
     },
     "execution_count": 55,
     "metadata": {},
     "output_type": "execute_result"
    }
   ],
   "source": [
    "cheakout"
   ]
  },
  {
   "cell_type": "code",
   "execution_count": 56,
   "id": "361db6bd",
   "metadata": {},
   "outputs": [
    {
     "name": "stdout",
     "output_type": "stream",
     "text": [
      "serving cus1\n",
      "serving cus2\n",
      "serving cus3\n",
      "serving cus4\n",
      "serving cus5\n"
     ]
    }
   ],
   "source": [
    "while cheakout:\n",
    "    customer=cheakout.popleft()\n",
    "    print(\"serving\",customer)"
   ]
  },
  {
   "cell_type": "code",
   "execution_count": null,
   "id": "374328d9",
   "metadata": {},
   "outputs": [
    {
     "name": "stdout",
     "output_type": "stream",
     "text": [
      "print tghe 1 pdf\n",
      "print tghe 2 pdf\n",
      "print tghe 3 pdf\n",
      "print tghe 4 pdf\n"
     ]
    }
   ],
   "source": [
    "from queue import Queue\n",
    "print_queue=Queue()\n",
    "print_queue.put(\"print tghe 1 pdf\")\n",
    "print_queue.put(\"print tghe 2 pdf\")  # put is similar to push\n",
    "print_queue.put(\"print tghe 3 pdf\")\n",
    "print_queue.put(\"print tghe 4 pdf\")\n",
    "\n",
    "while not print_queue.empty():\n",
    "    print_job=print_queue.get()  # get issimilar to pop\n",
    "    print(print_job)"
   ]
  },
  {
   "cell_type": "code",
   "execution_count": null,
   "id": "a140bf54",
   "metadata": {},
   "outputs": [],
   "source": []
  }
 ],
 "metadata": {
  "kernelspec": {
   "display_name": "Python 3",
   "language": "python",
   "name": "python3"
  },
  "language_info": {
   "codemirror_mode": {
    "name": "ipython",
    "version": 3
   },
   "file_extension": ".py",
   "mimetype": "text/x-python",
   "name": "python",
   "nbconvert_exporter": "python",
   "pygments_lexer": "ipython3",
   "version": "3.10.11"
  }
 },
 "nbformat": 4,
 "nbformat_minor": 5
}
