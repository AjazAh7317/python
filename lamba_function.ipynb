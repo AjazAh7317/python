{
 "cells": [
  {
   "cell_type": "markdown",
   "id": "a23365b3",
   "metadata": {},
   "source": [
    "Lmbda function:  ChatGPT said:\n",
    "\n",
    "A lambda function in programming (especially in Python) is a small, anonymous function defined using the lambda keyword. It's typically used for short, throwaway functions where a full def function would be unnecessarily verbos"
   ]
  },
  {
   "cell_type": "code",
   "execution_count": 1,
   "id": "7a481c98",
   "metadata": {},
   "outputs": [],
   "source": [
    "#lambda function\n",
    "#syntax \n",
    "#lambda arguments: expression"
   ]
  },
  {
   "cell_type": "code",
   "execution_count": 2,
   "id": "064c75b6",
   "metadata": {},
   "outputs": [
    {
     "data": {
      "text/plain": [
       "25"
      ]
     },
     "execution_count": 2,
     "metadata": {},
     "output_type": "execute_result"
    }
   ],
   "source": [
    "def square(n):\n",
    "    return n*n\n",
    "square(5)"
   ]
  },
  {
   "cell_type": "code",
   "execution_count": 4,
   "id": "9428344d",
   "metadata": {},
   "outputs": [],
   "source": [
    "square_lambda=lambda x: x**2"
   ]
  },
  {
   "cell_type": "code",
   "execution_count": 5,
   "id": "f307bcc9",
   "metadata": {},
   "outputs": [
    {
     "data": {
      "text/plain": [
       "25"
      ]
     },
     "execution_count": 5,
     "metadata": {},
     "output_type": "execute_result"
    }
   ],
   "source": [
    "square_lambda(5)"
   ]
  },
  {
   "cell_type": "code",
   "execution_count": 6,
   "id": "9e9afaf0",
   "metadata": {},
   "outputs": [
    {
     "data": {
      "text/plain": [
       "8"
      ]
     },
     "execution_count": 6,
     "metadata": {},
     "output_type": "execute_result"
    }
   ],
   "source": [
    "add = lambda x,y: x+y\n",
    "add(5,3)"
   ]
  },
  {
   "cell_type": "code",
   "execution_count": 7,
   "id": "e275b750",
   "metadata": {},
   "outputs": [
    {
     "data": {
      "text/plain": [
       "True"
      ]
     },
     "execution_count": 7,
     "metadata": {},
     "output_type": "execute_result"
    }
   ],
   "source": [
    "even=lambda x: x%2==0\n",
    "even(4)"
   ]
  },
  {
   "cell_type": "code",
   "execution_count": 8,
   "id": "4b587d77",
   "metadata": {},
   "outputs": [
    {
     "data": {
      "text/plain": [
       "False"
      ]
     },
     "execution_count": 8,
     "metadata": {},
     "output_type": "execute_result"
    }
   ],
   "source": [
    "even(5)"
   ]
  },
  {
   "cell_type": "code",
   "execution_count": 9,
   "id": "8c628909",
   "metadata": {},
   "outputs": [
    {
     "data": {
      "text/plain": [
       "3"
      ]
     },
     "execution_count": 9,
     "metadata": {},
     "output_type": "execute_result"
    }
   ],
   "source": [
    "# short the list on the length of the list\n",
    "le=lambda x: len(x)\n",
    "le(['ajaz','ahamad','khan'])"
   ]
  },
  {
   "cell_type": "code",
   "execution_count": 12,
   "id": "d70ff804",
   "metadata": {},
   "outputs": [],
   "source": [
    "x=['ajaz','ahamad','khan','i','you']"
   ]
  },
  {
   "cell_type": "code",
   "execution_count": 13,
   "id": "405e321f",
   "metadata": {},
   "outputs": [
    {
     "data": {
      "text/plain": [
       "['i', 'you', 'ajaz', 'khan', 'ahamad']"
      ]
     },
     "execution_count": 13,
     "metadata": {},
     "output_type": "execute_result"
    }
   ],
   "source": [
    "sorted(x,key=lambda x: len(x))"
   ]
  },
  {
   "cell_type": "code",
   "execution_count": 16,
   "id": "c741c129",
   "metadata": {},
   "outputs": [
    {
     "data": {
      "text/plain": [
       "[1, 1, 1, 2, 3, 5, 8, 13, 21, 34]"
      ]
     },
     "execution_count": 16,
     "metadata": {},
     "output_type": "execute_result"
    }
   ],
   "source": [
    "fib=lambda n: 1 if n<=2 else fib(n-1)+fib(n-2)\n",
    "[fib(i) for i in range(10)]"
   ]
  },
  {
   "cell_type": "code",
   "execution_count": 17,
   "id": "cf2353d9",
   "metadata": {},
   "outputs": [
    {
     "data": {
      "text/plain": [
       "120"
      ]
     },
     "execution_count": 17,
     "metadata": {},
     "output_type": "execute_result"
    }
   ],
   "source": [
    "# factorial using lambda function\n",
    "fact = lambda n: 1 if n==0 else n*fact(n-1)\n",
    "fact(5)"
   ]
  },
  {
   "cell_type": "code",
   "execution_count": 18,
   "id": "a2f40173",
   "metadata": {},
   "outputs": [],
   "source": [
    "def factorial(n):\n",
    "    if n==0:\n",
    "        return 1\n",
    "    else:\n",
    "        return n*factorial(n-1)"
   ]
  },
  {
   "cell_type": "code",
   "execution_count": 20,
   "id": "ecf6fb17",
   "metadata": {},
   "outputs": [
    {
     "data": {
      "text/plain": [
       "120"
      ]
     },
     "execution_count": 20,
     "metadata": {},
     "output_type": "execute_result"
    }
   ],
   "source": [
    "factorial(5)"
   ]
  },
  {
   "cell_type": "code",
   "execution_count": null,
   "id": "6a177ba0",
   "metadata": {},
   "outputs": [],
   "source": [
    "# map function : ChatGPT said:\n",
    "\n",
    "#The map() function in Python is a built-in function used to apply a function to each item in an iterable (like a list, tuple, etc.) and return a new iterable (a map object)\n",
    "#syntax  map(function, *iterables)"
   ]
  },
  {
   "cell_type": "code",
   "execution_count": 24,
   "id": "967117fc",
   "metadata": {},
   "outputs": [],
   "source": [
    "l=[1,2,3,4,5]\n",
    "def square(l):\n",
    "    sq=[]\n",
    "    for i in l:\n",
    "        sq.append(i**2)\n",
    "    return sq"
   ]
  },
  {
   "cell_type": "code",
   "execution_count": 25,
   "id": "6dafb31f",
   "metadata": {},
   "outputs": [
    {
     "data": {
      "text/plain": [
       "[1, 4, 9, 16, 25]"
      ]
     },
     "execution_count": 25,
     "metadata": {},
     "output_type": "execute_result"
    }
   ],
   "source": [
    "square(l)"
   ]
  },
  {
   "cell_type": "code",
   "execution_count": 26,
   "id": "fc8bb169",
   "metadata": {},
   "outputs": [],
   "source": [
    "def sq(x):\n",
    "    return x**2"
   ]
  },
  {
   "cell_type": "code",
   "execution_count": 27,
   "id": "dfc505f1",
   "metadata": {},
   "outputs": [
    {
     "data": {
      "text/plain": [
       "[1, 2, 3, 4, 5]"
      ]
     },
     "execution_count": 27,
     "metadata": {},
     "output_type": "execute_result"
    }
   ],
   "source": [
    "l"
   ]
  },
  {
   "cell_type": "code",
   "execution_count": 28,
   "id": "2e99ce0e",
   "metadata": {},
   "outputs": [
    {
     "data": {
      "text/plain": [
       "<map at 0x1dcdce8a230>"
      ]
     },
     "execution_count": 28,
     "metadata": {},
     "output_type": "execute_result"
    }
   ],
   "source": [
    "#map(func,iterable)\n",
    "map(sq,l)"
   ]
  },
  {
   "cell_type": "code",
   "execution_count": 29,
   "id": "9d8f28c2",
   "metadata": {},
   "outputs": [
    {
     "data": {
      "text/plain": [
       "[1, 4, 9, 16, 25]"
      ]
     },
     "execution_count": 29,
     "metadata": {},
     "output_type": "execute_result"
    }
   ],
   "source": [
    "list(map(sq,l))"
   ]
  },
  {
   "cell_type": "code",
   "execution_count": 30,
   "id": "2464a824",
   "metadata": {},
   "outputs": [],
   "source": [
    "def add(x):\n",
    "    return x+2"
   ]
  },
  {
   "cell_type": "code",
   "execution_count": 32,
   "id": "cb6488a9",
   "metadata": {},
   "outputs": [
    {
     "data": {
      "text/plain": [
       "[3, 4, 5, 6, 7]"
      ]
     },
     "execution_count": 32,
     "metadata": {},
     "output_type": "execute_result"
    }
   ],
   "source": [
    "list(map(add,l))"
   ]
  },
  {
   "cell_type": "code",
   "execution_count": 33,
   "id": "63737a8b",
   "metadata": {},
   "outputs": [],
   "source": [
    "# using lambda with map function"
   ]
  },
  {
   "cell_type": "code",
   "execution_count": 35,
   "id": "58749c33",
   "metadata": {},
   "outputs": [
    {
     "data": {
      "text/plain": [
       "[11, 12, 13, 14, 15]"
      ]
     },
     "execution_count": 35,
     "metadata": {},
     "output_type": "execute_result"
    }
   ],
   "source": [
    "list(map(lambda x: x+10,l))"
   ]
  },
  {
   "cell_type": "code",
   "execution_count": 36,
   "id": "737f591e",
   "metadata": {},
   "outputs": [],
   "source": [
    "l=[\"1\",\"2\",\"3\",\"4\",\"5\"]"
   ]
  },
  {
   "cell_type": "code",
   "execution_count": 37,
   "id": "799522e1",
   "metadata": {},
   "outputs": [
    {
     "data": {
      "text/plain": [
       "[1, 2, 3, 4, 5]"
      ]
     },
     "execution_count": 37,
     "metadata": {},
     "output_type": "execute_result"
    }
   ],
   "source": [
    "list(map(lambda x: int(x),l))"
   ]
  },
  {
   "cell_type": "code",
   "execution_count": 39,
   "id": "367d30bc",
   "metadata": {},
   "outputs": [
    {
     "data": {
      "text/plain": [
       "[50, 160, 270]"
      ]
     },
     "execution_count": 39,
     "metadata": {},
     "output_type": "execute_result"
    }
   ],
   "source": [
    "l1=[100,200,300]\n",
    "l2=[50,40,30]\n",
    "list(map(lambda x,y: x-y,l1,l2))"
   ]
  },
  {
   "cell_type": "code",
   "execution_count": 40,
   "id": "58290845",
   "metadata": {},
   "outputs": [
    {
     "data": {
      "text/plain": [
       "<map at 0x1dcdc6861a0>"
      ]
     },
     "execution_count": 40,
     "metadata": {},
     "output_type": "execute_result"
    }
   ],
   "source": [
    "s=\"pwskills\"\n",
    "map(lambda x: x.upper(),s)"
   ]
  },
  {
   "cell_type": "code",
   "execution_count": 41,
   "id": "34acb4e1",
   "metadata": {},
   "outputs": [
    {
     "data": {
      "text/plain": [
       "['P', 'W', 'S', 'K', 'I', 'L', 'L', 'S']"
      ]
     },
     "execution_count": 41,
     "metadata": {},
     "output_type": "execute_result"
    }
   ],
   "source": [
    "list(map(lambda x: x.upper(),s))"
   ]
  },
  {
   "cell_type": "code",
   "execution_count": 42,
   "id": "7e37a5ec",
   "metadata": {},
   "outputs": [],
   "source": [
    "words=[\"ajaz\",\"ahamad\",\"khan\"]"
   ]
  },
  {
   "cell_type": "code",
   "execution_count": 43,
   "id": "86799184",
   "metadata": {},
   "outputs": [
    {
     "data": {
      "text/plain": [
       "<map at 0x1dcdc49b790>"
      ]
     },
     "execution_count": 43,
     "metadata": {},
     "output_type": "execute_result"
    }
   ],
   "source": [
    "map(str.capitalize,words)"
   ]
  },
  {
   "cell_type": "code",
   "execution_count": 46,
   "id": "a66e3e7c",
   "metadata": {},
   "outputs": [
    {
     "data": {
      "text/plain": [
       "['Ajaz', 'Ahamad', 'Khan']"
      ]
     },
     "execution_count": 46,
     "metadata": {},
     "output_type": "execute_result"
    }
   ],
   "source": [
    "list(map(str.capitalize,words))"
   ]
  },
  {
   "cell_type": "code",
   "execution_count": null,
   "id": "acd91583",
   "metadata": {},
   "outputs": [],
   "source": [
    "# reduce function : folding/rejection\n",
    "# reduce also takes function and iterable as an argument but it reduces the iterable to a single value by applying the function cumulatively to the items of the iterable, from left to right.\n",
    "# syntax : reduce(function, iterable)\n",
    "# we have to import it from functools import reduce"
   ]
  },
  {
   "cell_type": "code",
   "execution_count": null,
   "id": "63551944",
   "metadata": {},
   "outputs": [
    {
     "data": {
      "text/plain": [
       "10"
      ]
     },
     "execution_count": 49,
     "metadata": {},
     "output_type": "execute_result"
    }
   ],
   "source": [
    "from functools import reduce\n",
    "l=[2,1,3,4]  # reduce will always takes two arguments\n",
    "reduce(lambda x,y: x+y,l)\n",
    "\n",
    "# it works as a firstly x=2 and y=1 then after adding it the value of x will be 3 and then the value of y will be three again after addoing it the value of x will be 6 and the value of y will be 4 then agian add it taht is your answer"
   ]
  },
  {
   "cell_type": "code",
   "execution_count": 50,
   "id": "ba566e55",
   "metadata": {},
   "outputs": [
    {
     "ename": "TypeError",
     "evalue": "<lambda>() missing 1 required positional argument: 'z'",
     "output_type": "error",
     "traceback": [
      "\u001b[1;31m---------------------------------------------------------------------------\u001b[0m",
      "\u001b[1;31mTypeError\u001b[0m                                 Traceback (most recent call last)",
      "Cell \u001b[1;32mIn[50], line 2\u001b[0m\n\u001b[0;32m      1\u001b[0m l\u001b[38;5;241m=\u001b[39m[\u001b[38;5;241m2\u001b[39m,\u001b[38;5;241m1\u001b[39m,\u001b[38;5;241m3\u001b[39m,\u001b[38;5;241m4\u001b[39m]  \u001b[38;5;66;03m# reduce will always takes two arguments\u001b[39;00m\n\u001b[1;32m----> 2\u001b[0m \u001b[43mreduce\u001b[49m\u001b[43m(\u001b[49m\u001b[38;5;28;43;01mlambda\u001b[39;49;00m\u001b[43m \u001b[49m\u001b[43mx\u001b[49m\u001b[43m,\u001b[49m\u001b[43my\u001b[49m\u001b[43m,\u001b[49m\u001b[43mz\u001b[49m\u001b[43m:\u001b[49m\u001b[43m \u001b[49m\u001b[43mx\u001b[49m\u001b[38;5;241;43m+\u001b[39;49m\u001b[43my\u001b[49m\u001b[38;5;241;43m+\u001b[39;49m\u001b[43mz\u001b[49m\u001b[43m,\u001b[49m\u001b[43ml\u001b[49m\u001b[43m)\u001b[49m\n",
      "\u001b[1;31mTypeError\u001b[0m: <lambda>() missing 1 required positional argument: 'z'"
     ]
    }
   ],
   "source": [
    "\n",
    "l=[2,1,3,4]  # reduce will always takes two arguments\n",
    "reduce(lambda x,y,z: x+y+z,l)"
   ]
  },
  {
   "cell_type": "code",
   "execution_count": 51,
   "id": "e55e3a04",
   "metadata": {},
   "outputs": [
    {
     "data": {
      "text/plain": [
       "'ajaz ahamad khan'"
      ]
     },
     "execution_count": 51,
     "metadata": {},
     "output_type": "execute_result"
    }
   ],
   "source": [
    "words=[\"ajaz\",\"ahamad\",\"khan\"]\n",
    "reduce(lambda x,y:x+ \" \" +y,words)"
   ]
  },
  {
   "cell_type": "code",
   "execution_count": 52,
   "id": "a63f9c47",
   "metadata": {},
   "outputs": [
    {
     "data": {
      "text/plain": [
       "10000"
      ]
     },
     "execution_count": 52,
     "metadata": {},
     "output_type": "execute_result"
    }
   ],
   "source": [
    "num=[1,2,5,100,1000,6,10000]\n",
    "reduce(lambda x,y: x if x>y else y,num)"
   ]
  },
  {
   "cell_type": "code",
   "execution_count": 53,
   "id": "cc9b4ae3",
   "metadata": {},
   "outputs": [
    {
     "data": {
      "text/plain": [
       "1000"
      ]
     },
     "execution_count": 53,
     "metadata": {},
     "output_type": "execute_result"
    }
   ],
   "source": [
    "num=[1,2,5,100,1000,6]\n",
    "reduce(lambda x,y: x if x>y else y,num)"
   ]
  },
  {
   "cell_type": "code",
   "execution_count": 58,
   "id": "0ab0f46b",
   "metadata": {},
   "outputs": [],
   "source": [
    "def factorial(n):\n",
    "    return reduce(lambda x, y: x * y, range(1, n + 1))"
   ]
  },
  {
   "cell_type": "code",
   "execution_count": 59,
   "id": "33156d71",
   "metadata": {},
   "outputs": [
    {
     "data": {
      "text/plain": [
       "120"
      ]
     },
     "execution_count": 59,
     "metadata": {},
     "output_type": "execute_result"
    }
   ],
   "source": [
    "factorial(5)"
   ]
  },
  {
   "cell_type": "code",
   "execution_count": null,
   "id": "2db7e2db",
   "metadata": {},
   "outputs": [
    {
     "data": {
      "text/plain": [
       "[2, 1, 3, 4]"
      ]
     },
     "execution_count": 60,
     "metadata": {},
     "output_type": "execute_result"
    }
   ],
   "source": [
    "# Filter function : it filters the data based on the condition provided in the function\n",
    "# syntax : filter(function, iterable)"
   ]
  },
  {
   "cell_type": "code",
   "execution_count": 61,
   "id": "da4155a1",
   "metadata": {},
   "outputs": [
    {
     "data": {
      "text/plain": [
       "[2, 1, 3, 4]"
      ]
     },
     "execution_count": 61,
     "metadata": {},
     "output_type": "execute_result"
    }
   ],
   "source": [
    "l"
   ]
  },
  {
   "cell_type": "code",
   "execution_count": 62,
   "id": "2fd48356",
   "metadata": {},
   "outputs": [
    {
     "data": {
      "text/plain": [
       "<filter at 0x1dcdc700f70>"
      ]
     },
     "execution_count": 62,
     "metadata": {},
     "output_type": "execute_result"
    }
   ],
   "source": [
    "filter(lambda x: x%2==0,l)"
   ]
  },
  {
   "cell_type": "code",
   "execution_count": 63,
   "id": "52616176",
   "metadata": {},
   "outputs": [
    {
     "data": {
      "text/plain": [
       "[2, 4]"
      ]
     },
     "execution_count": 63,
     "metadata": {},
     "output_type": "execute_result"
    }
   ],
   "source": [
    "list(filter(lambda x: x%2==0,l))"
   ]
  },
  {
   "cell_type": "code",
   "execution_count": 64,
   "id": "af459799",
   "metadata": {},
   "outputs": [
    {
     "data": {
      "text/plain": [
       "[1, 3]"
      ]
     },
     "execution_count": 64,
     "metadata": {},
     "output_type": "execute_result"
    }
   ],
   "source": [
    "list(filter(lambda x: x%2!=0,l))"
   ]
  },
  {
   "cell_type": "code",
   "execution_count": null,
   "id": "fd5a625a",
   "metadata": {},
   "outputs": [],
   "source": []
  }
 ],
 "metadata": {
  "kernelspec": {
   "display_name": "Python 3",
   "language": "python",
   "name": "python3"
  },
  "language_info": {
   "codemirror_mode": {
    "name": "ipython",
    "version": 3
   },
   "file_extension": ".py",
   "mimetype": "text/x-python",
   "name": "python",
   "nbconvert_exporter": "python",
   "pygments_lexer": "ipython3",
   "version": "3.10.11"
  }
 },
 "nbformat": 4,
 "nbformat_minor": 5
}
