{
 "cells": [
  {
   "cell_type": "markdown",
   "id": "bd161896",
   "metadata": {},
   "source": [
    "# Decorators"
   ]
  },
  {
   "cell_type": "markdown",
   "id": "6577bf52",
   "metadata": {},
   "source": [
    "A decorator is like a wrapper that adds extra features to a function without changing its actual code.\n",
    "\n",
    "Real-life Example:\n",
    "\n",
    "Imagine you have a car. A decorator is like putting a sticker or a spoiler on it — you didn’t change the engine, just added something extra on top."
   ]
  },
  {
   "cell_type": "code",
   "execution_count": null,
   "id": "623ee394",
   "metadata": {},
   "outputs": [],
   "source": [
    "# function decorator and class decorators\n",
    "\n",
    "# function decorators\n",
    "\n",
    "# to understand use case: say you want to use the line before computation and after computation of a function without changing the actual code of the function\n",
    "# after each time you create a function or  call function.\n",
    "# so it will take lot of time to write the same line again and again\n",
    "# so to avoid this we use decorators\n",
    "\n",
    "def my_decorator():\n",
    "    print(\"Before calling the function\")\n",
    "    print(11*25)# decorating actual computation with line above and below\n",
    "    print(\"After calling the function\")\n"
   ]
  },
  {
   "cell_type": "code",
   "execution_count": 3,
   "id": "0e22ba2f",
   "metadata": {},
   "outputs": [
    {
     "name": "stdout",
     "output_type": "stream",
     "text": [
      "Before calling the function\n",
      "275\n",
      "After calling the function\n"
     ]
    }
   ],
   "source": [
    "my_decorator()"
   ]
  },
  {
   "cell_type": "code",
   "execution_count": null,
   "id": "cbe73bdc",
   "metadata": {},
   "outputs": [],
   "source": [
    "#DEcorator approach for functions>> use case1\n",
    "def my_decorator(func): # this is the decorator function which takes another function as an argument\n",
    "    def wrapper(): # adds the functionality before and after the calling function\n",
    "        print(\"Before calling the function\")\n",
    "        func()  # Call the actual function\n",
    "        print(\"After calling the function\")\n",
    "    return wrapper\n"
   ]
  },
  {
   "cell_type": "code",
   "execution_count": null,
   "id": "4cd752ca",
   "metadata": {},
   "outputs": [],
   "source": [
    "@my_decorator # this is the decorator syntax which is used to decorate the function below\n",
    "def say_hello():\n",
    "    print(\"Hello!\")"
   ]
  },
  {
   "cell_type": "code",
   "execution_count": null,
   "id": "2bfd3b88",
   "metadata": {},
   "outputs": [
    {
     "name": "stdout",
     "output_type": "stream",
     "text": [
      "Before calling the function\n",
      "Hello!\n",
      "After calling the function\n"
     ]
    }
   ],
   "source": [
    "say_hello()\n",
    "# when say hello is called it is actually calling the decorator function\n",
    "# which in return in calling the wrapper function and then warpper function is calling the say_hello function "
   ]
  },
  {
   "cell_type": "code",
   "execution_count": 19,
   "id": "405b0083",
   "metadata": {},
   "outputs": [],
   "source": [
    "# another use case of function decorator\n",
    "\n",
    "import time\n",
    "def timer_decorator(func):\n",
    "    def timer():\n",
    "        start_time = time.time()  # Record the start time\n",
    "        func() # Call the actual function\n",
    "        end_time = time.time()  # Record the end time\n",
    "        print(\"the time for exceuting the code is\", end_time - start_time)\n",
    "    return timer"
   ]
  },
  {
   "cell_type": "code",
   "execution_count": 20,
   "id": "bf39c211",
   "metadata": {},
   "outputs": [],
   "source": [
    "@timer_decorator\n",
    "def func_test():\n",
    "    print(1555555554*2555566655565)"
   ]
  },
  {
   "cell_type": "code",
   "execution_count": 21,
   "id": "380925f6",
   "metadata": {},
   "outputs": [
    {
     "name": "stdout",
     "output_type": "stream",
     "text": [
      "3975325904681340758010\n",
      "the time for exceuting the code is 0.0\n"
     ]
    }
   ],
   "source": [
    "func_test()"
   ]
  },
  {
   "cell_type": "code",
   "execution_count": 22,
   "id": "97d3c498",
   "metadata": {},
   "outputs": [],
   "source": [
    "@timer_decorator\n",
    "def func_test():\n",
    "    print(1555555554*2555566655565+25525*255252525252525)"
   ]
  },
  {
   "cell_type": "code",
   "execution_count": 23,
   "id": "7b9a05be",
   "metadata": {},
   "outputs": [
    {
     "name": "stdout",
     "output_type": "stream",
     "text": [
      "3981841225388411458635\n",
      "the time for exceuting the code is 0.0\n"
     ]
    }
   ],
   "source": [
    "func_test()"
   ]
  },
  {
   "cell_type": "markdown",
   "id": "874b089f",
   "metadata": {},
   "source": [
    "# WHY DO NEED DECORATOR"
   ]
  },
  {
   "cell_type": "markdown",
   "id": "fcaeb7c9",
   "metadata": {},
   "source": [
    "REUSABILITY OF THE CODE , IT REUSE THE1 COMMON CODE\n",
    "ENHANCING THE FUNCTION WITHOUT MODIFYING THE ORIGINAL FUNCTION\n",
    "USE CASES, EXECUTION TIME OF CODE,LOGGING,CACHING,VALIDATION"
   ]
  },
  {
   "cell_type": "markdown",
   "id": "a26ffd3f",
   "metadata": {},
   "source": [
    "# CLASS DECORATOR"
   ]
  },
  {
   "cell_type": "code",
   "execution_count": 29,
   "id": "850ec1d4",
   "metadata": {},
   "outputs": [],
   "source": [
    "class decorator:\n",
    "    def __init__(self, func):#  similar to function decorator init takes function as an argument\n",
    "        self.func = func\n",
    "        print(\"Inside init method of the class decorator\")  \n",
    "\n",
    "    def __call__(self): # it is a special method which makes the class instance callable\n",
    "        print(\"Before calling the function\")\n",
    "        result = self.func()  # Call the actual function\n",
    "        print(\"After calling the function\")\n",
    "        return result"
   ]
  },
  {
   "cell_type": "code",
   "execution_count": 25,
   "id": "a0a49ed5",
   "metadata": {},
   "outputs": [],
   "source": [
    "def say_hello():\n",
    "    print(\"Hello!\")"
   ]
  },
  {
   "cell_type": "code",
   "execution_count": 26,
   "id": "791a60b7",
   "metadata": {},
   "outputs": [
    {
     "name": "stdout",
     "output_type": "stream",
     "text": [
      "Hello!\n"
     ]
    }
   ],
   "source": [
    "say_hello()"
   ]
  },
  {
   "cell_type": "code",
   "execution_count": 27,
   "id": "78645c1c",
   "metadata": {},
   "outputs": [
    {
     "name": "stdout",
     "output_type": "stream",
     "text": [
      "Before calling the function\n",
      "Hello!\n",
      "After calling the function\n"
     ]
    }
   ],
   "source": [
    "# as you include my decorator before say hello it will give error as it is not a function decorator\n",
    "@decorator\n",
    "def say_hello():\n",
    "    print(\"Hello!\")\n",
    "say_hello()"
   ]
  },
  {
   "cell_type": "code",
   "execution_count": 38,
   "id": "3c44e3fa",
   "metadata": {},
   "outputs": [
    {
     "name": "stdout",
     "output_type": "stream",
     "text": [
      "Inside init method of the class decorator\n"
     ]
    }
   ],
   "source": [
    "class decorator:\n",
    "    def __init__(self):#  similar to function decorator init takes function as an argument\n",
    "        #self.func = func\n",
    "        print(\"Inside init method of the class decorator\")  \n",
    "\n",
    "    def __call__(self): # it is a special method which makes the class instance callable\n",
    "        print(\"Before calling the function\")\n",
    "        #return result\n",
    "        print(\"After calling the function\")\n",
    "    \n",
    "d=decorator()# when you make object of class ,init is executed first"
   ]
  },
  {
   "cell_type": "code",
   "execution_count": 39,
   "id": "e18f5390",
   "metadata": {},
   "outputs": [
    {
     "name": "stdout",
     "output_type": "stream",
     "text": [
      "Before calling the function\n",
      "After calling the function\n"
     ]
    }
   ],
   "source": [
    "d()"
   ]
  },
  {
   "cell_type": "code",
   "execution_count": 40,
   "id": "a6d6f80c",
   "metadata": {},
   "outputs": [],
   "source": [
    "# some inbuild decorator\n",
    "# @classmethod : it takes the class itself as the first argument"
   ]
  },
  {
   "cell_type": "code",
   "execution_count": 46,
   "id": "7af1066f",
   "metadata": {},
   "outputs": [],
   "source": [
    "class Math:\n",
    "    @classmethod # takes refrence to the class itself to modify and acces class level attribute\n",
    "    \n",
    "    def add(cls,x,y):\n",
    "        return cls.__name__,x+y"
   ]
  },
  {
   "cell_type": "code",
   "execution_count": 47,
   "id": "9f1369b0",
   "metadata": {},
   "outputs": [
    {
     "data": {
      "text/plain": [
       "('Math', 5)"
      ]
     },
     "execution_count": 47,
     "metadata": {},
     "output_type": "execute_result"
    }
   ],
   "source": [
    "Math.add(2,3)"
   ]
  },
  {
   "cell_type": "code",
   "execution_count": 48,
   "id": "9bf91e64",
   "metadata": {},
   "outputs": [],
   "source": [
    "# class method is bound to class and not the instance of the class\n"
   ]
  },
  {
   "cell_type": "code",
   "execution_count": 49,
   "id": "1d9e2d26",
   "metadata": {},
   "outputs": [],
   "source": [
    "# another inbuild decorator is static method"
   ]
  },
  {
   "cell_type": "code",
   "execution_count": null,
   "id": "20d1dff6",
   "metadata": {},
   "outputs": [],
   "source": [
    "class Math:\n",
    "    @staticmethod\n",
    "    def add(x, y):  #  no need of self or cls\n",
    "        return x + y\n"
   ]
  },
  {
   "cell_type": "code",
   "execution_count": null,
   "id": "bddfcbf2",
   "metadata": {},
   "outputs": [
    {
     "data": {
      "text/plain": [
       "15"
      ]
     },
     "execution_count": 52,
     "metadata": {},
     "output_type": "execute_result"
    }
   ],
   "source": [
    "Math.add(10, 5)  # no need of making any object\n"
   ]
  },
  {
   "cell_type": "markdown",
   "id": "97bda438",
   "metadata": {},
   "source": [
    "# comparisam between class and static decorator"
   ]
  },
  {
   "cell_type": "markdown",
   "id": "761359ff",
   "metadata": {},
   "source": []
  },
  {
   "cell_type": "markdown",
   "id": "39dea21f",
   "metadata": {},
   "source": [
    "property decorator\n"
   ]
  },
  {
   "cell_type": "code",
   "execution_count": 53,
   "id": "2ee82579",
   "metadata": {},
   "outputs": [],
   "source": [
    "#The @property decorator lets you use a method like an attribute — so you can write code that looks cleaner and more natural."
   ]
  },
  {
   "cell_type": "code",
   "execution_count": 54,
   "id": "acd24b99",
   "metadata": {},
   "outputs": [],
   "source": [
    "class Person:\n",
    "    def __init__(self, name):\n",
    "        self._name = name  # \"_\" indicates it's for internal use\n",
    "\n",
    "    @property\n",
    "    def name(self):\n",
    "        print(\"Getting name...\")\n",
    "        return self._name\n"
   ]
  },
  {
   "cell_type": "code",
   "execution_count": 55,
   "id": "7a2b4544",
   "metadata": {},
   "outputs": [
    {
     "name": "stdout",
     "output_type": "stream",
     "text": [
      "Getting name...\n",
      "Alice\n"
     ]
    }
   ],
   "source": [
    "p = Person(\"Alice\")\n",
    "print(p.name)   # Looks like an attribute, but calls the method\n"
   ]
  },
  {
   "cell_type": "code",
   "execution_count": null,
   "id": "759d75ae",
   "metadata": {},
   "outputs": [],
   "source": []
  }
 ],
 "metadata": {
  "kernelspec": {
   "display_name": "Python 3",
   "language": "python",
   "name": "python3"
  },
  "language_info": {
   "codemirror_mode": {
    "name": "ipython",
    "version": 3
   },
   "file_extension": ".py",
   "mimetype": "text/x-python",
   "name": "python",
   "nbconvert_exporter": "python",
   "pygments_lexer": "ipython3",
   "version": "3.10.11"
  }
 },
 "nbformat": 4,
 "nbformat_minor": 5
}
