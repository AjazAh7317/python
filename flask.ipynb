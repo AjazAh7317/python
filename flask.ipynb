{
 "cells": [
  {
   "cell_type": "markdown",
   "id": "cbf2bed9",
   "metadata": {},
   "source": []
  },
  {
   "cell_type": "markdown",
   "id": "d3a2658f",
   "metadata": {},
   "source": [
    "An API (Application Programming Interface) is a set of rules and tools that allows different software programs to communicate with each other.\n",
    "\n",
    "Example in Real Life:\n",
    "\n",
    "Let’s say you're using a weather app on your phone. That app doesn't have all the weather data — instead, it sends a request to a weather service API, which replies with the current weather data.\n"
   ]
  },
  {
   "cell_type": "code",
   "execution_count": null,
   "id": "76dccac1",
   "metadata": {},
   "outputs": [],
   "source": [
    "# working of an API:\n",
    "# 1. Client sends a request to the server.\n",
    "# 2. Server processes the request.\n",
    "# 3. Server sends a response back to the client.\n",
    "# 4. Client receives and processes the response.\n",
    "# 5. Client may send additional requests based on the response.\n",
    "# 6. Server continues to handle requests and send responses as needed.\n",
    "# 7. Communication continues until the client or server terminates the connection.\n",
    "# 8. Both client and server log the interactions for monitoring and debugging purposes.\n",
    "# 9. API may enforce authentication and authorization for secure access.\n",
    "# 10. API documentation is provided for developers to understand how to use the API.\n",
    "# 11. Versioning is implemented to manage changes and updates to the API.\n",
    "\n",
    "# Example of a simple API interaction using Python's requests library"
   ]
  },
  {
   "cell_type": "code",
   "execution_count": null,
   "id": "f9d491aa",
   "metadata": {},
   "outputs": [],
   "source": [
    "# why we need API:\n",
    "# 1. To enable communication between different software systems.\n",
    "# 2. To allow developers to access and use functionalities of a service or application.\n",
    "# 3. To facilitate integration of third-party services and applications.\n"
   ]
  },
  {
   "cell_type": "markdown",
   "id": "9fdc64a9",
   "metadata": {},
   "source": [
    "FastAPI: fastapi is a modern,high performance web framwork for buliding API with python"
   ]
  },
  {
   "cell_type": "markdown",
   "id": "95a8777e",
   "metadata": {},
   "source": [
    "it is the combination of two libarary.    \n",
    "starlette + pydentic"
   ]
  },
  {
   "cell_type": "markdown",
   "id": "2ab14491",
   "metadata": {},
   "source": [
    "STARLETTE: satrlette manages how your API receives requests and send back responses."
   ]
  },
  {
   "cell_type": "markdown",
   "id": "f73c30dc",
   "metadata": {},
   "source": [
    "PYDENTIC: The Pydantic library is used for data validation and settings management in Python, based on Python type annotations.\n",
    "It is used to cheak if the data coming into your API is correct and in the right format\n"
   ]
  },
  {
   "cell_type": "markdown",
   "id": "428aa898",
   "metadata": {},
   "source": []
  }
 ],
 "metadata": {
  "language_info": {
   "name": "python"
  }
 },
 "nbformat": 4,
 "nbformat_minor": 5
}
