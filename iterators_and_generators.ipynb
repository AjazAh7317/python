{
 "cells": [
  {
   "cell_type": "code",
   "execution_count": 1,
   "id": "d0e7d86e",
   "metadata": {},
   "outputs": [
    {
     "name": "stdout",
     "output_type": "stream",
     "text": [
      "a\n",
      "j\n",
      "a\n",
      "z\n"
     ]
    }
   ],
   "source": [
    "for i in \"ajaz\":\n",
    "    print(i)\n",
    "    "
   ]
  },
  {
   "cell_type": "code",
   "execution_count": 2,
   "id": "a0780853",
   "metadata": {},
   "outputs": [],
   "source": [
    "#ITERABLE: An iterable in Python is any object you can loop over (i.e. you can iterate through it using a for loop)."
   ]
  },
  {
   "cell_type": "code",
   "execution_count": null,
   "id": "656ee37d",
   "metadata": {},
   "outputs": [],
   "source": [
    "#iteration: The process of iterating through an iterable is called iteration."
   ]
  },
  {
   "cell_type": "code",
   "execution_count": 3,
   "id": "8dc89892",
   "metadata": {},
   "outputs": [],
   "source": [
    "#iterator: An iterator is an object that represents a stream of data; it returns one element at a time when you call the next() function on it.\n"
   ]
  },
  {
   "cell_type": "code",
   "execution_count": 4,
   "id": "4b201f22",
   "metadata": {},
   "outputs": [
    {
     "name": "stdout",
     "output_type": "stream",
     "text": [
      "a\n",
      "j\n",
      "a\n",
      "z\n",
      "a\n",
      "h\n",
      "m\n",
      "a\n",
      "d\n"
     ]
    }
   ],
   "source": [
    "s=\"ajazahmad\"\n",
    "for i in s:\n",
    "    print(i)"
   ]
  },
  {
   "cell_type": "code",
   "execution_count": null,
   "id": "aa45e5d3",
   "metadata": {},
   "outputs": [],
   "source": []
  }
 ],
 "metadata": {
  "kernelspec": {
   "display_name": "Python 3",
   "language": "python",
   "name": "python3"
  },
  "language_info": {
   "codemirror_mode": {
    "name": "ipython",
    "version": 3
   },
   "file_extension": ".py",
   "mimetype": "text/x-python",
   "name": "python",
   "nbconvert_exporter": "python",
   "pygments_lexer": "ipython3",
   "version": "3.10.11"
  }
 },
 "nbformat": 4,
 "nbformat_minor": 5
}
