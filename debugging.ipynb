{
 "cells": [
  {
   "cell_type": "markdown",
   "id": "e9ca0108",
   "metadata": {},
   "source": [
    "Debugging : Debugging is the process of finding and fixing errors (bugs) in your code"
   ]
  },
  {
   "cell_type": "code",
   "execution_count": 7,
   "id": "8de63f0c",
   "metadata": {},
   "outputs": [],
   "source": [
    "def divide(a,b):\n",
    "    print(\"step1\")\n",
    "    print(\"step1\")\n",
    "    print(\"step1\")\n",
    "    \n",
    "    return a/b\n"
   ]
  },
  {
   "cell_type": "code",
   "execution_count": 8,
   "id": "f3386b47",
   "metadata": {},
   "outputs": [
    {
     "name": "stdout",
     "output_type": "stream",
     "text": [
      "step1\n",
      "step1\n",
      "step1\n"
     ]
    },
    {
     "data": {
      "text/plain": [
       "5.0"
      ]
     },
     "execution_count": 8,
     "metadata": {},
     "output_type": "execute_result"
    }
   ],
   "source": [
    "divide(10,2)"
   ]
  },
  {
   "cell_type": "code",
   "execution_count": 9,
   "id": "ce836925",
   "metadata": {},
   "outputs": [
    {
     "name": "stdout",
     "output_type": "stream",
     "text": [
      "step1\n",
      "step1\n",
      "step1\n"
     ]
    },
    {
     "ename": "ZeroDivisionError",
     "evalue": "division by zero",
     "output_type": "error",
     "traceback": [
      "\u001b[1;31m---------------------------------------------------------------------------\u001b[0m",
      "\u001b[1;31mZeroDivisionError\u001b[0m                         Traceback (most recent call last)",
      "Cell \u001b[1;32mIn[9], line 1\u001b[0m\n\u001b[1;32m----> 1\u001b[0m \u001b[43mdivide\u001b[49m\u001b[43m(\u001b[49m\u001b[38;5;241;43m10\u001b[39;49m\u001b[43m,\u001b[49m\u001b[38;5;241;43m0\u001b[39;49m\u001b[43m)\u001b[49m\n",
      "Cell \u001b[1;32mIn[7], line 6\u001b[0m, in \u001b[0;36mdivide\u001b[1;34m(a, b)\u001b[0m\n\u001b[0;32m      3\u001b[0m \u001b[38;5;28mprint\u001b[39m(\u001b[38;5;124m\"\u001b[39m\u001b[38;5;124mstep1\u001b[39m\u001b[38;5;124m\"\u001b[39m)\n\u001b[0;32m      4\u001b[0m \u001b[38;5;28mprint\u001b[39m(\u001b[38;5;124m\"\u001b[39m\u001b[38;5;124mstep1\u001b[39m\u001b[38;5;124m\"\u001b[39m)\n\u001b[1;32m----> 6\u001b[0m \u001b[38;5;28;01mreturn\u001b[39;00m \u001b[43ma\u001b[49m\u001b[38;5;241;43m/\u001b[39;49m\u001b[43mb\u001b[49m\n",
      "\u001b[1;31mZeroDivisionError\u001b[0m: division by zero"
     ]
    }
   ],
   "source": [
    "divide(10,0)"
   ]
  },
  {
   "cell_type": "code",
   "execution_count": null,
   "id": "bf32b9bc",
   "metadata": {},
   "outputs": [
    {
     "name": "stdout",
     "output_type": "stream",
     "text": [
      "step1\n",
      "step1\n",
      "step1\n",
      "step1\n",
      "step1\n",
      "step1\n",
      "step1\n",
      "step1\n",
      "step1\n",
      "step1\n",
      "step1\n",
      "step1\n",
      "step1\n",
      "step1\n",
      "step1\n",
      "step1\n",
      "step1\n",
      "step1\n",
      "step1\n",
      "step1\n",
      "step1\n",
      "step1\n",
      "step1\n",
      "step1\n",
      "step1\n",
      "step1\n",
      "step1\n",
      "step1\n",
      "step1\n",
      "step1\n"
     ]
    },
    {
     "ename": "ZeroDivisionError",
     "evalue": "division by zero",
     "output_type": "error",
     "traceback": [
      "\u001b[1;31m---------------------------------------------------------------------------\u001b[0m",
      "\u001b[1;31mZeroDivisionError\u001b[0m                         Traceback (most recent call last)",
      "Cell \u001b[1;32mIn[10], line 2\u001b[0m\n\u001b[0;32m      1\u001b[0m \u001b[38;5;28;01mfor\u001b[39;00m i \u001b[38;5;129;01min\u001b[39;00m \u001b[38;5;28mrange\u001b[39m(\u001b[38;5;241m-\u001b[39m\u001b[38;5;241m10\u001b[39m,\u001b[38;5;241m10\u001b[39m):\n\u001b[1;32m----> 2\u001b[0m     \u001b[43mdivide\u001b[49m\u001b[43m(\u001b[49m\u001b[43mi\u001b[49m\u001b[43m,\u001b[49m\u001b[43mi\u001b[49m\u001b[38;5;241;43m+\u001b[39;49m\u001b[38;5;241;43m1\u001b[39;49m\u001b[43m)\u001b[49m\n",
      "Cell \u001b[1;32mIn[7], line 6\u001b[0m, in \u001b[0;36mdivide\u001b[1;34m(a, b)\u001b[0m\n\u001b[0;32m      3\u001b[0m \u001b[38;5;28mprint\u001b[39m(\u001b[38;5;124m\"\u001b[39m\u001b[38;5;124mstep1\u001b[39m\u001b[38;5;124m\"\u001b[39m)\n\u001b[0;32m      4\u001b[0m \u001b[38;5;28mprint\u001b[39m(\u001b[38;5;124m\"\u001b[39m\u001b[38;5;124mstep1\u001b[39m\u001b[38;5;124m\"\u001b[39m)\n\u001b[1;32m----> 6\u001b[0m \u001b[38;5;28;01mreturn\u001b[39;00m \u001b[43ma\u001b[49m\u001b[38;5;241;43m/\u001b[39;49m\u001b[43mb\u001b[49m\n",
      "\u001b[1;31mZeroDivisionError\u001b[0m: division by zero"
     ]
    }
   ],
   "source": [
    "for i in range(-10,10):\n",
    "    divide(i,i+1)\n",
    "    \n",
    "# we have called divide function many times \n",
    "# somewhere its throwing the error,but where no idea in that case\n",
    "# we have to debug the code , for what case value of a and b parameter throwin g an error"
   ]
  },
  {
   "cell_type": "markdown",
   "id": "14ef72ef",
   "metadata": {},
   "source": [
    "# how to debug the code \n",
    "breaking the code(cheakpoint)\n",
    "executing the code\n",
    "inspecting the variables using print statement"
   ]
  },
  {
   "cell_type": "code",
   "execution_count": 11,
   "id": "73ad1679",
   "metadata": {},
   "outputs": [
    {
     "ename": "ZeroDivisionError",
     "evalue": "division by zero",
     "output_type": "error",
     "traceback": [
      "\u001b[1;31m---------------------------------------------------------------------------\u001b[0m",
      "\u001b[1;31mZeroDivisionError\u001b[0m                         Traceback (most recent call last)",
      "Cell \u001b[1;32mIn[11], line 4\u001b[0m\n\u001b[0;32m      2\u001b[0m     \u001b[38;5;28;01mreturn\u001b[39;00m a\u001b[38;5;241m/\u001b[39mb\n\u001b[0;32m      3\u001b[0m \u001b[38;5;28;01mfor\u001b[39;00m i \u001b[38;5;129;01min\u001b[39;00m \u001b[38;5;28mrange\u001b[39m(\u001b[38;5;241m-\u001b[39m\u001b[38;5;241m10\u001b[39m,\u001b[38;5;241m10\u001b[39m):\n\u001b[1;32m----> 4\u001b[0m     \u001b[43mdivide\u001b[49m\u001b[43m(\u001b[49m\u001b[43mi\u001b[49m\u001b[43m,\u001b[49m\u001b[43mi\u001b[49m\u001b[38;5;241;43m+\u001b[39;49m\u001b[38;5;241;43m1\u001b[39;49m\u001b[43m)\u001b[49m\n\u001b[0;32m      5\u001b[0m \u001b[38;5;66;03m# breaking the code , here we have to understand that there are two steps involved \u001b[39;00m\n\u001b[0;32m      6\u001b[0m \u001b[38;5;66;03m# first a loop and second calling divide function in loop\u001b[39;00m\n",
      "Cell \u001b[1;32mIn[11], line 2\u001b[0m, in \u001b[0;36mdivide\u001b[1;34m(a, b)\u001b[0m\n\u001b[0;32m      1\u001b[0m \u001b[38;5;28;01mdef\u001b[39;00m\u001b[38;5;250m \u001b[39m\u001b[38;5;21mdivide\u001b[39m(a,b):\n\u001b[1;32m----> 2\u001b[0m     \u001b[38;5;28;01mreturn\u001b[39;00m \u001b[43ma\u001b[49m\u001b[38;5;241;43m/\u001b[39;49m\u001b[43mb\u001b[49m\n",
      "\u001b[1;31mZeroDivisionError\u001b[0m: division by zero"
     ]
    }
   ],
   "source": [
    "def divide(a,b):\n",
    "    return a/b\n",
    "for i in range(-10,10):\n",
    "    divide(i,i+1)\n",
    "# breaking the code , here we have to understand that there are two steps involved \n",
    "# first a loop and second calling divide function in loop"
   ]
  },
  {
   "cell_type": "code",
   "execution_count": 12,
   "id": "45846e49",
   "metadata": {},
   "outputs": [
    {
     "name": "stdout",
     "output_type": "stream",
     "text": [
      "-10 -9\n",
      "-9 -8\n",
      "-8 -7\n",
      "-7 -6\n",
      "-6 -5\n",
      "-5 -4\n",
      "-4 -3\n",
      "-3 -2\n",
      "-2 -1\n",
      "-1 0\n"
     ]
    },
    {
     "ename": "ZeroDivisionError",
     "evalue": "division by zero",
     "output_type": "error",
     "traceback": [
      "\u001b[1;31m---------------------------------------------------------------------------\u001b[0m",
      "\u001b[1;31mZeroDivisionError\u001b[0m                         Traceback (most recent call last)",
      "Cell \u001b[1;32mIn[12], line 6\u001b[0m\n\u001b[0;32m      4\u001b[0m \u001b[38;5;28;01mfor\u001b[39;00m i \u001b[38;5;129;01min\u001b[39;00m \u001b[38;5;28mrange\u001b[39m(\u001b[38;5;241m-\u001b[39m\u001b[38;5;241m10\u001b[39m,\u001b[38;5;241m10\u001b[39m):\n\u001b[0;32m      5\u001b[0m     \u001b[38;5;28mprint\u001b[39m(i,i\u001b[38;5;241m+\u001b[39m\u001b[38;5;241m1\u001b[39m)\n\u001b[1;32m----> 6\u001b[0m     \u001b[43mdivide\u001b[49m\u001b[43m(\u001b[49m\u001b[43mi\u001b[49m\u001b[43m,\u001b[49m\u001b[43mi\u001b[49m\u001b[38;5;241;43m+\u001b[39;49m\u001b[38;5;241;43m1\u001b[39;49m\u001b[43m)\u001b[49m\n",
      "Cell \u001b[1;32mIn[12], line 3\u001b[0m, in \u001b[0;36mdivide\u001b[1;34m(a, b)\u001b[0m\n\u001b[0;32m      2\u001b[0m \u001b[38;5;28;01mdef\u001b[39;00m\u001b[38;5;250m \u001b[39m\u001b[38;5;21mdivide\u001b[39m(a,b):\n\u001b[1;32m----> 3\u001b[0m     \u001b[38;5;28;01mreturn\u001b[39;00m \u001b[43ma\u001b[49m\u001b[38;5;241;43m/\u001b[39;49m\u001b[43mb\u001b[49m\n",
      "\u001b[1;31mZeroDivisionError\u001b[0m: division by zero"
     ]
    }
   ],
   "source": [
    "# using print statement to debug\n",
    "def divide(a,b):\n",
    "    return a/b\n",
    "for i in range(-10,10):\n",
    "    print(i,i+1)\n",
    "    divide(i,i+1)"
   ]
  },
  {
   "cell_type": "code",
   "execution_count": 13,
   "id": "b120f34d",
   "metadata": {},
   "outputs": [
    {
     "name": "stdout",
     "output_type": "stream",
     "text": [
      "-10 -9\n",
      "-10 -9\n",
      "-9 -8\n",
      "-9 -8\n",
      "-8 -7\n",
      "-8 -7\n",
      "-7 -6\n",
      "-7 -6\n",
      "-6 -5\n",
      "-6 -5\n",
      "-5 -4\n",
      "-5 -4\n",
      "-4 -3\n",
      "-4 -3\n",
      "-3 -2\n",
      "-3 -2\n",
      "-2 -1\n",
      "-2 -1\n",
      "-1 0\n",
      "-1 0\n"
     ]
    },
    {
     "ename": "ZeroDivisionError",
     "evalue": "division by zero",
     "output_type": "error",
     "traceback": [
      "\u001b[1;31m---------------------------------------------------------------------------\u001b[0m",
      "\u001b[1;31mZeroDivisionError\u001b[0m                         Traceback (most recent call last)",
      "Cell \u001b[1;32mIn[13], line 7\u001b[0m\n\u001b[0;32m      5\u001b[0m \u001b[38;5;28;01mfor\u001b[39;00m i \u001b[38;5;129;01min\u001b[39;00m \u001b[38;5;28mrange\u001b[39m(\u001b[38;5;241m-\u001b[39m\u001b[38;5;241m10\u001b[39m,\u001b[38;5;241m10\u001b[39m):\n\u001b[0;32m      6\u001b[0m     \u001b[38;5;28mprint\u001b[39m(i,i\u001b[38;5;241m+\u001b[39m\u001b[38;5;241m1\u001b[39m)\n\u001b[1;32m----> 7\u001b[0m     \u001b[43mdivide\u001b[49m\u001b[43m(\u001b[49m\u001b[43mi\u001b[49m\u001b[43m,\u001b[49m\u001b[43mi\u001b[49m\u001b[38;5;241;43m+\u001b[39;49m\u001b[38;5;241;43m1\u001b[39;49m\u001b[43m)\u001b[49m\n",
      "Cell \u001b[1;32mIn[13], line 4\u001b[0m, in \u001b[0;36mdivide\u001b[1;34m(a, b)\u001b[0m\n\u001b[0;32m      2\u001b[0m \u001b[38;5;28;01mdef\u001b[39;00m\u001b[38;5;250m \u001b[39m\u001b[38;5;21mdivide\u001b[39m(a,b):\n\u001b[0;32m      3\u001b[0m     \u001b[38;5;28mprint\u001b[39m(a,b)\n\u001b[1;32m----> 4\u001b[0m     \u001b[38;5;28;01mreturn\u001b[39;00m \u001b[43ma\u001b[49m\u001b[38;5;241;43m/\u001b[39;49m\u001b[43mb\u001b[49m\n",
      "\u001b[1;31mZeroDivisionError\u001b[0m: division by zero"
     ]
    }
   ],
   "source": [
    "# using another print statement inside function\n",
    "def divide(a,b):\n",
    "    print(a,b)\n",
    "    return a/b\n",
    "for i in range(-10,10):\n",
    "    print(i,i+1)\n",
    "    divide(i,i+1)"
   ]
  },
  {
   "cell_type": "code",
   "execution_count": null,
   "id": "5322803e",
   "metadata": {},
   "outputs": [
    {
     "name": "stdout",
     "output_type": "stream",
     "text": [
      "-10 -9\n",
      "-10 -9\n",
      "-9 -8\n",
      "-9 -8\n",
      "-8 -7\n",
      "-8 -7\n",
      "-7 -6\n",
      "-7 -6\n",
      "-6 -5\n",
      "-6 -5\n",
      "-5 -4\n",
      "-5 -4\n",
      "-4 -3\n",
      "-4 -3\n",
      "-3 -2\n",
      "-3 -2\n",
      "-2 -1\n",
      "-2 -1\n",
      "-1 0\n",
      "-1 0\n",
      "0 1\n",
      "0 1\n",
      "1 2\n",
      "1 2\n",
      "2 3\n",
      "2 3\n",
      "3 4\n",
      "3 4\n",
      "4 5\n",
      "4 5\n",
      "5 6\n",
      "5 6\n",
      "6 7\n",
      "6 7\n",
      "7 8\n",
      "7 8\n",
      "8 9\n",
      "8 9\n",
      "9 10\n",
      "9 10\n"
     ]
    }
   ],
   "source": [
    "# now from print statement we have understand that when b=0 , it throws an error\n",
    "def divide(a,b):\n",
    "    print(a,b)\n",
    "    #breaking the code in terms of execution\n",
    "    if b==0:\n",
    "        return \"zero division error\"\n",
    "    return a/b\n",
    "for i in range(-10,10):\n",
    "    print(i,i+1)\n",
    "    divide(i,i+1)"
   ]
  },
  {
   "cell_type": "markdown",
   "id": "f3065d65",
   "metadata": {},
   "source": [
    "# print statement is not a pythonic way to debug"
   ]
  },
  {
   "cell_type": "code",
   "execution_count": 16,
   "id": "5ae19069",
   "metadata": {},
   "outputs": [],
   "source": [
    "# print statement is good for simple script but not complex\n",
    "# in console/terminal all the print statement will be lost\n",
    "# you use logging instead of print statement"
   ]
  },
  {
   "cell_type": "markdown",
   "id": "274650a2",
   "metadata": {},
   "source": [
    "# logging :\n"
   ]
  },
  {
   "cell_type": "markdown",
   "id": "e2cdd9ee",
   "metadata": {},
   "source": [
    "it records the state and flow of your program/code software it is useful for monitering and debugging your code, it shows how program behaves over time."
   ]
  },
  {
   "cell_type": "markdown",
   "id": "d1ba8248",
   "metadata": {},
   "source": []
  },
  {
   "cell_type": "code",
   "execution_count": 17,
   "id": "55c07509",
   "metadata": {},
   "outputs": [],
   "source": [
    "# analogy: diary entry since childhood to now ,we will understand how we were evolved \n",
    "# similrly in complex scripts to understand hoe your code is changing the result over the time , you can log it "
   ]
  },
  {
   "cell_type": "code",
   "execution_count": 18,
   "id": "361d9b3c",
   "metadata": {},
   "outputs": [],
   "source": [
    "# theoratical use case explanation\n",
    "# see the diffre ct steps of cofing below\n",
    "#step1: remove the some element of list\n",
    "# step2: capitalize uppes case\n",
    "# step3: remove metropolitan city\n",
    "# step 4 lower case \n",
    "# if after step 3 the list becomes empty ,step 4 can throw error , you can log the rest debug"
   ]
  },
  {
   "cell_type": "code",
   "execution_count": 19,
   "id": "e942465b",
   "metadata": {},
   "outputs": [],
   "source": [
    "import logging"
   ]
  },
  {
   "cell_type": "code",
   "execution_count": 21,
   "id": "d1722fe3",
   "metadata": {},
   "outputs": [],
   "source": [
    "logging.basicConfig(filename='test.log' ,level=logging.INFO)"
   ]
  },
  {
   "cell_type": "code",
   "execution_count": 22,
   "id": "79c39943",
   "metadata": {},
   "outputs": [],
   "source": [
    "logging.info(\"this is my normal infromation about the sotware\")"
   ]
  },
  {
   "cell_type": "code",
   "execution_count": 28,
   "id": "a42c2297",
   "metadata": {},
   "outputs": [],
   "source": [
    "logging.warning(\"there can be empty list here\")"
   ]
  },
  {
   "cell_type": "code",
   "execution_count": 24,
   "id": "d9cbc2b2",
   "metadata": {},
   "outputs": [],
   "source": [
    "logging.debug(\"the lenghtnof the list  is\")"
   ]
  },
  {
   "cell_type": "code",
   "execution_count": 25,
   "id": "b492a4f2",
   "metadata": {},
   "outputs": [],
   "source": [
    "logging.error(\"some error has happened\")"
   ]
  },
  {
   "cell_type": "code",
   "execution_count": 27,
   "id": "4947d1a0",
   "metadata": {},
   "outputs": [],
   "source": [
    "logging.critical(\"the software is stopped running\")"
   ]
  },
  {
   "cell_type": "code",
   "execution_count": 29,
   "id": "76765dd1",
   "metadata": {},
   "outputs": [],
   "source": [
    "logging.shutdown()"
   ]
  },
  {
   "cell_type": "markdown",
   "id": "f162a744",
   "metadata": {},
   "source": [
    "1 DEBUG: lowest level of logging to give detailed information of any varibale,msg very helpful while debugging ,\n",
    "2.INFO: this is to convey the code is  working as excepted\n",
    "example: \" data analysis is done\" .\n",
    "3  WARNING: this is used to indicate that something unexpected heppened or potential isuue in the code \n",
    "4 ERROR: series problem with function.\n",
    "5 CRITICAL: termination of program/code/software."
   ]
  },
  {
   "cell_type": "markdown",
   "id": "151991e2",
   "metadata": {},
   "source": [
    "the above level of logging is executed in the same order dubug being lowest priority and critical being heighest priority.\n",
    "while definig the level logging,basicCnfig, from that level the logs will be logged or another words the log lev el priority will start from that level which is nused to initialize the logging \n",
    "\n",
    "example:  if you initialize with warning then only warning,error,critical msgs will be logged , debug and info will not be logged "
   ]
  },
  {
   "cell_type": "code",
   "execution_count": 35,
   "id": "a00a5ed8",
   "metadata": {},
   "outputs": [],
   "source": [
    "import logging\n",
    "\n",
    "logging.basicConfig(\n",
    "    filename='test_new.log',\n",
    "    level=logging.DEBUG,\n",
    "    format='%(asctime)s %(message)s'\n",
    ")\n"
   ]
  },
  {
   "cell_type": "code",
   "execution_count": 36,
   "id": "73e95617",
   "metadata": {},
   "outputs": [],
   "source": [
    "logging.debug(\"this is my debugging messages\")\n",
    "logging.info(\"this is my info messages\")\n",
    "logging.warning(\"this is my warning messages\")\n",
    "logging.shutdown()"
   ]
  },
  {
   "cell_type": "code",
   "execution_count": 38,
   "id": "b05ed051",
   "metadata": {},
   "outputs": [],
   "source": [
    "logging.shutdown()"
   ]
  },
  {
   "cell_type": "code",
   "execution_count": 39,
   "id": "c8cd229f",
   "metadata": {},
   "outputs": [],
   "source": [
    "# use case example\n",
    "import logging \n",
    "logging.basicConfig(\n",
    "    filename='program.log',\n",
    "    level=logging.DEBUG,\n",
    "    format='%(asctime)s %(message)s'\n",
    ")"
   ]
  },
  {
   "cell_type": "code",
   "execution_count": 42,
   "id": "00caf9dc",
   "metadata": {},
   "outputs": [],
   "source": [
    "#WAP  to seprate the integer and string in two list seprately\n",
    "l=[1,\"ajaz\",[2,\"ahamad\"],4,[3,\"python\"]]"
   ]
  },
  {
   "cell_type": "code",
   "execution_count": 44,
   "id": "68e02f13",
   "metadata": {},
   "outputs": [
    {
     "data": {
      "text/plain": [
       "[1, 'ajaz', [2, 'ahamad'], 4, [3, 'python']]"
      ]
     },
     "execution_count": 44,
     "metadata": {},
     "output_type": "execute_result"
    }
   ],
   "source": [
    "l"
   ]
  },
  {
   "cell_type": "code",
   "execution_count": 45,
   "id": "1481c65a",
   "metadata": {},
   "outputs": [],
   "source": [
    "l1_int=[]\n",
    "l2_str=[]\n",
    "for i in l:\n",
    "    logging.info(f\"processing ech elemet {i}\")\n",
    "    if type(i)==list:\n",
    "        for j in i:\n",
    "            logging.info(f\"processing sublist element{j}\")\n",
    "            if type(j)==int:\n",
    "                l1_int.append(j)\n",
    "    elif type(i)==int:\n",
    "        l1_int.append(i)\n",
    "    else:\n",
    "        l2_str.append(i)\n",
    "logging.info(f\"the result is :{l1_int},{l2_str}\")\n",
    "        "
   ]
  },
  {
   "cell_type": "code",
   "execution_count": null,
   "id": "3f50a78c",
   "metadata": {},
   "outputs": [],
   "source": []
  }
 ],
 "metadata": {
  "kernelspec": {
   "display_name": "Python 3",
   "language": "python",
   "name": "python3"
  },
  "language_info": {
   "codemirror_mode": {
    "name": "ipython",
    "version": 3
   },
   "file_extension": ".py",
   "mimetype": "text/x-python",
   "name": "python",
   "nbconvert_exporter": "python",
   "pygments_lexer": "ipython3",
   "version": "3.10.11"
  }
 },
 "nbformat": 4,
 "nbformat_minor": 5
}
